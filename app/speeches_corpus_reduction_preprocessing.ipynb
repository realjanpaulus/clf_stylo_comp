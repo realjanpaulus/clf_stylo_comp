{
 "cells": [
  {
   "cell_type": "markdown",
   "metadata": {},
   "source": [
    "# Speeches Corpus (Reduction & Preprocessing)"
   ]
  },
  {
   "cell_type": "code",
   "execution_count": 1,
   "metadata": {},
   "outputs": [],
   "source": [
    "import matplotlib.pyplot as plt\n",
    "from nltk import word_tokenize\n",
    "import numpy as np\n",
    "import pandas as pd\n",
    "from utils import cut_author_from_text, unify_texts_amount"
   ]
  },
  {
   "cell_type": "code",
   "execution_count": 2,
   "metadata": {},
   "outputs": [],
   "source": [
    "corpus = pd.read_csv(\"../data/speeches_corpus.csv\")"
   ]
  },
  {
   "cell_type": "code",
   "execution_count": 3,
   "metadata": {},
   "outputs": [
    {
     "data": {
      "text/html": [
       "<div>\n",
       "<style scoped>\n",
       "    .dataframe tbody tr th:only-of-type {\n",
       "        vertical-align: middle;\n",
       "    }\n",
       "\n",
       "    .dataframe tbody tr th {\n",
       "        vertical-align: top;\n",
       "    }\n",
       "\n",
       "    .dataframe thead th {\n",
       "        text-align: right;\n",
       "    }\n",
       "</style>\n",
       "<table border=\"1\" class=\"dataframe\">\n",
       "  <thead>\n",
       "    <tr style=\"text-align: right;\">\n",
       "      <th></th>\n",
       "      <th>author</th>\n",
       "      <th>title</th>\n",
       "      <th>text</th>\n",
       "    </tr>\n",
       "  </thead>\n",
       "  <tbody>\n",
       "    <tr>\n",
       "      <th>0</th>\n",
       "      <td>Gerhard Schröder</td>\n",
       "      <td>Rede des Bundeskanzlers zur Eröffnung der 52. ...</td>\n",
       "      <td>es ist angekündigt worden , man sollte im Beru...</td>\n",
       "    </tr>\n",
       "    <tr>\n",
       "      <th>1</th>\n",
       "      <td>Julian Nida-Rümelin</td>\n",
       "      <td>Redebeitrag von Staatsminister Nida-Rümelin in...</td>\n",
       "      <td>Frau Präsidentin ! An Sie gerichtet , Herr Bör...</td>\n",
       "    </tr>\n",
       "    <tr>\n",
       "      <th>2</th>\n",
       "      <td>Gerhard Schröder</td>\n",
       "      <td>Interview mit Bundeskanzler Schröder in 'Berli...</td>\n",
       "      <td>Frage ( Peter Hahne ) : Bevor wir uns über den...</td>\n",
       "    </tr>\n",
       "    <tr>\n",
       "      <th>3</th>\n",
       "      <td>Gerhard Schröder</td>\n",
       "      <td>Rede von Bundeskanzler Gerhard Schröder bei de...</td>\n",
       "      <td>Einen Satz von Ihnen , Herr Dr. Bernotat , hab...</td>\n",
       "    </tr>\n",
       "    <tr>\n",
       "      <th>4</th>\n",
       "      <td>Gerhard Schröder</td>\n",
       "      <td>Rede von Bundeskanzler Gerhard Schröder auf de...</td>\n",
       "      <td>diese Jahresversammlung der Hochschulrektorenk...</td>\n",
       "    </tr>\n",
       "  </tbody>\n",
       "</table>\n",
       "</div>"
      ],
      "text/plain": [
       "                author                                              title  \\\n",
       "0     Gerhard Schröder  Rede des Bundeskanzlers zur Eröffnung der 52. ...   \n",
       "1  Julian Nida-Rümelin  Redebeitrag von Staatsminister Nida-Rümelin in...   \n",
       "2     Gerhard Schröder  Interview mit Bundeskanzler Schröder in 'Berli...   \n",
       "3     Gerhard Schröder  Rede von Bundeskanzler Gerhard Schröder bei de...   \n",
       "4     Gerhard Schröder  Rede von Bundeskanzler Gerhard Schröder auf de...   \n",
       "\n",
       "                                                text  \n",
       "0  es ist angekündigt worden , man sollte im Beru...  \n",
       "1  Frau Präsidentin ! An Sie gerichtet , Herr Bör...  \n",
       "2  Frage ( Peter Hahne ) : Bevor wir uns über den...  \n",
       "3  Einen Satz von Ihnen , Herr Dr. Bernotat , hab...  \n",
       "4  diese Jahresversammlung der Hochschulrektorenk...  "
      ]
     },
     "execution_count": 3,
     "metadata": {},
     "output_type": "execute_result"
    }
   ],
   "source": [
    "corpus.head()"
   ]
  },
  {
   "cell_type": "markdown",
   "metadata": {},
   "source": [
    "## Tokenizing text"
   ]
  },
  {
   "cell_type": "code",
   "execution_count": 4,
   "metadata": {},
   "outputs": [
    {
     "name": "stdout",
     "output_type": "stream",
     "text": [
      "CPU times: user 58.7 s, sys: 568 ms, total: 59.3 s\n",
      "Wall time: 59.8 s\n"
     ]
    }
   ],
   "source": [
    "%%time\n",
    "corpus[\"text\"] = corpus[\"text\"].apply(word_tokenize)"
   ]
  },
  {
   "cell_type": "code",
   "execution_count": 5,
   "metadata": {},
   "outputs": [],
   "source": [
    "corpus[\"text\"] = corpus[\"text\"].apply(\" \".join)"
   ]
  },
  {
   "cell_type": "code",
   "execution_count": 6,
   "metadata": {},
   "outputs": [
    {
     "data": {
      "text/html": [
       "<div>\n",
       "<style scoped>\n",
       "    .dataframe tbody tr th:only-of-type {\n",
       "        vertical-align: middle;\n",
       "    }\n",
       "\n",
       "    .dataframe tbody tr th {\n",
       "        vertical-align: top;\n",
       "    }\n",
       "\n",
       "    .dataframe thead th {\n",
       "        text-align: right;\n",
       "    }\n",
       "</style>\n",
       "<table border=\"1\" class=\"dataframe\">\n",
       "  <thead>\n",
       "    <tr style=\"text-align: right;\">\n",
       "      <th></th>\n",
       "      <th>author</th>\n",
       "      <th>title</th>\n",
       "      <th>text</th>\n",
       "    </tr>\n",
       "  </thead>\n",
       "  <tbody>\n",
       "    <tr>\n",
       "      <th>0</th>\n",
       "      <td>Gerhard Schröder</td>\n",
       "      <td>Rede des Bundeskanzlers zur Eröffnung der 52. ...</td>\n",
       "      <td>es ist angekündigt worden , man sollte im Beru...</td>\n",
       "    </tr>\n",
       "    <tr>\n",
       "      <th>1</th>\n",
       "      <td>Julian Nida-Rümelin</td>\n",
       "      <td>Redebeitrag von Staatsminister Nida-Rümelin in...</td>\n",
       "      <td>Frau Präsidentin ! An Sie gerichtet , Herr Bör...</td>\n",
       "    </tr>\n",
       "    <tr>\n",
       "      <th>2</th>\n",
       "      <td>Gerhard Schröder</td>\n",
       "      <td>Interview mit Bundeskanzler Schröder in 'Berli...</td>\n",
       "      <td>Frage ( Peter Hahne ) : Bevor wir uns über den...</td>\n",
       "    </tr>\n",
       "    <tr>\n",
       "      <th>3</th>\n",
       "      <td>Gerhard Schröder</td>\n",
       "      <td>Rede von Bundeskanzler Gerhard Schröder bei de...</td>\n",
       "      <td>Einen Satz von Ihnen , Herr Dr. Bernotat , hab...</td>\n",
       "    </tr>\n",
       "    <tr>\n",
       "      <th>4</th>\n",
       "      <td>Gerhard Schröder</td>\n",
       "      <td>Rede von Bundeskanzler Gerhard Schröder auf de...</td>\n",
       "      <td>diese Jahresversammlung der Hochschulrektorenk...</td>\n",
       "    </tr>\n",
       "  </tbody>\n",
       "</table>\n",
       "</div>"
      ],
      "text/plain": [
       "                author                                              title  \\\n",
       "0     Gerhard Schröder  Rede des Bundeskanzlers zur Eröffnung der 52. ...   \n",
       "1  Julian Nida-Rümelin  Redebeitrag von Staatsminister Nida-Rümelin in...   \n",
       "2     Gerhard Schröder  Interview mit Bundeskanzler Schröder in 'Berli...   \n",
       "3     Gerhard Schröder  Rede von Bundeskanzler Gerhard Schröder bei de...   \n",
       "4     Gerhard Schröder  Rede von Bundeskanzler Gerhard Schröder auf de...   \n",
       "\n",
       "                                                text  \n",
       "0  es ist angekündigt worden , man sollte im Beru...  \n",
       "1  Frau Präsidentin ! An Sie gerichtet , Herr Bör...  \n",
       "2  Frage ( Peter Hahne ) : Bevor wir uns über den...  \n",
       "3  Einen Satz von Ihnen , Herr Dr. Bernotat , hab...  \n",
       "4  diese Jahresversammlung der Hochschulrektorenk...  "
      ]
     },
     "execution_count": 6,
     "metadata": {},
     "output_type": "execute_result"
    }
   ],
   "source": [
    "corpus.head()"
   ]
  },
  {
   "cell_type": "markdown",
   "metadata": {},
   "source": [
    "## Cut authors from text column"
   ]
  },
  {
   "cell_type": "code",
   "execution_count": 7,
   "metadata": {},
   "outputs": [],
   "source": [
    "ccorpus = cut_author_from_text(corpus)"
   ]
  },
  {
   "cell_type": "code",
   "execution_count": 8,
   "metadata": {},
   "outputs": [
    {
     "data": {
      "text/html": [
       "<div>\n",
       "<style scoped>\n",
       "    .dataframe tbody tr th:only-of-type {\n",
       "        vertical-align: middle;\n",
       "    }\n",
       "\n",
       "    .dataframe tbody tr th {\n",
       "        vertical-align: top;\n",
       "    }\n",
       "\n",
       "    .dataframe thead th {\n",
       "        text-align: right;\n",
       "    }\n",
       "</style>\n",
       "<table border=\"1\" class=\"dataframe\">\n",
       "  <thead>\n",
       "    <tr style=\"text-align: right;\">\n",
       "      <th></th>\n",
       "      <th>author</th>\n",
       "      <th>title</th>\n",
       "      <th>text</th>\n",
       "    </tr>\n",
       "  </thead>\n",
       "  <tbody>\n",
       "    <tr>\n",
       "      <th>0</th>\n",
       "      <td>Gerhard Schröder</td>\n",
       "      <td>Rede des Bundeskanzlers zur Eröffnung der 52. ...</td>\n",
       "      <td>es ist angekündigt worden , man sollte im Beru...</td>\n",
       "    </tr>\n",
       "    <tr>\n",
       "      <th>1</th>\n",
       "      <td>Julian Nida-Rümelin</td>\n",
       "      <td>Redebeitrag von Staatsminister Nida-Rümelin in...</td>\n",
       "      <td>Frau Präsidentin ! An Sie gerichtet , Herr Bör...</td>\n",
       "    </tr>\n",
       "    <tr>\n",
       "      <th>2</th>\n",
       "      <td>Gerhard Schröder</td>\n",
       "      <td>Interview mit Bundeskanzler Schröder in 'Berli...</td>\n",
       "      <td>Frage ( Peter Hahne ) : Bevor wir uns über den...</td>\n",
       "    </tr>\n",
       "    <tr>\n",
       "      <th>3</th>\n",
       "      <td>Gerhard Schröder</td>\n",
       "      <td>Rede von Bundeskanzler Gerhard Schröder bei de...</td>\n",
       "      <td>Einen Satz von Ihnen , Herr Dr. Bernotat , hab...</td>\n",
       "    </tr>\n",
       "    <tr>\n",
       "      <th>4</th>\n",
       "      <td>Gerhard Schröder</td>\n",
       "      <td>Rede von Bundeskanzler Gerhard Schröder auf de...</td>\n",
       "      <td>diese Jahresversammlung der Hochschulrektorenk...</td>\n",
       "    </tr>\n",
       "  </tbody>\n",
       "</table>\n",
       "</div>"
      ],
      "text/plain": [
       "                author                                              title  \\\n",
       "0     Gerhard Schröder  Rede des Bundeskanzlers zur Eröffnung der 52. ...   \n",
       "1  Julian Nida-Rümelin  Redebeitrag von Staatsminister Nida-Rümelin in...   \n",
       "2     Gerhard Schröder  Interview mit Bundeskanzler Schröder in 'Berli...   \n",
       "3     Gerhard Schröder  Rede von Bundeskanzler Gerhard Schröder bei de...   \n",
       "4     Gerhard Schröder  Rede von Bundeskanzler Gerhard Schröder auf de...   \n",
       "\n",
       "                                                text  \n",
       "0  es ist angekündigt worden , man sollte im Beru...  \n",
       "1  Frau Präsidentin ! An Sie gerichtet , Herr Bör...  \n",
       "2  Frage ( Peter Hahne ) : Bevor wir uns über den...  \n",
       "3  Einen Satz von Ihnen , Herr Dr. Bernotat , hab...  \n",
       "4  diese Jahresversammlung der Hochschulrektorenk...  "
      ]
     },
     "execution_count": 8,
     "metadata": {},
     "output_type": "execute_result"
    }
   ],
   "source": [
    "ccorpus.head()"
   ]
  },
  {
   "cell_type": "markdown",
   "metadata": {},
   "source": [
    "## Unify texts amount"
   ]
  },
  {
   "cell_type": "code",
   "execution_count": 9,
   "metadata": {},
   "outputs": [],
   "source": [
    "cccorpus = unify_texts_amount(ccorpus, \"author\")"
   ]
  },
  {
   "cell_type": "code",
   "execution_count": 10,
   "metadata": {},
   "outputs": [
    {
     "data": {
      "image/png": "[encoded data removed]",
      "text/plain": [
       "<Figure size 1440x1152 with 1 Axes>"
      ]
     },
     "metadata": {
      "needs_background": "light"
     },
     "output_type": "display_data"
    }
   ],
   "source": [
    "plt.figure(figsize=(20,16))\n",
    "ax = cccorpus.groupby('author').text.count().plot.bar(rot=0)\n",
    "#ax.set_ylabel(\"Anzahl\")\n",
    "ax.set_yticks(np.arange(0,11,1))\n",
    "plt.show()"
   ]
  },
  {
   "cell_type": "markdown",
   "metadata": {},
   "source": [
    "## Saving corpus"
   ]
  },
  {
   "cell_type": "code",
   "execution_count": 14,
   "metadata": {},
   "outputs": [],
   "source": [
    "#cccorpus.to_csv(\"../data/speeches_corpus.csv\", index=False)"
   ]
  },
  {
   "cell_type": "code",
   "execution_count": null,
   "metadata": {},
   "outputs": [],
   "source": []
  }
 ],
 "metadata": {
  "kernelspec": {
   "display_name": "clf_stylo_comp",
   "language": "python",
   "name": "clf_stylo_comp"
  },
  "language_info": {
   "codemirror_mode": {
    "name": "ipython",
    "version": 3
   },
   "file_extension": ".py",
   "mimetype": "text/x-python",
   "name": "python",
   "nbconvert_exporter": "python",
   "pygments_lexer": "ipython3",
   "version": "3.7.4"
  }
 },
 "nbformat": 4,
 "nbformat_minor": 2
}
