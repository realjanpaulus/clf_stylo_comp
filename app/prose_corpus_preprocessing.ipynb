{
 "cells": [
  {
   "cell_type": "markdown",
   "metadata": {},
   "source": [
    "# Prose Corpus Preprocessing"
   ]
  },
  {
   "cell_type": "code",
   "execution_count": 1,
   "metadata": {},
   "outputs": [],
   "source": [
    "import numpy as np\n",
    "import pandas as pd\n",
    "import matplotlib.pyplot as plt\n",
    "from utils import remove_columnname_from_text\n",
    "\n",
    "from sklearn.metrics.pairwise import cosine_similarity\n",
    "from sklearn.feature_extraction.text import CountVectorizer\n",
    "\n",
    "%matplotlib inline\n",
    "plt.rcParams.update({'figure.figsize':(8,6), 'figure.dpi':150})"
   ]
  },
  {
   "cell_type": "markdown",
   "metadata": {},
   "source": [
    "## Load reduced corpus"
   ]
  },
  {
   "cell_type": "code",
   "execution_count": 3,
   "metadata": {},
   "outputs": [],
   "source": [
    "corpus = pd.read_csv(\"../data/corpora/rcorpus.csv\")"
   ]
  },
  {
   "cell_type": "code",
   "execution_count": 4,
   "metadata": {
    "collapsed": true
   },
   "outputs": [
    {
     "data": {
      "text/html": [
       "<div>\n",
       "<style scoped>\n",
       "    .dataframe tbody tr th:only-of-type {\n",
       "        vertical-align: middle;\n",
       "    }\n",
       "\n",
       "    .dataframe tbody tr th {\n",
       "        vertical-align: top;\n",
       "    }\n",
       "\n",
       "    .dataframe thead th {\n",
       "        text-align: right;\n",
       "    }\n",
       "</style>\n",
       "<table border=\"1\" class=\"dataframe\">\n",
       "  <thead>\n",
       "    <tr style=\"text-align: right;\">\n",
       "      <th></th>\n",
       "      <th>filename</th>\n",
       "      <th>author</th>\n",
       "      <th>title</th>\n",
       "      <th>year</th>\n",
       "      <th>textlength</th>\n",
       "      <th>text</th>\n",
       "    </tr>\n",
       "  </thead>\n",
       "  <tbody>\n",
       "    <tr>\n",
       "      <td>0</td>\n",
       "      <td>Jakob_Christoph_Heer_-_Der_Wetterwart_(1905)</td>\n",
       "      <td>Jakob Christoph Heer</td>\n",
       "      <td>Der Wetterwart</td>\n",
       "      <td>1905</td>\n",
       "      <td>120934</td>\n",
       "      <td>1925 I Die feierliche Abendhelle steht über de...</td>\n",
       "    </tr>\n",
       "    <tr>\n",
       "      <td>1</td>\n",
       "      <td>Johannes_Richard_zur_Megede_-_Der_Ueberkater_-...</td>\n",
       "      <td>Johannes Richard zur Megede</td>\n",
       "      <td>Der Ueberkater - Band 1</td>\n",
       "      <td>1904</td>\n",
       "      <td>107779</td>\n",
       "      <td>Johann Richard zur Megede Der Ueberkater Erste...</td>\n",
       "    </tr>\n",
       "    <tr>\n",
       "      <td>2</td>\n",
       "      <td>Johannes_Richard_zur_Megede_-_Félicie_(1900)</td>\n",
       "      <td>Johannes Richard zur Megede</td>\n",
       "      <td>Félicie</td>\n",
       "      <td>1900</td>\n",
       "      <td>120419</td>\n",
       "      <td>Aus den Briefen eines Toren Erstes Kapitel . D...</td>\n",
       "    </tr>\n",
       "    <tr>\n",
       "      <td>3</td>\n",
       "      <td>Wilhelm_Heinrich_Riehl_-_Durch_tausend_Jahre_–...</td>\n",
       "      <td>Wilhelm Heinrich Riehl</td>\n",
       "      <td>Durch tausend Jahre  Dritter Band</td>\n",
       "      <td>1897</td>\n",
       "      <td>156343</td>\n",
       "      <td>Durch tausend Jahre – Dritter Band Fünfzig kul...</td>\n",
       "    </tr>\n",
       "    <tr>\n",
       "      <td>4</td>\n",
       "      <td>Levin_Schücking_-_Luther_in_Rom_(1870)</td>\n",
       "      <td>Levin Schücking</td>\n",
       "      <td>Luther in Rom</td>\n",
       "      <td>1870</td>\n",
       "      <td>138121</td>\n",
       "      <td>Ich wollte nicht hunderttausend Gülden nehmen ...</td>\n",
       "    </tr>\n",
       "  </tbody>\n",
       "</table>\n",
       "</div>"
      ],
      "text/plain": [
       "                                            filename  \\\n",
       "0       Jakob_Christoph_Heer_-_Der_Wetterwart_(1905)   \n",
       "1  Johannes_Richard_zur_Megede_-_Der_Ueberkater_-...   \n",
       "2       Johannes_Richard_zur_Megede_-_Félicie_(1900)   \n",
       "3  Wilhelm_Heinrich_Riehl_-_Durch_tausend_Jahre_–...   \n",
       "4             Levin_Schücking_-_Luther_in_Rom_(1870)   \n",
       "\n",
       "                        author                              title  year  \\\n",
       "0         Jakob Christoph Heer                     Der Wetterwart  1905   \n",
       "1  Johannes Richard zur Megede            Der Ueberkater - Band 1  1904   \n",
       "2  Johannes Richard zur Megede                            Félicie  1900   \n",
       "3       Wilhelm Heinrich Riehl  Durch tausend Jahre  Dritter Band  1897   \n",
       "4              Levin Schücking                      Luther in Rom  1870   \n",
       "\n",
       "   textlength                                               text  \n",
       "0      120934  1925 I Die feierliche Abendhelle steht über de...  \n",
       "1      107779  Johann Richard zur Megede Der Ueberkater Erste...  \n",
       "2      120419  Aus den Briefen eines Toren Erstes Kapitel . D...  \n",
       "3      156343  Durch tausend Jahre – Dritter Band Fünfzig kul...  \n",
       "4      138121  Ich wollte nicht hunderttausend Gülden nehmen ...  "
      ]
     },
     "execution_count": 4,
     "metadata": {},
     "output_type": "execute_result"
    }
   ],
   "source": [
    "corpus.head()"
   ]
  },
  {
   "cell_type": "markdown",
   "metadata": {},
   "source": [
    "## Remove title and author from text column (again, but this time with the help of the cosine similarity)"
   ]
  },
  {
   "cell_type": "code",
   "execution_count": 5,
   "metadata": {},
   "outputs": [
    {
     "name": "stdout",
     "output_type": "stream",
     "text": [
      "CPU times: user 1min 55s, sys: 276 ms, total: 1min 55s\n",
      "Wall time: 1min 56s\n"
     ]
    }
   ],
   "source": [
    "%%time\n",
    "ncorpus = remove_columnname_from_text(corpus, \"author\")\n",
    "ncorpus = remove_columnname_from_text(ncorpus, \"title\")"
   ]
  },
  {
   "cell_type": "code",
   "execution_count": 6,
   "metadata": {},
   "outputs": [
    {
     "data": {
      "text/html": [
       "<div>\n",
       "<style scoped>\n",
       "    .dataframe tbody tr th:only-of-type {\n",
       "        vertical-align: middle;\n",
       "    }\n",
       "\n",
       "    .dataframe tbody tr th {\n",
       "        vertical-align: top;\n",
       "    }\n",
       "\n",
       "    .dataframe thead th {\n",
       "        text-align: right;\n",
       "    }\n",
       "</style>\n",
       "<table border=\"1\" class=\"dataframe\">\n",
       "  <thead>\n",
       "    <tr style=\"text-align: right;\">\n",
       "      <th></th>\n",
       "      <th>filename</th>\n",
       "      <th>author</th>\n",
       "      <th>title</th>\n",
       "      <th>year</th>\n",
       "      <th>textlength</th>\n",
       "      <th>text</th>\n",
       "    </tr>\n",
       "  </thead>\n",
       "  <tbody>\n",
       "    <tr>\n",
       "      <td>0</td>\n",
       "      <td>Jakob_Christoph_Heer_-_Der_Wetterwart_(1905)</td>\n",
       "      <td>Jakob Christoph Heer</td>\n",
       "      <td>Der Wetterwart</td>\n",
       "      <td>1905</td>\n",
       "      <td>120934</td>\n",
       "      <td>1925 I Die feierliche Abendhelle steht über de...</td>\n",
       "    </tr>\n",
       "    <tr>\n",
       "      <td>1</td>\n",
       "      <td>Johannes_Richard_zur_Megede_-_Der_Ueberkater_-...</td>\n",
       "      <td>Johannes Richard zur Megede</td>\n",
       "      <td>Der Ueberkater - Band 1</td>\n",
       "      <td>1904</td>\n",
       "      <td>107779</td>\n",
       "      <td>Erster Band Fräulein Elisabeth von Skal in da...</td>\n",
       "    </tr>\n",
       "    <tr>\n",
       "      <td>2</td>\n",
       "      <td>Johannes_Richard_zur_Megede_-_Félicie_(1900)</td>\n",
       "      <td>Johannes Richard zur Megede</td>\n",
       "      <td>Félicie</td>\n",
       "      <td>1900</td>\n",
       "      <td>120419</td>\n",
       "      <td>Aus den Briefen eines Toren Erstes Kapitel . D...</td>\n",
       "    </tr>\n",
       "    <tr>\n",
       "      <td>3</td>\n",
       "      <td>Wilhelm_Heinrich_Riehl_-_Durch_tausend_Jahre_–...</td>\n",
       "      <td>Wilhelm Heinrich Riehl</td>\n",
       "      <td>Durch tausend Jahre  Dritter Band</td>\n",
       "      <td>1897</td>\n",
       "      <td>156343</td>\n",
       "      <td>Jahre – Dritter Band Fünfzig kulturgeschichtl...</td>\n",
       "    </tr>\n",
       "    <tr>\n",
       "      <td>4</td>\n",
       "      <td>Levin_Schücking_-_Luther_in_Rom_(1870)</td>\n",
       "      <td>Levin Schücking</td>\n",
       "      <td>Luther in Rom</td>\n",
       "      <td>1870</td>\n",
       "      <td>138121</td>\n",
       "      <td>Ich wollte nicht hunderttausend Gülden nehmen ...</td>\n",
       "    </tr>\n",
       "  </tbody>\n",
       "</table>\n",
       "</div>"
      ],
      "text/plain": [
       "                                            filename  \\\n",
       "0       Jakob_Christoph_Heer_-_Der_Wetterwart_(1905)   \n",
       "1  Johannes_Richard_zur_Megede_-_Der_Ueberkater_-...   \n",
       "2       Johannes_Richard_zur_Megede_-_Félicie_(1900)   \n",
       "3  Wilhelm_Heinrich_Riehl_-_Durch_tausend_Jahre_–...   \n",
       "4             Levin_Schücking_-_Luther_in_Rom_(1870)   \n",
       "\n",
       "                        author                              title  year  \\\n",
       "0         Jakob Christoph Heer                     Der Wetterwart  1905   \n",
       "1  Johannes Richard zur Megede            Der Ueberkater - Band 1  1904   \n",
       "2  Johannes Richard zur Megede                            Félicie  1900   \n",
       "3       Wilhelm Heinrich Riehl  Durch tausend Jahre  Dritter Band  1897   \n",
       "4              Levin Schücking                      Luther in Rom  1870   \n",
       "\n",
       "   textlength                                               text  \n",
       "0      120934  1925 I Die feierliche Abendhelle steht über de...  \n",
       "1      107779   Erster Band Fräulein Elisabeth von Skal in da...  \n",
       "2      120419  Aus den Briefen eines Toren Erstes Kapitel . D...  \n",
       "3      156343   Jahre – Dritter Band Fünfzig kulturgeschichtl...  \n",
       "4      138121  Ich wollte nicht hunderttausend Gülden nehmen ...  "
      ]
     },
     "execution_count": 6,
     "metadata": {},
     "output_type": "execute_result"
    }
   ],
   "source": [
    "ncorpus.head()"
   ]
  },
  {
   "cell_type": "code",
   "execution_count": 11,
   "metadata": {},
   "outputs": [
    {
     "data": {
      "text/plain": [
       "(488, 6)"
      ]
     },
     "execution_count": 11,
     "metadata": {},
     "output_type": "execute_result"
    }
   ],
   "source": [
    "ncorpus.shape"
   ]
  },
  {
   "cell_type": "code",
   "execution_count": 13,
   "metadata": {},
   "outputs": [],
   "source": [
    "#ncorpus.to_csv(\"../../data/corpora/corpus.csv\", index=False)"
   ]
  },
  {
   "cell_type": "code",
   "execution_count": null,
   "metadata": {},
   "outputs": [],
   "source": []
  },
  {
   "cell_type": "code",
   "execution_count": null,
   "metadata": {},
   "outputs": [],
   "source": []
  }
 ],
 "metadata": {
  "kernelspec": {
   "display_name": "Python 3",
   "language": "python",
   "name": "python3"
  },
  "language_info": {
   "codemirror_mode": {
    "name": "ipython",
    "version": 3
   },
   "file_extension": ".py",
   "mimetype": "text/x-python",
   "name": "python",
   "nbconvert_exporter": "python",
   "pygments_lexer": "ipython3",
   "version": "3.7.3"
  }
 },
 "nbformat": 4,
 "nbformat_minor": 2
}
