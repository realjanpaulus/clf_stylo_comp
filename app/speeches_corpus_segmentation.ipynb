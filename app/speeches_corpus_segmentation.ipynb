{
 "cells": [
  {
   "cell_type": "markdown",
   "metadata": {},
   "source": [
    "# Speeches corpus segmentation"
   ]
  },
  {
   "cell_type": "code",
   "execution_count": 1,
   "metadata": {},
   "outputs": [],
   "source": [
    "from nltk import word_tokenize\n",
    "import numpy as np\n",
    "import pandas as pd\n",
    "from typing import Dict, List, Optional, Tuple, Union\n",
    "from utils import build_chunks, split_texts_into_segments"
   ]
  },
  {
   "cell_type": "code",
   "execution_count": 2,
   "metadata": {},
   "outputs": [],
   "source": [
    "corpus = pd.read_csv(\"../data/corpora/speeches_corpus.csv\")"
   ]
  },
  {
   "cell_type": "code",
   "execution_count": 3,
   "metadata": {},
   "outputs": [
    {
     "data": {
      "text/html": [
       "<div>\n",
       "<style scoped>\n",
       "    .dataframe tbody tr th:only-of-type {\n",
       "        vertical-align: middle;\n",
       "    }\n",
       "\n",
       "    .dataframe tbody tr th {\n",
       "        vertical-align: top;\n",
       "    }\n",
       "\n",
       "    .dataframe thead th {\n",
       "        text-align: right;\n",
       "    }\n",
       "</style>\n",
       "<table border=\"1\" class=\"dataframe\">\n",
       "  <thead>\n",
       "    <tr style=\"text-align: right;\">\n",
       "      <th></th>\n",
       "      <th>author</th>\n",
       "      <th>text</th>\n",
       "      <th>title</th>\n",
       "    </tr>\n",
       "  </thead>\n",
       "  <tbody>\n",
       "    <tr>\n",
       "      <th>0</th>\n",
       "      <td>Angela Merkel</td>\n",
       "      <td>werte Festversammlung , ich bin heute sehr ger...</td>\n",
       "      <td>Rede von Bundeskanzlerin Angela Merkel anlässl...</td>\n",
       "    </tr>\n",
       "    <tr>\n",
       "      <th>1</th>\n",
       "      <td>Angela Merkel</td>\n",
       "      <td>Sehr geehrter Herr Müller , lieber Herr Minist...</td>\n",
       "      <td>Rede von Bundeskanzlerin Angela Merkel anlässl...</td>\n",
       "    </tr>\n",
       "    <tr>\n",
       "      <th>2</th>\n",
       "      <td>Angela Merkel</td>\n",
       "      <td>die Fahrt vom Bundeskanzleramt bis zum Deutsch...</td>\n",
       "      <td>Rede der Bundeskanzlerin zur Eröffnung der Aus...</td>\n",
       "    </tr>\n",
       "    <tr>\n",
       "      <th>3</th>\n",
       "      <td>Angela Merkel</td>\n",
       "      <td>ich bin wieder gerne bei Ihnen . Das ist schon...</td>\n",
       "      <td>Rede von Bundeskanzlerin Angela Merkel anlässl...</td>\n",
       "    </tr>\n",
       "    <tr>\n",
       "      <th>4</th>\n",
       "      <td>Angela Merkel</td>\n",
       "      <td>Sie hatten ja schon gestern eine beeindruckend...</td>\n",
       "      <td>Rede von Bundeskanzlerin Angela Merkel anlässl...</td>\n",
       "    </tr>\n",
       "  </tbody>\n",
       "</table>\n",
       "</div>"
      ],
      "text/plain": [
       "          author                                               text  \\\n",
       "0  Angela Merkel  werte Festversammlung , ich bin heute sehr ger...   \n",
       "1  Angela Merkel  Sehr geehrter Herr Müller , lieber Herr Minist...   \n",
       "2  Angela Merkel  die Fahrt vom Bundeskanzleramt bis zum Deutsch...   \n",
       "3  Angela Merkel  ich bin wieder gerne bei Ihnen . Das ist schon...   \n",
       "4  Angela Merkel  Sie hatten ja schon gestern eine beeindruckend...   \n",
       "\n",
       "                                               title  \n",
       "0  Rede von Bundeskanzlerin Angela Merkel anlässl...  \n",
       "1  Rede von Bundeskanzlerin Angela Merkel anlässl...  \n",
       "2  Rede der Bundeskanzlerin zur Eröffnung der Aus...  \n",
       "3  Rede von Bundeskanzlerin Angela Merkel anlässl...  \n",
       "4  Rede von Bundeskanzlerin Angela Merkel anlässl...  "
      ]
     },
     "execution_count": 3,
     "metadata": {},
     "output_type": "execute_result"
    }
   ],
   "source": [
    "corpus.head()"
   ]
  },
  {
   "cell_type": "code",
   "execution_count": 4,
   "metadata": {},
   "outputs": [
    {
     "data": {
      "text/plain": [
       "(130, 3)"
      ]
     },
     "execution_count": 4,
     "metadata": {},
     "output_type": "execute_result"
    }
   ],
   "source": [
    "corpus.shape"
   ]
  },
  {
   "cell_type": "markdown",
   "metadata": {},
   "source": [
    "### hyperparameters\n",
    "Segments: 50, 250"
   ]
  },
  {
   "cell_type": "code",
   "execution_count": 19,
   "metadata": {},
   "outputs": [],
   "source": [
    "segments = 50"
   ]
  },
  {
   "cell_type": "markdown",
   "metadata": {},
   "source": [
    "### Splitting into segments"
   ]
  },
  {
   "cell_type": "code",
   "execution_count": 20,
   "metadata": {},
   "outputs": [
    {
     "name": "stdout",
     "output_type": "stream",
     "text": [
      "CPU times: user 1.41 s, sys: 3.84 ms, total: 1.42 s\n",
      "Wall time: 1.42 s\n"
     ]
    },
    {
     "data": {
      "text/html": [
       "<div>\n",
       "<style scoped>\n",
       "    .dataframe tbody tr th:only-of-type {\n",
       "        vertical-align: middle;\n",
       "    }\n",
       "\n",
       "    .dataframe tbody tr th {\n",
       "        vertical-align: top;\n",
       "    }\n",
       "\n",
       "    .dataframe thead th {\n",
       "        text-align: right;\n",
       "    }\n",
       "</style>\n",
       "<table border=\"1\" class=\"dataframe\">\n",
       "  <thead>\n",
       "    <tr style=\"text-align: right;\">\n",
       "      <th></th>\n",
       "      <th>title</th>\n",
       "      <th>author</th>\n",
       "      <th>textlength</th>\n",
       "      <th>text</th>\n",
       "    </tr>\n",
       "  </thead>\n",
       "  <tbody>\n",
       "    <tr>\n",
       "      <th>0</th>\n",
       "      <td>Rede von Bundeskanzlerin Angela Merkel anlässl...</td>\n",
       "      <td>Angela Merkel</td>\n",
       "      <td>50</td>\n",
       "      <td>werte Festversammlung , ich bin heute sehr ger...</td>\n",
       "    </tr>\n",
       "    <tr>\n",
       "      <th>1</th>\n",
       "      <td>Rede von Bundeskanzlerin Angela Merkel anlässl...</td>\n",
       "      <td>Angela Merkel</td>\n",
       "      <td>50</td>\n",
       "      <td>einem Engagement , das weithin anerkannt ist ....</td>\n",
       "    </tr>\n",
       "    <tr>\n",
       "      <th>2</th>\n",
       "      <td>Rede von Bundeskanzlerin Angela Merkel anlässl...</td>\n",
       "      <td>Angela Merkel</td>\n",
       "      <td>50</td>\n",
       "      <td>, leben diese Werte täglich und treten beharrl...</td>\n",
       "    </tr>\n",
       "    <tr>\n",
       "      <th>3</th>\n",
       "      <td>Rede von Bundeskanzlerin Angela Merkel anlässl...</td>\n",
       "      <td>Angela Merkel</td>\n",
       "      <td>50</td>\n",
       "      <td>private Wohneigentum dazu beizutragen , die St...</td>\n",
       "    </tr>\n",
       "    <tr>\n",
       "      <th>4</th>\n",
       "      <td>Rede von Bundeskanzlerin Angela Merkel anlässl...</td>\n",
       "      <td>Angela Merkel</td>\n",
       "      <td>50</td>\n",
       "      <td>für viele Jahre , wenn nicht sogar lebenslängl...</td>\n",
       "    </tr>\n",
       "  </tbody>\n",
       "</table>\n",
       "</div>"
      ],
      "text/plain": [
       "                                               title         author  \\\n",
       "0  Rede von Bundeskanzlerin Angela Merkel anlässl...  Angela Merkel   \n",
       "1  Rede von Bundeskanzlerin Angela Merkel anlässl...  Angela Merkel   \n",
       "2  Rede von Bundeskanzlerin Angela Merkel anlässl...  Angela Merkel   \n",
       "3  Rede von Bundeskanzlerin Angela Merkel anlässl...  Angela Merkel   \n",
       "4  Rede von Bundeskanzlerin Angela Merkel anlässl...  Angela Merkel   \n",
       "\n",
       "   textlength                                               text  \n",
       "0          50  werte Festversammlung , ich bin heute sehr ger...  \n",
       "1          50  einem Engagement , das weithin anerkannt ist ....  \n",
       "2          50  , leben diese Werte täglich und treten beharrl...  \n",
       "3          50  private Wohneigentum dazu beizutragen , die St...  \n",
       "4          50  für viele Jahre , wenn nicht sogar lebenslängl...  "
      ]
     },
     "execution_count": 20,
     "metadata": {},
     "output_type": "execute_result"
    }
   ],
   "source": [
    "%%time\n",
    "new_corpus = split_texts_into_segments(corpus,\n",
    "                                       corpus_type=\"speeches\",\n",
    "                                       n=segments,\n",
    "                                       same_len=True)\n",
    "new_corpus.head()"
   ]
  },
  {
   "cell_type": "code",
   "execution_count": 21,
   "metadata": {},
   "outputs": [
    {
     "data": {
      "text/plain": [
       "(5194, 4)"
      ]
     },
     "execution_count": 21,
     "metadata": {},
     "output_type": "execute_result"
    }
   ],
   "source": [
    "new_corpus.shape"
   ]
  },
  {
   "cell_type": "code",
   "execution_count": 22,
   "metadata": {},
   "outputs": [],
   "source": [
    "#new_corpus.to_csv(f\"../data/corpora/speeches_corpus_{segments}seg.csv\", index=False)"
   ]
  },
  {
   "cell_type": "code",
   "execution_count": null,
   "metadata": {},
   "outputs": [],
   "source": []
  }
 ],
 "metadata": {
  "kernelspec": {
   "display_name": "Python 3",
   "language": "python",
   "name": "python3"
  },
  "language_info": {
   "codemirror_mode": {
    "name": "ipython",
    "version": 3
   },
   "file_extension": ".py",
   "mimetype": "text/x-python",
   "name": "python",
   "nbconvert_exporter": "python",
   "pygments_lexer": "ipython3",
   "version": "3.7.3"
  }
 },
 "nbformat": 4,
 "nbformat_minor": 4
}
