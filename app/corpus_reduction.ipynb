{
 "cells": [
  {
   "cell_type": "markdown",
   "metadata": {},
   "source": [
    "# Corpus Reduction"
   ]
  },
  {
   "cell_type": "code",
   "execution_count": 1,
   "metadata": {},
   "outputs": [],
   "source": [
    "import numpy as np\n",
    "import pandas as pd\n",
    "import matplotlib.pyplot as plt\n",
    "%matplotlib inline\n",
    "plt.rcParams.update({'figure.figsize':(8,6), 'figure.dpi':150})"
   ]
  },
  {
   "cell_type": "markdown",
   "metadata": {},
   "source": [
    "## load original corpus"
   ]
  },
  {
   "cell_type": "code",
   "execution_count": 2,
   "metadata": {},
   "outputs": [],
   "source": [
    "df = pd.read_csv(\"../data/ocorpus.csv\")"
   ]
  },
  {
   "cell_type": "code",
   "execution_count": 3,
   "metadata": {},
   "outputs": [
    {
     "data": {
      "text/html": [
       "<div>\n",
       "<style scoped>\n",
       "    .dataframe tbody tr th:only-of-type {\n",
       "        vertical-align: middle;\n",
       "    }\n",
       "\n",
       "    .dataframe tbody tr th {\n",
       "        vertical-align: top;\n",
       "    }\n",
       "\n",
       "    .dataframe thead th {\n",
       "        text-align: right;\n",
       "    }\n",
       "</style>\n",
       "<table border=\"1\" class=\"dataframe\">\n",
       "  <thead>\n",
       "    <tr style=\"text-align: right;\">\n",
       "      <th></th>\n",
       "      <th>filename</th>\n",
       "      <th>author</th>\n",
       "      <th>title</th>\n",
       "      <th>year</th>\n",
       "      <th>textlength</th>\n",
       "      <th>text</th>\n",
       "    </tr>\n",
       "  </thead>\n",
       "  <tbody>\n",
       "    <tr>\n",
       "      <td>0</td>\n",
       "      <td>Wilhelm_Walloth_-_Das_Schatzhaus_des_Königs_(1...</td>\n",
       "      <td>Wilhelm Walloth</td>\n",
       "      <td>Das Schatzhaus des Königs</td>\n",
       "      <td>1883</td>\n",
       "      <td>105651</td>\n",
       "      <td>Roman aus dem alten Ägypten Und die Ägypter zw...</td>\n",
       "    </tr>\n",
       "    <tr>\n",
       "      <td>1</td>\n",
       "      <td>Theodor_Däubler_-_L'Africana_(1928)</td>\n",
       "      <td>Theodor Däubler</td>\n",
       "      <td>LAfricana</td>\n",
       "      <td>1928</td>\n",
       "      <td>43258</td>\n",
       "      <td>L'Africana Roman Horen-Verlag , Berlin-Grunewa...</td>\n",
       "    </tr>\n",
       "    <tr>\n",
       "      <td>2</td>\n",
       "      <td>Max_Eyth_-_Der_Schneider_von_Ulm_(1906)</td>\n",
       "      <td>Max Eyth</td>\n",
       "      <td>Der Schneider von Ulm</td>\n",
       "      <td>1906</td>\n",
       "      <td>272961</td>\n",
       "      <td>[ cover ] Historischer Roman um den Mann , der...</td>\n",
       "    </tr>\n",
       "    <tr>\n",
       "      <td>3</td>\n",
       "      <td>Novalis_-_Die_Lehrlinge_zu_Sais_(1799)</td>\n",
       "      <td>Novalis</td>\n",
       "      <td>Die Lehrlinge zu Sais</td>\n",
       "      <td>1799</td>\n",
       "      <td>12391</td>\n",
       "      <td>1798- 1 . Der Lehrling Mannigfache Wege gehen ...</td>\n",
       "    </tr>\n",
       "    <tr>\n",
       "      <td>4</td>\n",
       "      <td>Christoph_Martin_Wieland_-_Agathodämon_(1799)</td>\n",
       "      <td>Christoph Martin Wieland</td>\n",
       "      <td>Agathodämon</td>\n",
       "      <td>1799</td>\n",
       "      <td>96572</td>\n",
       "      <td>In sieben Büchern ( ) Est Deus in nobis , agit...</td>\n",
       "    </tr>\n",
       "  </tbody>\n",
       "</table>\n",
       "</div>"
      ],
      "text/plain": [
       "                                            filename  \\\n",
       "0  Wilhelm_Walloth_-_Das_Schatzhaus_des_Königs_(1...   \n",
       "1                Theodor_Däubler_-_L'Africana_(1928)   \n",
       "2            Max_Eyth_-_Der_Schneider_von_Ulm_(1906)   \n",
       "3             Novalis_-_Die_Lehrlinge_zu_Sais_(1799)   \n",
       "4      Christoph_Martin_Wieland_-_Agathodämon_(1799)   \n",
       "\n",
       "                     author                      title  year  textlength  \\\n",
       "0           Wilhelm Walloth  Das Schatzhaus des Königs  1883      105651   \n",
       "1           Theodor Däubler                  LAfricana  1928       43258   \n",
       "2                  Max Eyth      Der Schneider von Ulm  1906      272961   \n",
       "3                   Novalis      Die Lehrlinge zu Sais  1799       12391   \n",
       "4  Christoph Martin Wieland                Agathodämon  1799       96572   \n",
       "\n",
       "                                                text  \n",
       "0  Roman aus dem alten Ägypten Und die Ägypter zw...  \n",
       "1  L'Africana Roman Horen-Verlag , Berlin-Grunewa...  \n",
       "2  [ cover ] Historischer Roman um den Mann , der...  \n",
       "3  1798- 1 . Der Lehrling Mannigfache Wege gehen ...  \n",
       "4  In sieben Büchern ( ) Est Deus in nobis , agit...  "
      ]
     },
     "execution_count": 3,
     "metadata": {},
     "output_type": "execute_result"
    }
   ],
   "source": [
    "df.head()"
   ]
  },
  {
   "cell_type": "markdown",
   "metadata": {},
   "source": [
    "## Check if the corpus contains duplicates"
   ]
  },
  {
   "cell_type": "code",
   "execution_count": 4,
   "metadata": {},
   "outputs": [
    {
     "data": {
      "text/plain": [
       "(2735, 6)"
      ]
     },
     "execution_count": 4,
     "metadata": {},
     "output_type": "execute_result"
    }
   ],
   "source": [
    "df.shape"
   ]
  },
  {
   "cell_type": "code",
   "execution_count": 5,
   "metadata": {},
   "outputs": [
    {
     "data": {
      "text/plain": [
       "(2735, 6)"
      ]
     },
     "execution_count": 5,
     "metadata": {},
     "output_type": "execute_result"
    }
   ],
   "source": [
    "df = df.drop_duplicates()\n",
    "df.shape"
   ]
  },
  {
   "cell_type": "markdown",
   "metadata": {},
   "source": [
    "## Check if Corpus does have rows with NaNs"
   ]
  },
  {
   "cell_type": "code",
   "execution_count": 6,
   "metadata": {},
   "outputs": [
    {
     "name": "stdout",
     "output_type": "stream",
     "text": [
      "Corpus does have 0 rows with NaN.\n"
     ]
    }
   ],
   "source": [
    "nan_df = df[df.isna().any(axis=1)]\n",
    "print(f\"Corpus does have {nan_df.shape[0]} rows with NaN.\")"
   ]
  },
  {
   "cell_type": "markdown",
   "metadata": {},
   "source": [
    "# Reduction tests"
   ]
  },
  {
   "cell_type": "markdown",
   "metadata": {},
   "source": [
    "### Figure: Publication year histogram"
   ]
  },
  {
   "cell_type": "code",
   "execution_count": 7,
   "metadata": {},
   "outputs": [
    {
     "data": {
      "image/png": "[encoded data removed]",
      "text/plain": [
       "<Figure size 432x288 with 1 Axes>"
      ]
     },
     "metadata": {
      "needs_background": "light"
     },
     "output_type": "display_data"
    }
   ],
   "source": [
    "plt.hist(df[\"year\"], \n",
    "         histtype=\"bar\",\n",
    "         color=\"#1f77b4\",\n",
    "         edgecolor=\"black\",\n",
    "         linewidth=0.4,\n",
    "         bins=100, \n",
    "         range=[1500,1950])\n",
    "plt.gca().set(title='Publication year histogram',\n",
    "              xlabel='Publication years',\n",
    "              ylabel='Frequency of prosa texts')\n",
    "plt.xticks(np.arange(1500, 1950, 40))\n",
    "plt.savefig('../data/figures/all_publication_years.png',\n",
    "            dpi=300,\n",
    "            bbox_inches='tight')\n",
    "plt.show()"
   ]
  },
  {
   "cell_type": "markdown",
   "metadata": {},
   "source": [
    "### Reduce corpus by selection text between 1840 and 1930"
   ]
  },
  {
   "cell_type": "code",
   "execution_count": 8,
   "metadata": {},
   "outputs": [
    {
     "data": {
      "text/html": [
       "<div>\n",
       "<style scoped>\n",
       "    .dataframe tbody tr th:only-of-type {\n",
       "        vertical-align: middle;\n",
       "    }\n",
       "\n",
       "    .dataframe tbody tr th {\n",
       "        vertical-align: top;\n",
       "    }\n",
       "\n",
       "    .dataframe thead th {\n",
       "        text-align: right;\n",
       "    }\n",
       "</style>\n",
       "<table border=\"1\" class=\"dataframe\">\n",
       "  <thead>\n",
       "    <tr style=\"text-align: right;\">\n",
       "      <th></th>\n",
       "      <th>filename</th>\n",
       "      <th>author</th>\n",
       "      <th>title</th>\n",
       "      <th>year</th>\n",
       "      <th>textlength</th>\n",
       "      <th>text</th>\n",
       "    </tr>\n",
       "  </thead>\n",
       "  <tbody>\n",
       "    <tr>\n",
       "      <td>0</td>\n",
       "      <td>Wilhelm_Walloth_-_Das_Schatzhaus_des_Königs_(1...</td>\n",
       "      <td>Wilhelm Walloth</td>\n",
       "      <td>Das Schatzhaus des Königs</td>\n",
       "      <td>1883</td>\n",
       "      <td>105651</td>\n",
       "      <td>Roman aus dem alten Ägypten Und die Ägypter zw...</td>\n",
       "    </tr>\n",
       "    <tr>\n",
       "      <td>1</td>\n",
       "      <td>Theodor_Däubler_-_L'Africana_(1928)</td>\n",
       "      <td>Theodor Däubler</td>\n",
       "      <td>LAfricana</td>\n",
       "      <td>1928</td>\n",
       "      <td>43258</td>\n",
       "      <td>L'Africana Roman Horen-Verlag , Berlin-Grunewa...</td>\n",
       "    </tr>\n",
       "    <tr>\n",
       "      <td>2</td>\n",
       "      <td>Max_Eyth_-_Der_Schneider_von_Ulm_(1906)</td>\n",
       "      <td>Max Eyth</td>\n",
       "      <td>Der Schneider von Ulm</td>\n",
       "      <td>1906</td>\n",
       "      <td>272961</td>\n",
       "      <td>[ cover ] Historischer Roman um den Mann , der...</td>\n",
       "    </tr>\n",
       "    <tr>\n",
       "      <td>5</td>\n",
       "      <td>Friedrich_Spielhagen_-_Platt_Land_(1878)</td>\n",
       "      <td>Friedrich Spielhagen</td>\n",
       "      <td>Platt Land</td>\n",
       "      <td>1878</td>\n",
       "      <td>205088</td>\n",
       "      <td>Erstes Buch Erstes Kapitel . Der Wagen hielt ,...</td>\n",
       "    </tr>\n",
       "    <tr>\n",
       "      <td>6</td>\n",
       "      <td>Adalbert_Stifter_-_Ein_Gang_durch_die_Katakomb...</td>\n",
       "      <td>Adalbert Stifter</td>\n",
       "      <td>Ein Gang durch die Katakomben</td>\n",
       "      <td>1844</td>\n",
       "      <td>6351</td>\n",
       "      <td>Wir sind so gewohnt worden , unsere Voreltern ...</td>\n",
       "    </tr>\n",
       "  </tbody>\n",
       "</table>\n",
       "</div>"
      ],
      "text/plain": [
       "                                            filename                author  \\\n",
       "0  Wilhelm_Walloth_-_Das_Schatzhaus_des_Königs_(1...       Wilhelm Walloth   \n",
       "1                Theodor_Däubler_-_L'Africana_(1928)       Theodor Däubler   \n",
       "2            Max_Eyth_-_Der_Schneider_von_Ulm_(1906)              Max Eyth   \n",
       "5           Friedrich_Spielhagen_-_Platt_Land_(1878)  Friedrich Spielhagen   \n",
       "6  Adalbert_Stifter_-_Ein_Gang_durch_die_Katakomb...      Adalbert Stifter   \n",
       "\n",
       "                           title  year  textlength  \\\n",
       "0      Das Schatzhaus des Königs  1883      105651   \n",
       "1                      LAfricana  1928       43258   \n",
       "2          Der Schneider von Ulm  1906      272961   \n",
       "5                     Platt Land  1878      205088   \n",
       "6  Ein Gang durch die Katakomben  1844        6351   \n",
       "\n",
       "                                                text  \n",
       "0  Roman aus dem alten Ägypten Und die Ägypter zw...  \n",
       "1  L'Africana Roman Horen-Verlag , Berlin-Grunewa...  \n",
       "2  [ cover ] Historischer Roman um den Mann , der...  \n",
       "5  Erstes Buch Erstes Kapitel . Der Wagen hielt ,...  \n",
       "6  Wir sind so gewohnt worden , unsere Voreltern ...  "
      ]
     },
     "execution_count": 8,
     "metadata": {},
     "output_type": "execute_result"
    }
   ],
   "source": [
    "criteria = (df[\"year\"] >= 1840) & (df[\"year\"] <= 1930)\n",
    "rdf = df[criteria]\n",
    "rdf.head()"
   ]
  },
  {
   "cell_type": "code",
   "execution_count": 9,
   "metadata": {},
   "outputs": [
    {
     "data": {
      "text/plain": [
       "(2212, 6)"
      ]
     },
     "execution_count": 9,
     "metadata": {},
     "output_type": "execute_result"
    }
   ],
   "source": [
    "rdf.shape"
   ]
  },
  {
   "cell_type": "code",
   "execution_count": 10,
   "metadata": {},
   "outputs": [
    {
     "data": {
      "text/plain": [
       "0.19122486288848262"
      ]
     },
     "execution_count": 10,
     "metadata": {},
     "output_type": "execute_result"
    }
   ],
   "source": [
    "1 - 2212/2735"
   ]
  },
  {
   "cell_type": "code",
   "execution_count": 11,
   "metadata": {},
   "outputs": [
    {
     "data": {
      "image/png": "[encoded data removed]",
      "text/plain": [
       "<Figure size 432x288 with 1 Axes>"
      ]
     },
     "metadata": {
      "needs_background": "light"
     },
     "output_type": "display_data"
    }
   ],
   "source": [
    "plt.hist(rdf[\"year\"], \n",
    "         histtype=\"bar\",\n",
    "         color=\"#1f77b4\",\n",
    "         edgecolor=\"black\",\n",
    "         linewidth=0.4,\n",
    "         bins=100, \n",
    "         range=[1500,1950])\n",
    "plt.gca().set(title='Publication year histogram',\n",
    "              xlabel='Publication years',\n",
    "              ylabel='Frequency of prosa texts')\n",
    "plt.xticks(np.arange(1500, 1950, 40))\n",
    "plt.savefig('../data/figures/reduced_publication_years.png',\n",
    "            dpi=300,\n",
    "            bbox_inches='tight')\n",
    "plt.show()"
   ]
  },
  {
   "cell_type": "markdown",
   "metadata": {},
   "source": [
    "### Reduce corpus by critical texts"
   ]
  },
  {
   "cell_type": "markdown",
   "metadata": {},
   "source": [
    "1. Duplicate: Knigge's \"Benjamin Noldmann's Geschichte der Aufklärung in Abyssinien\" is contained twice (additional occurrence as part of \"Traum des Herrn Brick\")."
   ]
  },
  {
   "cell_type": "code",
   "execution_count": 12,
   "metadata": {},
   "outputs": [
    {
     "data": {
      "text/html": [
       "<div>\n",
       "<style scoped>\n",
       "    .dataframe tbody tr th:only-of-type {\n",
       "        vertical-align: middle;\n",
       "    }\n",
       "\n",
       "    .dataframe tbody tr th {\n",
       "        vertical-align: top;\n",
       "    }\n",
       "\n",
       "    .dataframe thead th {\n",
       "        text-align: right;\n",
       "    }\n",
       "</style>\n",
       "<table border=\"1\" class=\"dataframe\">\n",
       "  <thead>\n",
       "    <tr style=\"text-align: right;\">\n",
       "      <th></th>\n",
       "      <th>filename</th>\n",
       "      <th>author</th>\n",
       "      <th>title</th>\n",
       "      <th>year</th>\n",
       "      <th>textlength</th>\n",
       "      <th>text</th>\n",
       "    </tr>\n",
       "  </thead>\n",
       "  <tbody>\n",
       "  </tbody>\n",
       "</table>\n",
       "</div>"
      ],
      "text/plain": [
       "Empty DataFrame\n",
       "Columns: [filename, author, title, year, textlength, text]\n",
       "Index: []"
      ]
     },
     "execution_count": 12,
     "metadata": {},
     "output_type": "execute_result"
    }
   ],
   "source": [
    "rdf[rdf[\"author\"].str.contains(\"Adolph Freiherr\")]"
   ]
  },
  {
   "cell_type": "markdown",
   "metadata": {},
   "source": [
    "2. Duplicate: E.T.A. Hoffmann's \"Meister Martin der Küfner und seine Gesellen\" is already contained in \"Serapions-Brüdern\"."
   ]
  },
  {
   "cell_type": "code",
   "execution_count": 13,
   "metadata": {},
   "outputs": [
    {
     "data": {
      "text/html": [
       "<div>\n",
       "<style scoped>\n",
       "    .dataframe tbody tr th:only-of-type {\n",
       "        vertical-align: middle;\n",
       "    }\n",
       "\n",
       "    .dataframe tbody tr th {\n",
       "        vertical-align: top;\n",
       "    }\n",
       "\n",
       "    .dataframe thead th {\n",
       "        text-align: right;\n",
       "    }\n",
       "</style>\n",
       "<table border=\"1\" class=\"dataframe\">\n",
       "  <thead>\n",
       "    <tr style=\"text-align: right;\">\n",
       "      <th></th>\n",
       "      <th>filename</th>\n",
       "      <th>author</th>\n",
       "      <th>title</th>\n",
       "      <th>year</th>\n",
       "      <th>textlength</th>\n",
       "      <th>text</th>\n",
       "    </tr>\n",
       "  </thead>\n",
       "  <tbody>\n",
       "    <tr>\n",
       "      <td>2252</td>\n",
       "      <td>Hans_Hoffmann_-_Im_Lande_der_Phäaken_(1884)</td>\n",
       "      <td>Hans Hoffmann</td>\n",
       "      <td>Im Lande der Phäaken</td>\n",
       "      <td>1884</td>\n",
       "      <td>51169</td>\n",
       "      <td>. Novellen von Hans Hoffmann . Berlin . Verlag...</td>\n",
       "    </tr>\n",
       "    <tr>\n",
       "      <td>2486</td>\n",
       "      <td>Hans_Hoffmann_-_Das_Gymnasium_zu_Stolpenburg_(...</td>\n",
       "      <td>Hans Hoffmann</td>\n",
       "      <td>Das Gymnasium zu Stolpenburg</td>\n",
       "      <td>1891</td>\n",
       "      <td>56764</td>\n",
       "      <td>. Novellen von Hans Hoffmann . Zweite Auflage ...</td>\n",
       "    </tr>\n",
       "  </tbody>\n",
       "</table>\n",
       "</div>"
      ],
      "text/plain": [
       "                                               filename         author  \\\n",
       "2252        Hans_Hoffmann_-_Im_Lande_der_Phäaken_(1884)  Hans Hoffmann   \n",
       "2486  Hans_Hoffmann_-_Das_Gymnasium_zu_Stolpenburg_(...  Hans Hoffmann   \n",
       "\n",
       "                             title  year  textlength  \\\n",
       "2252          Im Lande der Phäaken  1884       51169   \n",
       "2486  Das Gymnasium zu Stolpenburg  1891       56764   \n",
       "\n",
       "                                                   text  \n",
       "2252  . Novellen von Hans Hoffmann . Berlin . Verlag...  \n",
       "2486  . Novellen von Hans Hoffmann . Zweite Auflage ...  "
      ]
     },
     "execution_count": 13,
     "metadata": {},
     "output_type": "execute_result"
    }
   ],
   "source": [
    "rdf[rdf[\"author\"].str.contains(\"Hoffmann\")]"
   ]
  },
  {
   "cell_type": "markdown",
   "metadata": {},
   "source": [
    "3. Semi-Duplicate: Gottfried Keller's \"Der Grüne Heinrich\" is contained in two versions. They are, in fact, different, but there's a whole lot of identical passages, too. Depending on your type of research question, this could cause an unevenness."
   ]
  },
  {
   "cell_type": "code",
   "execution_count": 14,
   "metadata": {},
   "outputs": [
    {
     "data": {
      "text/html": [
       "<div>\n",
       "<style scoped>\n",
       "    .dataframe tbody tr th:only-of-type {\n",
       "        vertical-align: middle;\n",
       "    }\n",
       "\n",
       "    .dataframe tbody tr th {\n",
       "        vertical-align: top;\n",
       "    }\n",
       "\n",
       "    .dataframe thead th {\n",
       "        text-align: right;\n",
       "    }\n",
       "</style>\n",
       "<table border=\"1\" class=\"dataframe\">\n",
       "  <thead>\n",
       "    <tr style=\"text-align: right;\">\n",
       "      <th></th>\n",
       "      <th>filename</th>\n",
       "      <th>author</th>\n",
       "      <th>title</th>\n",
       "      <th>year</th>\n",
       "      <th>textlength</th>\n",
       "      <th>text</th>\n",
       "    </tr>\n",
       "  </thead>\n",
       "  <tbody>\n",
       "    <tr>\n",
       "      <td>1156</td>\n",
       "      <td>Gottfried_Keller_-_Der_grüne_Heinrich._Erste_F...</td>\n",
       "      <td>Gottfried Keller</td>\n",
       "      <td>Der grüne Heinrich Erste Fassung</td>\n",
       "      <td>1854</td>\n",
       "      <td>305052</td>\n",
       "      <td>Der grüne Heinrich . Erste Fassung Vorwort Von...</td>\n",
       "    </tr>\n",
       "    <tr>\n",
       "      <td>1893</td>\n",
       "      <td>Gottfried_Keller_-_Der_grüne_Heinrich_(1879)</td>\n",
       "      <td>Gottfried Keller</td>\n",
       "      <td>Der grüne Heinrich</td>\n",
       "      <td>1879</td>\n",
       "      <td>288074</td>\n",
       "      <td>Zweite Fassung ( /80 ) Inhalt : • Erster Teil ...</td>\n",
       "    </tr>\n",
       "  </tbody>\n",
       "</table>\n",
       "</div>"
      ],
      "text/plain": [
       "                                               filename            author  \\\n",
       "1156  Gottfried_Keller_-_Der_grüne_Heinrich._Erste_F...  Gottfried Keller   \n",
       "1893       Gottfried_Keller_-_Der_grüne_Heinrich_(1879)  Gottfried Keller   \n",
       "\n",
       "                                 title  year  textlength  \\\n",
       "1156  Der grüne Heinrich Erste Fassung  1854      305052   \n",
       "1893                Der grüne Heinrich  1879      288074   \n",
       "\n",
       "                                                   text  \n",
       "1156  Der grüne Heinrich . Erste Fassung Vorwort Von...  \n",
       "1893  Zweite Fassung ( /80 ) Inhalt : • Erster Teil ...  "
      ]
     },
     "execution_count": 14,
     "metadata": {},
     "output_type": "execute_result"
    }
   ],
   "source": [
    "rdf[rdf[\"title\"].str.contains(\"grüne Heinrich\")]"
   ]
  },
  {
   "cell_type": "markdown",
   "metadata": {},
   "source": [
    "#### Remove \"Der grüne Heinrich Erste Fassung\""
   ]
  },
  {
   "cell_type": "code",
   "execution_count": 15,
   "metadata": {},
   "outputs": [],
   "source": [
    "rdf2 = rdf[rdf[\"title\"] != \"Der grüne Heinrich Erste Fassung\"] "
   ]
  },
  {
   "cell_type": "code",
   "execution_count": 16,
   "metadata": {},
   "outputs": [
    {
     "data": {
      "text/html": [
       "<div>\n",
       "<style scoped>\n",
       "    .dataframe tbody tr th:only-of-type {\n",
       "        vertical-align: middle;\n",
       "    }\n",
       "\n",
       "    .dataframe tbody tr th {\n",
       "        vertical-align: top;\n",
       "    }\n",
       "\n",
       "    .dataframe thead th {\n",
       "        text-align: right;\n",
       "    }\n",
       "</style>\n",
       "<table border=\"1\" class=\"dataframe\">\n",
       "  <thead>\n",
       "    <tr style=\"text-align: right;\">\n",
       "      <th></th>\n",
       "      <th>filename</th>\n",
       "      <th>author</th>\n",
       "      <th>title</th>\n",
       "      <th>year</th>\n",
       "      <th>textlength</th>\n",
       "      <th>text</th>\n",
       "    </tr>\n",
       "  </thead>\n",
       "  <tbody>\n",
       "    <tr>\n",
       "      <td>1893</td>\n",
       "      <td>Gottfried_Keller_-_Der_grüne_Heinrich_(1879)</td>\n",
       "      <td>Gottfried Keller</td>\n",
       "      <td>Der grüne Heinrich</td>\n",
       "      <td>1879</td>\n",
       "      <td>288074</td>\n",
       "      <td>Zweite Fassung ( /80 ) Inhalt : • Erster Teil ...</td>\n",
       "    </tr>\n",
       "  </tbody>\n",
       "</table>\n",
       "</div>"
      ],
      "text/plain": [
       "                                          filename            author  \\\n",
       "1893  Gottfried_Keller_-_Der_grüne_Heinrich_(1879)  Gottfried Keller   \n",
       "\n",
       "                   title  year  textlength  \\\n",
       "1893  Der grüne Heinrich  1879      288074   \n",
       "\n",
       "                                                   text  \n",
       "1893  Zweite Fassung ( /80 ) Inhalt : • Erster Teil ...  "
      ]
     },
     "execution_count": 16,
     "metadata": {},
     "output_type": "execute_result"
    }
   ],
   "source": [
    "rdf2[rdf2[\"title\"].str.contains(\"grüne Heinrich\")]"
   ]
  },
  {
   "cell_type": "markdown",
   "metadata": {},
   "source": [
    "4. Duplicate: Löns's \"Dahinten in der Heide\" is contained again in the collection \"Aus Forst und Flur\"."
   ]
  },
  {
   "cell_type": "code",
   "execution_count": 17,
   "metadata": {},
   "outputs": [
    {
     "data": {
      "text/html": [
       "<div>\n",
       "<style scoped>\n",
       "    .dataframe tbody tr th:only-of-type {\n",
       "        vertical-align: middle;\n",
       "    }\n",
       "\n",
       "    .dataframe tbody tr th {\n",
       "        vertical-align: top;\n",
       "    }\n",
       "\n",
       "    .dataframe thead th {\n",
       "        text-align: right;\n",
       "    }\n",
       "</style>\n",
       "<table border=\"1\" class=\"dataframe\">\n",
       "  <thead>\n",
       "    <tr style=\"text-align: right;\">\n",
       "      <th></th>\n",
       "      <th>filename</th>\n",
       "      <th>author</th>\n",
       "      <th>title</th>\n",
       "      <th>year</th>\n",
       "      <th>textlength</th>\n",
       "      <th>text</th>\n",
       "    </tr>\n",
       "  </thead>\n",
       "  <tbody>\n",
       "    <tr>\n",
       "      <td>1524</td>\n",
       "      <td>Hermann_Löns_-_Dahinten_in_der_Heide_(1909)</td>\n",
       "      <td>Hermann Löns</td>\n",
       "      <td>Dahinten in der Heide</td>\n",
       "      <td>1909</td>\n",
       "      <td>40678</td>\n",
       "      <td>Roman Inhalt : Der Ortolan Der Goldammer Der T...</td>\n",
       "    </tr>\n",
       "  </tbody>\n",
       "</table>\n",
       "</div>"
      ],
      "text/plain": [
       "                                         filename        author  \\\n",
       "1524  Hermann_Löns_-_Dahinten_in_der_Heide_(1909)  Hermann Löns   \n",
       "\n",
       "                      title  year  textlength  \\\n",
       "1524  Dahinten in der Heide  1909       40678   \n",
       "\n",
       "                                                   text  \n",
       "1524  Roman Inhalt : Der Ortolan Der Goldammer Der T...  "
      ]
     },
     "execution_count": 17,
     "metadata": {},
     "output_type": "execute_result"
    }
   ],
   "source": [
    "rdf2[rdf2[\"title\"].str.contains(\"Dahinten in\")]"
   ]
  },
  {
   "cell_type": "markdown",
   "metadata": {},
   "source": [
    "#### Remove \"Dahinten in der Heide\""
   ]
  },
  {
   "cell_type": "code",
   "execution_count": 18,
   "metadata": {},
   "outputs": [
    {
     "data": {
      "text/plain": [
       "(2210, 6)"
      ]
     },
     "execution_count": 18,
     "metadata": {},
     "output_type": "execute_result"
    }
   ],
   "source": [
    "rdf2 = rdf2[rdf2[\"title\"] != \"Dahinten in der Heide\"] \n",
    "rdf2.shape"
   ]
  },
  {
   "cell_type": "markdown",
   "metadata": {},
   "source": [
    "5. Duplicate: Löns's \"Der letzte Hansbur\", \"Das zweite Gesicht\", \"Die Häuser von Ohlenhof\" appear again as part of \"Sämtl. Werke Teil 7\"."
   ]
  },
  {
   "cell_type": "code",
   "execution_count": 19,
   "metadata": {},
   "outputs": [
    {
     "data": {
      "text/html": [
       "<div>\n",
       "<style scoped>\n",
       "    .dataframe tbody tr th:only-of-type {\n",
       "        vertical-align: middle;\n",
       "    }\n",
       "\n",
       "    .dataframe tbody tr th {\n",
       "        vertical-align: top;\n",
       "    }\n",
       "\n",
       "    .dataframe thead th {\n",
       "        text-align: right;\n",
       "    }\n",
       "</style>\n",
       "<table border=\"1\" class=\"dataframe\">\n",
       "  <thead>\n",
       "    <tr style=\"text-align: right;\">\n",
       "      <th></th>\n",
       "      <th>filename</th>\n",
       "      <th>author</th>\n",
       "      <th>title</th>\n",
       "      <th>year</th>\n",
       "      <th>textlength</th>\n",
       "      <th>text</th>\n",
       "    </tr>\n",
       "  </thead>\n",
       "  <tbody>\n",
       "    <tr>\n",
       "      <td>475</td>\n",
       "      <td>Hermann_Löns_-_Sämtliche_Werke_-_Band_7_(1909)</td>\n",
       "      <td>Hermann Löns</td>\n",
       "      <td>Sämtliche Werke - Band 7</td>\n",
       "      <td>1909</td>\n",
       "      <td>185357</td>\n",
       "      <td>Gesammelte Werke , Band 7 Inhalt Der letzte Ha...</td>\n",
       "    </tr>\n",
       "  </tbody>\n",
       "</table>\n",
       "</div>"
      ],
      "text/plain": [
       "                                           filename        author  \\\n",
       "475  Hermann_Löns_-_Sämtliche_Werke_-_Band_7_(1909)  Hermann Löns   \n",
       "\n",
       "                        title  year  textlength  \\\n",
       "475  Sämtliche Werke - Band 7  1909      185357   \n",
       "\n",
       "                                                  text  \n",
       "475  Gesammelte Werke , Band 7 Inhalt Der letzte Ha...  "
      ]
     },
     "execution_count": 19,
     "metadata": {},
     "output_type": "execute_result"
    }
   ],
   "source": [
    "rdf2[rdf2[\"title\"].str.contains(\"Sämtliche Werke\")]"
   ]
  },
  {
   "cell_type": "markdown",
   "metadata": {},
   "source": [
    "#### Remove \"Sämtliche Werke - Band 7\""
   ]
  },
  {
   "cell_type": "code",
   "execution_count": 20,
   "metadata": {},
   "outputs": [
    {
     "data": {
      "text/plain": [
       "(2209, 6)"
      ]
     },
     "execution_count": 20,
     "metadata": {},
     "output_type": "execute_result"
    }
   ],
   "source": [
    "rdf2 = rdf2[rdf2[\"title\"] != \"Sämtliche Werke - Band 7\"]\n",
    "rdf2.shape"
   ]
  },
  {
   "cell_type": "markdown",
   "metadata": {},
   "source": [
    "6. Non-German Original: Strindberg's \"Beichte eines Toren\" is not a German original."
   ]
  },
  {
   "cell_type": "code",
   "execution_count": 21,
   "metadata": {},
   "outputs": [
    {
     "data": {
      "text/html": [
       "<div>\n",
       "<style scoped>\n",
       "    .dataframe tbody tr th:only-of-type {\n",
       "        vertical-align: middle;\n",
       "    }\n",
       "\n",
       "    .dataframe tbody tr th {\n",
       "        vertical-align: top;\n",
       "    }\n",
       "\n",
       "    .dataframe thead th {\n",
       "        text-align: right;\n",
       "    }\n",
       "</style>\n",
       "<table border=\"1\" class=\"dataframe\">\n",
       "  <thead>\n",
       "    <tr style=\"text-align: right;\">\n",
       "      <th></th>\n",
       "      <th>filename</th>\n",
       "      <th>author</th>\n",
       "      <th>title</th>\n",
       "      <th>year</th>\n",
       "      <th>textlength</th>\n",
       "      <th>text</th>\n",
       "    </tr>\n",
       "  </thead>\n",
       "  <tbody>\n",
       "    <tr>\n",
       "      <td>2053</td>\n",
       "      <td>August_Strindberg_-_Die_Beichte_eines_Thoren_(...</td>\n",
       "      <td>August Strindberg</td>\n",
       "      <td>Die Beichte eines Thoren</td>\n",
       "      <td>1895</td>\n",
       "      <td>93173</td>\n",
       "      <td>Roman 2 . Auflage . Budapest , 1894 . Carl Gri...</td>\n",
       "    </tr>\n",
       "  </tbody>\n",
       "</table>\n",
       "</div>"
      ],
      "text/plain": [
       "                                               filename             author  \\\n",
       "2053  August_Strindberg_-_Die_Beichte_eines_Thoren_(...  August Strindberg   \n",
       "\n",
       "                         title  year  textlength  \\\n",
       "2053  Die Beichte eines Thoren  1895       93173   \n",
       "\n",
       "                                                   text  \n",
       "2053  Roman 2 . Auflage . Budapest , 1894 . Carl Gri...  "
      ]
     },
     "execution_count": 21,
     "metadata": {},
     "output_type": "execute_result"
    }
   ],
   "source": [
    "rdf2[rdf2[\"title\"].str.contains(\"Die Beichte eines Thoren\")]"
   ]
  },
  {
   "cell_type": "markdown",
   "metadata": {},
   "source": [
    "#### Remove \"Die Beichte eines Thoren\""
   ]
  },
  {
   "cell_type": "code",
   "execution_count": 22,
   "metadata": {},
   "outputs": [
    {
     "data": {
      "text/plain": [
       "(2208, 6)"
      ]
     },
     "execution_count": 22,
     "metadata": {},
     "output_type": "execute_result"
    }
   ],
   "source": [
    "rdf2 = rdf2[rdf2[\"title\"] != \"Die Beichte eines Thoren\"]\n",
    "rdf2.shape"
   ]
  },
  {
   "cell_type": "markdown",
   "metadata": {},
   "source": [
    "Folgende Kritipunkte sind egal:\n",
    "- Non-Fiction: Heinrich Heine's \"Geständnisse\" and his \"Reisebilder\" would have to be regarded as non-fictional.\n",
    "- Non-Fiction: Seume's \"Spaziergang nach Syrakus\" is non-fictional."
   ]
  },
  {
   "cell_type": "markdown",
   "metadata": {},
   "source": [
    "## Plot length of texts"
   ]
  },
  {
   "cell_type": "markdown",
   "metadata": {},
   "source": [
    "### Abb. TODO - Textlängen Histogramm vor der \"Normalisierung\""
   ]
  },
  {
   "cell_type": "code",
   "execution_count": 23,
   "metadata": {},
   "outputs": [
    {
     "data": {
      "image/png": "[encoded data removed]",
      "text/plain": [
       "<Figure size 432x288 with 1 Axes>"
      ]
     },
     "metadata": {
      "needs_background": "light"
     },
     "output_type": "display_data"
    }
   ],
   "source": [
    "plt.hist(rdf2[\"textlength\"], \n",
    "         histtype=\"bar\",\n",
    "         color=\"#1f77b4\",\n",
    "         edgecolor=\"black\",\n",
    "         linewidth=0.4,\n",
    "         bins=100, \n",
    "         range=[0, 450000])\n",
    "plt.gca().set(title='Textlength histogram',\n",
    "              xlabel=\"Textlengths\",\n",
    "              ylabel='Textlength frequency')\n",
    "plt.xticks(np.arange(0, 450000, 50000))\n",
    "plt.savefig('../data/figures/textlength_before.png',\n",
    "            dpi=300,\n",
    "            bbox_inches='tight')\n",
    "plt.show()"
   ]
  },
  {
   "cell_type": "markdown",
   "metadata": {},
   "source": [
    "rechtsschiefe Verteilung (engl.: right-skewed distribution)"
   ]
  },
  {
   "cell_type": "markdown",
   "metadata": {},
   "source": [
    "#### TODO: hier weiter, texte normalisieren"
   ]
  },
  {
   "cell_type": "code",
   "execution_count": 24,
   "metadata": {},
   "outputs": [
    {
     "data": {
      "text/plain": [
       "63870.64311594203"
      ]
     },
     "execution_count": 24,
     "metadata": {},
     "output_type": "execute_result"
    }
   ],
   "source": [
    "#Mittelwert\n",
    "mean = np.mean(rdf2[\"textlength\"])\n",
    "mean"
   ]
  },
  {
   "cell_type": "code",
   "execution_count": 25,
   "metadata": {},
   "outputs": [
    {
     "data": {
      "text/plain": [
       "(866, 6)"
      ]
     },
     "execution_count": 25,
     "metadata": {},
     "output_type": "execute_result"
    }
   ],
   "source": [
    "ndf = rdf2[rdf2[\"textlength\"] > mean]\n",
    "ndf.shape"
   ]
  },
  {
   "cell_type": "code",
   "execution_count": 26,
   "metadata": {},
   "outputs": [
    {
     "data": {
      "image/png": "[encoded data removed]",
      "text/plain": [
       "<Figure size 432x288 with 1 Axes>"
      ]
     },
     "metadata": {
      "needs_background": "light"
     },
     "output_type": "display_data"
    }
   ],
   "source": [
    "plt.hist(ndf[\"textlength\"], \n",
    "         histtype=\"bar\",\n",
    "         color=\"#1f77b4\",\n",
    "         edgecolor=\"black\",\n",
    "         linewidth=0.4,\n",
    "         bins=100, \n",
    "         range=[60000, 450000])\n",
    "plt.gca().set(title='Textlength histogram',\n",
    "              xlabel=\"Textlengths\",\n",
    "              ylabel='Textlength frequency')\n",
    "plt.xticks(np.arange(50000, 450000, 50000))\n",
    "plt.savefig('../data/figures/textlength_after.png',\n",
    "            dpi=300,\n",
    "            bbox_inches='tight')\n",
    "plt.show()"
   ]
  },
  {
   "cell_type": "code",
   "execution_count": 27,
   "metadata": {},
   "outputs": [],
   "source": [
    "#ndf.to_csv(\"../data/rcorpus.csv\", index=False)"
   ]
  },
  {
   "cell_type": "markdown",
   "metadata": {},
   "source": [
    "## Entferne Autoren mit nur einem Werk"
   ]
  },
  {
   "cell_type": "code",
   "execution_count": 69,
   "metadata": {},
   "outputs": [],
   "source": [
    "nndf = ndf.groupby(\"author\").filter(lambda x: len(x) > 2)"
   ]
  },
  {
   "cell_type": "code",
   "execution_count": 70,
   "metadata": {},
   "outputs": [
    {
     "data": {
      "text/plain": [
       "(632, 6)"
      ]
     },
     "execution_count": 70,
     "metadata": {},
     "output_type": "execute_result"
    }
   ],
   "source": [
    "nndf.shape"
   ]
  },
  {
   "cell_type": "code",
   "execution_count": 71,
   "metadata": {
    "collapsed": true
   },
   "outputs": [
    {
     "data": {
      "text/plain": [
       "Karl May                 32\n",
       "Rudolph Stratz           18\n",
       "Robert Kraft             18\n",
       "Wilhelm Raabe            17\n",
       "Joseph von Lauff         16\n",
       "                         ..\n",
       "Fritz Mauthner            3\n",
       "Gregor Samarow            3\n",
       "Otto Julius Bierbaum      3\n",
       "Eduard von Keyserling     3\n",
       "Lena Christ               3\n",
       "Name: author, Length: 100, dtype: int64"
      ]
     },
     "execution_count": 71,
     "metadata": {},
     "output_type": "execute_result"
    }
   ],
   "source": [
    "value_counts = nndf[\"author\"].value_counts()\n",
    "value_counts"
   ]
  },
  {
   "cell_type": "code",
   "execution_count": 72,
   "metadata": {},
   "outputs": [],
   "source": [
    "#nndf.to_csv(\"../data/rcorpus.csv\", index=False)"
   ]
  },
  {
   "cell_type": "markdown",
   "metadata": {},
   "source": [
    "## "
   ]
  },
  {
   "cell_type": "code",
   "execution_count": 2,
   "metadata": {},
   "outputs": [],
   "source": [
    "nndf = pd.read_csv(\"../data/rcorpus.csv\")"
   ]
  },
  {
   "cell_type": "code",
   "execution_count": 3,
   "metadata": {},
   "outputs": [
    {
     "data": {
      "text/html": [
       "<div>\n",
       "<style scoped>\n",
       "    .dataframe tbody tr th:only-of-type {\n",
       "        vertical-align: middle;\n",
       "    }\n",
       "\n",
       "    .dataframe tbody tr th {\n",
       "        vertical-align: top;\n",
       "    }\n",
       "\n",
       "    .dataframe thead th {\n",
       "        text-align: right;\n",
       "    }\n",
       "</style>\n",
       "<table border=\"1\" class=\"dataframe\">\n",
       "  <thead>\n",
       "    <tr style=\"text-align: right;\">\n",
       "      <th></th>\n",
       "      <th>filename</th>\n",
       "      <th>author</th>\n",
       "      <th>title</th>\n",
       "      <th>year</th>\n",
       "      <th>textlength</th>\n",
       "      <th>text</th>\n",
       "    </tr>\n",
       "  </thead>\n",
       "  <tbody>\n",
       "    <tr>\n",
       "      <td>0</td>\n",
       "      <td>Max_Eyth_-_Der_Schneider_von_Ulm_(1906)</td>\n",
       "      <td>Max Eyth</td>\n",
       "      <td>Der Schneider von Ulm</td>\n",
       "      <td>1906</td>\n",
       "      <td>272961</td>\n",
       "      <td>[ cover ] Historischer Roman um den Mann , der...</td>\n",
       "    </tr>\n",
       "    <tr>\n",
       "      <td>1</td>\n",
       "      <td>Friedrich_Spielhagen_-_Platt_Land_(1878)</td>\n",
       "      <td>Friedrich Spielhagen</td>\n",
       "      <td>Platt Land</td>\n",
       "      <td>1878</td>\n",
       "      <td>205088</td>\n",
       "      <td>Erstes Buch Erstes Kapitel . Der Wagen hielt ,...</td>\n",
       "    </tr>\n",
       "    <tr>\n",
       "      <td>2</td>\n",
       "      <td>Jakob_Christoph_Heer_-_Der_Wetterwart_(1905)</td>\n",
       "      <td>Jakob Christoph Heer</td>\n",
       "      <td>Der Wetterwart</td>\n",
       "      <td>1905</td>\n",
       "      <td>120934</td>\n",
       "      <td>1925 I Die feierliche Abendhelle steht über de...</td>\n",
       "    </tr>\n",
       "    <tr>\n",
       "      <td>3</td>\n",
       "      <td>Robert_Kraft_-_Detektiv_Nobody's_Erlebnisse_un...</td>\n",
       "      <td>Robert Kraft</td>\n",
       "      <td>Detektiv Nobodys Erlebnisse und Reiseabenteuer...</td>\n",
       "      <td>1904</td>\n",
       "      <td>203192</td>\n",
       "      <td>. Detektiv Nobody 's Erlebnisse und Reiseabent...</td>\n",
       "    </tr>\n",
       "    <tr>\n",
       "      <td>4</td>\n",
       "      <td>Johannes_Richard_zur_Megede_-_Der_Ueberkater_-...</td>\n",
       "      <td>Johannes Richard zur Megede</td>\n",
       "      <td>Der Ueberkater - Band 1</td>\n",
       "      <td>1904</td>\n",
       "      <td>107779</td>\n",
       "      <td>Johann Richard zur Megede Der Ueberkater Erste...</td>\n",
       "    </tr>\n",
       "  </tbody>\n",
       "</table>\n",
       "</div>"
      ],
      "text/plain": [
       "                                            filename  \\\n",
       "0            Max_Eyth_-_Der_Schneider_von_Ulm_(1906)   \n",
       "1           Friedrich_Spielhagen_-_Platt_Land_(1878)   \n",
       "2       Jakob_Christoph_Heer_-_Der_Wetterwart_(1905)   \n",
       "3  Robert_Kraft_-_Detektiv_Nobody's_Erlebnisse_un...   \n",
       "4  Johannes_Richard_zur_Megede_-_Der_Ueberkater_-...   \n",
       "\n",
       "                        author  \\\n",
       "0                     Max Eyth   \n",
       "1         Friedrich Spielhagen   \n",
       "2         Jakob Christoph Heer   \n",
       "3                 Robert Kraft   \n",
       "4  Johannes Richard zur Megede   \n",
       "\n",
       "                                               title  year  textlength  \\\n",
       "0                              Der Schneider von Ulm  1906      272961   \n",
       "1                                         Platt Land  1878      205088   \n",
       "2                                     Der Wetterwart  1905      120934   \n",
       "3  Detektiv Nobodys Erlebnisse und Reiseabenteuer...  1904      203192   \n",
       "4                            Der Ueberkater - Band 1  1904      107779   \n",
       "\n",
       "                                                text  \n",
       "0  [ cover ] Historischer Roman um den Mann , der...  \n",
       "1  Erstes Buch Erstes Kapitel . Der Wagen hielt ,...  \n",
       "2  1925 I Die feierliche Abendhelle steht über de...  \n",
       "3  . Detektiv Nobody 's Erlebnisse und Reiseabent...  \n",
       "4  Johann Richard zur Megede Der Ueberkater Erste...  "
      ]
     },
     "execution_count": 3,
     "metadata": {},
     "output_type": "execute_result"
    }
   ],
   "source": [
    "nndf.head()"
   ]
  },
  {
   "cell_type": "code",
   "execution_count": null,
   "metadata": {},
   "outputs": [],
   "source": []
  }
 ],
 "metadata": {
  "kernelspec": {
   "display_name": "Python 3",
   "language": "python",
   "name": "python3"
  },
  "language_info": {
   "codemirror_mode": {
    "name": "ipython",
    "version": 3
   },
   "file_extension": ".py",
   "mimetype": "text/x-python",
   "name": "python",
   "nbconvert_exporter": "python",
   "pygments_lexer": "ipython3",
   "version": "3.7.4"
  }
 },
 "nbformat": 4,
 "nbformat_minor": 2
}
