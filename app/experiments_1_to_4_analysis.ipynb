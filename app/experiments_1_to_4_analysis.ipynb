{
 "cells": [
  {
   "cell_type": "markdown",
   "metadata": {},
   "source": [
    "# Experiments 1 to 4: Analysis"
   ]
  },
  {
   "cell_type": "code",
   "execution_count": 1,
   "metadata": {},
   "outputs": [],
   "source": [
    "import glob\n",
    "import numpy as np\n",
    "import pandas as pd\n",
    "from typing import Dict, List, Optional, Tuple, Union\n",
    "from utils import df_to_latex, summarize_tables, sum_table_to_df"
   ]
  },
  {
   "cell_type": "code",
   "execution_count": 7,
   "metadata": {},
   "outputs": [],
   "source": [
    "experiments_path = \"../data/analysis/experiment_summary_1_to_4\"\n",
    "vectorization_methods = [\"bow\", \"zscore\", \"tfidf\", \"cos\"]"
   ]
  },
  {
   "cell_type": "markdown",
   "metadata": {},
   "source": [
    "## Prose corpus"
   ]
  },
  {
   "cell_type": "code",
   "execution_count": 3,
   "metadata": {},
   "outputs": [],
   "source": [
    "prose_path = experiments_path + \"/prose/all_classification_tables/\"\n",
    "prose_clf_tables = glob.glob(prose_path + \"/*.csv\")"
   ]
  },
  {
   "cell_type": "code",
   "execution_count": 9,
   "metadata": {},
   "outputs": [],
   "source": [
    "prose_dict = {}\n",
    "\n",
    "for vectorization_method in vectorization_methods:\n",
    "    prose_dict[vectorization_method] = sum_table_to_df(summarize_tables(prose_clf_tables, \n",
    "                                                                        prose_path, \n",
    "                                                                        vectorization_method))"
   ]
  },
  {
   "cell_type": "code",
   "execution_count": 12,
   "metadata": {},
   "outputs": [],
   "source": [
    "prose_bow_df = prose_dict[\"bow\"]\n",
    "prose_zscore_df = prose_dict[\"zscore\"]\n",
    "prose_tfidf_df = prose_dict[\"tfidf\"]\n",
    "prose_cos_df = prose_dict[\"cos\"]"
   ]
  },
  {
   "cell_type": "markdown",
   "metadata": {},
   "source": [
    "### Prose DataFrames to latex tables (remove comment for desired table)"
   ]
  },
  {
   "cell_type": "code",
   "execution_count": 14,
   "metadata": {},
   "outputs": [],
   "source": [
    "#print(df_to_latex(prose_bow_df))\n",
    "#print(df_to_latex(prose_zscore_df))\n",
    "#print(df_to_latex(prose_tfidf_df))\n",
    "#print(df_to_latex(prose_cos_df))"
   ]
  },
  {
   "cell_type": "markdown",
   "metadata": {},
   "source": [
    "## Speeches corpus"
   ]
  },
  {
   "cell_type": "code",
   "execution_count": 21,
   "metadata": {},
   "outputs": [],
   "source": [
    "speeches_path = experiments_path + \"/speeches/all_classification_tables/\"\n",
    "speeches_clf_tables = glob.glob(speeches_path + \"/*.csv\")"
   ]
  },
  {
   "cell_type": "code",
   "execution_count": 22,
   "metadata": {},
   "outputs": [],
   "source": [
    "speeches_dict = {}\n",
    "\n",
    "for vectorization_method in vectorization_methods:\n",
    "    speeches_dict[vectorization_method] = sum_table_to_df(summarize_tables(speeches_clf_tables, \n",
    "                                                                           speeches_path, \n",
    "                                                                           vectorization_method))"
   ]
  },
  {
   "cell_type": "code",
   "execution_count": 23,
   "metadata": {},
   "outputs": [],
   "source": [
    "speeches_bow_df = speeches_dict[\"bow\"]\n",
    "speeches_zscore_df = speeches_dict[\"zscore\"]\n",
    "speeches_tfidf_df = speeches_dict[\"tfidf\"]\n",
    "speeches_cos_df = speeches_dict[\"cos\"]"
   ]
  },
  {
   "cell_type": "markdown",
   "metadata": {},
   "source": [
    "### Speeches DataFrames to latex tables (remove comment for desired table)"
   ]
  },
  {
   "cell_type": "code",
   "execution_count": 26,
   "metadata": {},
   "outputs": [],
   "source": [
    "#print(df_to_latex(speeches_bow_df))\n",
    "#print(df_to_latex(speeches_zscore_df))\n",
    "#print(df_to_latex(speeches_tfidf_df))\n",
    "#print(df_to_latex(speeches_cos_df))"
   ]
  },
  {
   "cell_type": "code",
   "execution_count": null,
   "metadata": {},
   "outputs": [],
   "source": []
  }
 ],
 "metadata": {
  "kernelspec": {
   "display_name": "Python 3",
   "language": "python",
   "name": "python3"
  },
  "language_info": {
   "codemirror_mode": {
    "name": "ipython",
    "version": 3
   },
   "file_extension": ".py",
   "mimetype": "text/x-python",
   "name": "python",
   "nbconvert_exporter": "python",
   "pygments_lexer": "ipython3",
   "version": "3.7.3"
  }
 },
 "nbformat": 4,
 "nbformat_minor": 4
}
