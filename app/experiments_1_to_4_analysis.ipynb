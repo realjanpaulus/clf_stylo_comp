{
 "cells": [
  {
   "cell_type": "markdown",
   "metadata": {},
   "source": [
    "# Experiments 1 to 4: Analysis"
   ]
  },
  {
   "cell_type": "code",
   "execution_count": 1,
   "metadata": {},
   "outputs": [],
   "source": [
    "import glob\n",
    "import numpy as np\n",
    "import pandas as pd\n",
    "from typing import Dict, List, Optional, Tuple, Union\n",
    "from utils import df_to_latex, summarize_tables, sum_table_to_df"
   ]
  },
  {
   "cell_type": "code",
   "execution_count": 7,
   "metadata": {},
   "outputs": [],
   "source": [
    "experiments_path = \"../data/analysis/experiment_summary_1_to_4\"\n",
    "vectorization_methods = [\"bow\", \"zscore\", \"tfidf\", \"cos\"]\n",
    "drop_not_tuned = True"
   ]
  },
  {
   "cell_type": "markdown",
   "metadata": {},
   "source": [
    "## Prose corpus (only tuned classification methods)"
   ]
  },
  {
   "cell_type": "code",
   "execution_count": 8,
   "metadata": {},
   "outputs": [],
   "source": [
    "prose_path = experiments_path + \"/prose/all_classification_tables/\"\n",
    "prose_clf_tables = glob.glob(prose_path + \"/*.csv\")"
   ]
  },
  {
   "cell_type": "code",
   "execution_count": 9,
   "metadata": {},
   "outputs": [],
   "source": [
    "prose_dict = {}\n",
    "\n",
    "for vectorization_method in vectorization_methods:\n",
    "    prose_dict[vectorization_method] = sum_table_to_df(summarize_tables(prose_clf_tables, \n",
    "                                                                        prose_path, \n",
    "                                                                        vectorization_method,\n",
    "                                                                        drop_not_tuned = drop_not_tuned))"
   ]
  },
  {
   "cell_type": "code",
   "execution_count": 10,
   "metadata": {},
   "outputs": [],
   "source": [
    "prose_bow_df = prose_dict[\"bow\"]\n",
    "prose_zscore_df = prose_dict[\"zscore\"]\n",
    "prose_tfidf_df = prose_dict[\"tfidf\"]\n",
    "prose_cos_df = prose_dict[\"cos\"]"
   ]
  },
  {
   "cell_type": "code",
   "execution_count": 11,
   "metadata": {},
   "outputs": [
    {
     "data": {
      "text/html": [
       "<div>\n",
       "<style scoped>\n",
       "    .dataframe tbody tr th:only-of-type {\n",
       "        vertical-align: middle;\n",
       "    }\n",
       "\n",
       "    .dataframe tbody tr th {\n",
       "        vertical-align: top;\n",
       "    }\n",
       "\n",
       "    .dataframe thead th {\n",
       "        text-align: right;\n",
       "    }\n",
       "</style>\n",
       "<table border=\"1\" class=\"dataframe\">\n",
       "  <thead>\n",
       "    <tr style=\"text-align: right;\">\n",
       "      <th></th>\n",
       "      <th>200</th>\n",
       "      <th>300</th>\n",
       "      <th>500</th>\n",
       "      <th>1000</th>\n",
       "      <th>2000</th>\n",
       "      <th>3000</th>\n",
       "    </tr>\n",
       "  </thead>\n",
       "  <tbody>\n",
       "    <tr>\n",
       "      <th>tKNN</th>\n",
       "      <td>0.731 (0.615)</td>\n",
       "      <td>0.74 (0.641)</td>\n",
       "      <td>0.767 (0.674)</td>\n",
       "      <td>0.809 (0.69)</td>\n",
       "      <td>0.833 (0.72)</td>\n",
       "      <td>0.829 (0.738)</td>\n",
       "    </tr>\n",
       "    <tr>\n",
       "      <th>tNSC</th>\n",
       "      <td>0.529 (0.499)</td>\n",
       "      <td>0.581 (0.521)</td>\n",
       "      <td>0.62 (0.56)</td>\n",
       "      <td>0.672 (0.578)</td>\n",
       "      <td>0.731 (0.621)</td>\n",
       "      <td>0.739 (0.652)</td>\n",
       "    </tr>\n",
       "    <tr>\n",
       "      <th>tMNB</th>\n",
       "      <td>0.899 (0.845)</td>\n",
       "      <td>0.935 (0.878)</td>\n",
       "      <td>0.941 (0.896)</td>\n",
       "      <td>0.949 (0.913)</td>\n",
       "      <td>0.966 (0.915)</td>\n",
       "      <td>0.97 (0.926)</td>\n",
       "    </tr>\n",
       "    <tr>\n",
       "      <th>tLSVM</th>\n",
       "      <td>0.95 (0.883)</td>\n",
       "      <td>0.956 (0.888)</td>\n",
       "      <td>0.963 (0.899)</td>\n",
       "      <td>0.963 (0.899)</td>\n",
       "      <td>0.969 (0.895)</td>\n",
       "      <td>0.96 (0.902)</td>\n",
       "    </tr>\n",
       "    <tr>\n",
       "      <th>tLR</th>\n",
       "      <td>0.968 (0.945)</td>\n",
       "      <td>0.986 (0.955)</td>\n",
       "      <td>0.979 (0.953)</td>\n",
       "      <td>0.96 (0.9)</td>\n",
       "      <td>0.938 (0.834)</td>\n",
       "      <td>0.907 (0.793)</td>\n",
       "    </tr>\n",
       "  </tbody>\n",
       "</table>\n",
       "</div>"
      ],
      "text/plain": [
       "                200            300            500            1000  \\\n",
       "tKNN   0.731 (0.615)   0.74 (0.641)  0.767 (0.674)   0.809 (0.69)   \n",
       "tNSC   0.529 (0.499)  0.581 (0.521)    0.62 (0.56)  0.672 (0.578)   \n",
       "tMNB   0.899 (0.845)  0.935 (0.878)  0.941 (0.896)  0.949 (0.913)   \n",
       "tLSVM   0.95 (0.883)  0.956 (0.888)  0.963 (0.899)  0.963 (0.899)   \n",
       "tLR    0.968 (0.945)  0.986 (0.955)  0.979 (0.953)     0.96 (0.9)   \n",
       "\n",
       "                2000           3000  \n",
       "tKNN    0.833 (0.72)  0.829 (0.738)  \n",
       "tNSC   0.731 (0.621)  0.739 (0.652)  \n",
       "tMNB   0.966 (0.915)   0.97 (0.926)  \n",
       "tLSVM  0.969 (0.895)   0.96 (0.902)  \n",
       "tLR    0.938 (0.834)  0.907 (0.793)  "
      ]
     },
     "execution_count": 11,
     "metadata": {},
     "output_type": "execute_result"
    }
   ],
   "source": [
    "prose_bow_df"
   ]
  },
  {
   "cell_type": "markdown",
   "metadata": {},
   "source": [
    "### Prose DataFrames to latex tables (remove comment for desired table)"
   ]
  },
  {
   "cell_type": "code",
   "execution_count": 16,
   "metadata": {},
   "outputs": [],
   "source": [
    "#print(df_to_latex(prose_bow_df))\n",
    "#print(df_to_latex(prose_zscore_df))\n",
    "#print(df_to_latex(prose_tfidf_df))\n",
    "#print(df_to_latex(prose_cos_df))"
   ]
  },
  {
   "cell_type": "markdown",
   "metadata": {},
   "source": [
    "## Speeches corpus"
   ]
  },
  {
   "cell_type": "code",
   "execution_count": 17,
   "metadata": {},
   "outputs": [],
   "source": [
    "speeches_path = experiments_path + \"/speeches/all_classification_tables/\"\n",
    "speeches_clf_tables = glob.glob(speeches_path + \"/*.csv\")"
   ]
  },
  {
   "cell_type": "code",
   "execution_count": 18,
   "metadata": {},
   "outputs": [],
   "source": [
    "speeches_dict = {}\n",
    "\n",
    "for vectorization_method in vectorization_methods:\n",
    "    speeches_dict[vectorization_method] = sum_table_to_df(summarize_tables(speeches_clf_tables, \n",
    "                                                                           speeches_path, \n",
    "                                                                           vectorization_method,\n",
    "                                                                           drop_not_tuned = drop_not_tuned))"
   ]
  },
  {
   "cell_type": "code",
   "execution_count": 19,
   "metadata": {},
   "outputs": [],
   "source": [
    "speeches_bow_df = speeches_dict[\"bow\"]\n",
    "speeches_zscore_df = speeches_dict[\"zscore\"]\n",
    "speeches_tfidf_df = speeches_dict[\"tfidf\"]\n",
    "speeches_cos_df = speeches_dict[\"cos\"]"
   ]
  },
  {
   "cell_type": "markdown",
   "metadata": {},
   "source": [
    "### Speeches DataFrames to latex tables (remove comment for desired table)"
   ]
  },
  {
   "cell_type": "code",
   "execution_count": 20,
   "metadata": {},
   "outputs": [
    {
     "name": "stdout",
     "output_type": "stream",
     "text": [
      "\\small\n",
      "\\begin{tabular}{c|cccccc}\n",
      "\\hline\n",
      "& \\textbf{200} & \\textbf{300} & \\textbf{500} & \\textbf{1000} & \\textbf{2000} & \\textbf{3000}\\\\\\hline\n",
      "\\textbf{tKNN} & 0.385 (0.391) & 0.412 (0.401) & 0.377 (0.418) & 0.404 (0.441) & 0.492 (0.454) & 0.388 (0.44)\\\\\n",
      "\\textbf{tNSC} & 0.265 (0.239) & 0.265 (0.268) & 0.319 (0.263) & 0.292 (0.288) & 0.281 (0.307) & 0.285 (0.303)\\\\\n",
      "\\textbf{tMNB} & 0.631 (0.576) & 0.638 (0.629) & 0.688 (0.638) & 0.65 (0.677) & 0.658 (0.69) & 0.731 (0.685)\\\\\n",
      "\\textbf{tLSVM} & 0.55 (0.5) & 0.558 (0.519) & 0.581 (0.554) & 0.6 (0.562) & 0.612 (0.572) & 0.612 (0.575)\\\\\n",
      "\\textbf{tLR} & 0.542 (0.509) & 0.527 (0.502) & 0.565 (0.542) & 0.542 (0.537) & 0.562 (0.554) & 0.535 (0.538)\\\\\n",
      "\\end{tabular}\n"
     ]
    }
   ],
   "source": [
    "print(df_to_latex(speeches_bow_df))\n",
    "#print(df_to_latex(speeches_zscore_df))\n",
    "#print(df_to_latex(speeches_tfidf_df))\n",
    "#print(df_to_latex(speeches_cos_df))"
   ]
  },
  {
   "cell_type": "code",
   "execution_count": null,
   "metadata": {},
   "outputs": [],
   "source": []
  }
 ],
 "metadata": {
  "kernelspec": {
   "display_name": "Python 3",
   "language": "python",
   "name": "python3"
  },
  "language_info": {
   "codemirror_mode": {
    "name": "ipython",
    "version": 3
   },
   "file_extension": ".py",
   "mimetype": "text/x-python",
   "name": "python",
   "nbconvert_exporter": "python",
   "pygments_lexer": "ipython3",
   "version": "3.7.4"
  }
 },
 "nbformat": 4,
 "nbformat_minor": 4
}
