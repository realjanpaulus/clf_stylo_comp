{
 "cells": [
  {
   "cell_type": "markdown",
   "metadata": {},
   "source": [
    "# Prose Corpus Reduction (again)"
   ]
  },
  {
   "cell_type": "code",
   "execution_count": 23,
   "metadata": {},
   "outputs": [],
   "source": [
    "from nltk import word_tokenize\n",
    "import numpy as np\n",
    "import pandas as pd"
   ]
  },
  {
   "cell_type": "markdown",
   "metadata": {},
   "source": [
    "## Loading original prose corpus"
   ]
  },
  {
   "cell_type": "code",
   "execution_count": 24,
   "metadata": {},
   "outputs": [],
   "source": [
    "corpus = pd.read_csv(\"../data/corpora/prose_corpus.csv\")"
   ]
  },
  {
   "cell_type": "code",
   "execution_count": 25,
   "metadata": {},
   "outputs": [
    {
     "data": {
      "text/html": [
       "<div>\n",
       "<style scoped>\n",
       "    .dataframe tbody tr th:only-of-type {\n",
       "        vertical-align: middle;\n",
       "    }\n",
       "\n",
       "    .dataframe tbody tr th {\n",
       "        vertical-align: top;\n",
       "    }\n",
       "\n",
       "    .dataframe thead th {\n",
       "        text-align: right;\n",
       "    }\n",
       "</style>\n",
       "<table border=\"1\" class=\"dataframe\">\n",
       "  <thead>\n",
       "    <tr style=\"text-align: right;\">\n",
       "      <th></th>\n",
       "      <th>filename</th>\n",
       "      <th>author</th>\n",
       "      <th>title</th>\n",
       "      <th>year</th>\n",
       "      <th>textlength</th>\n",
       "      <th>text</th>\n",
       "    </tr>\n",
       "  </thead>\n",
       "  <tbody>\n",
       "    <tr>\n",
       "      <th>0</th>\n",
       "      <td>Jakob_Christoph_Heer_-_Der_Wetterwart_(1905)</td>\n",
       "      <td>Jakob Christoph Heer</td>\n",
       "      <td>Der Wetterwart</td>\n",
       "      <td>1905</td>\n",
       "      <td>120934</td>\n",
       "      <td>1925 I Die feierliche Abendhelle steht über de...</td>\n",
       "    </tr>\n",
       "    <tr>\n",
       "      <th>1</th>\n",
       "      <td>Johannes_Richard_zur_Megede_-_Der_Ueberkater_-...</td>\n",
       "      <td>Johannes Richard zur Megede</td>\n",
       "      <td>Der Ueberkater - Band 1</td>\n",
       "      <td>1904</td>\n",
       "      <td>107779</td>\n",
       "      <td>Erster Band Fräulein Elisabeth von Skal in da...</td>\n",
       "    </tr>\n",
       "  </tbody>\n",
       "</table>\n",
       "</div>"
      ],
      "text/plain": [
       "                                            filename  \\\n",
       "0       Jakob_Christoph_Heer_-_Der_Wetterwart_(1905)   \n",
       "1  Johannes_Richard_zur_Megede_-_Der_Ueberkater_-...   \n",
       "\n",
       "                        author                    title  year  textlength  \\\n",
       "0         Jakob Christoph Heer           Der Wetterwart  1905      120934   \n",
       "1  Johannes Richard zur Megede  Der Ueberkater - Band 1  1904      107779   \n",
       "\n",
       "                                                text  \n",
       "0  1925 I Die feierliche Abendhelle steht über de...  \n",
       "1   Erster Band Fräulein Elisabeth von Skal in da...  "
      ]
     },
     "execution_count": 25,
     "metadata": {},
     "output_type": "execute_result"
    }
   ],
   "source": [
    "corpus.head(2)"
   ]
  },
  {
   "cell_type": "code",
   "execution_count": 26,
   "metadata": {},
   "outputs": [
    {
     "data": {
      "text/html": [
       "<div>\n",
       "<style scoped>\n",
       "    .dataframe tbody tr th:only-of-type {\n",
       "        vertical-align: middle;\n",
       "    }\n",
       "\n",
       "    .dataframe tbody tr th {\n",
       "        vertical-align: top;\n",
       "    }\n",
       "\n",
       "    .dataframe thead th {\n",
       "        text-align: right;\n",
       "    }\n",
       "</style>\n",
       "<table border=\"1\" class=\"dataframe\">\n",
       "  <thead>\n",
       "    <tr style=\"text-align: right;\">\n",
       "      <th></th>\n",
       "      <th>filename</th>\n",
       "      <th>author</th>\n",
       "      <th>title</th>\n",
       "      <th>year</th>\n",
       "      <th>textlength</th>\n",
       "      <th>text</th>\n",
       "    </tr>\n",
       "  </thead>\n",
       "  <tbody>\n",
       "    <tr>\n",
       "      <th>2</th>\n",
       "      <td>Johannes_Richard_zur_Megede_-_Félicie_(1900)</td>\n",
       "      <td>Johannes Richard zur Megede</td>\n",
       "      <td>Félicie</td>\n",
       "      <td>1900</td>\n",
       "      <td>120419</td>\n",
       "      <td>Aus den Briefen eines Toren Erstes Kapitel . D...</td>\n",
       "    </tr>\n",
       "    <tr>\n",
       "      <th>3</th>\n",
       "      <td>Wilhelm_Heinrich_Riehl_-_Durch_tausend_Jahre_–...</td>\n",
       "      <td>Wilhelm Heinrich Riehl</td>\n",
       "      <td>Durch tausend Jahre  Dritter Band</td>\n",
       "      <td>1897</td>\n",
       "      <td>156343</td>\n",
       "      <td>Jahre – Dritter Band Fünfzig kulturgeschichtl...</td>\n",
       "    </tr>\n",
       "    <tr>\n",
       "      <th>4</th>\n",
       "      <td>Levin_Schücking_-_Luther_in_Rom_(1870)</td>\n",
       "      <td>Levin Schücking</td>\n",
       "      <td>Luther in Rom</td>\n",
       "      <td>1870</td>\n",
       "      <td>138121</td>\n",
       "      <td>Ich wollte nicht hunderttausend Gülden nehmen ...</td>\n",
       "    </tr>\n",
       "    <tr>\n",
       "      <th>7</th>\n",
       "      <td>Rudolph_Stratz_-_Montblanc_(1899)</td>\n",
       "      <td>Rudolph Stratz</td>\n",
       "      <td>Montblanc</td>\n",
       "      <td>1899</td>\n",
       "      <td>73427</td>\n",
       "      <td>Bergroman 1 . Vorwärts – vorwärts ! Unter den ...</td>\n",
       "    </tr>\n",
       "    <tr>\n",
       "      <th>8</th>\n",
       "      <td>Karl_von_Holtei_-_Der_letzte_Komödiant_-_Dritt...</td>\n",
       "      <td>Karl von Holtei</td>\n",
       "      <td>Der letzte Komödiant - Dritter Teil</td>\n",
       "      <td>1863</td>\n",
       "      <td>81167</td>\n",
       "      <td>Komödiant – Dritter Teil Roman in drei Teilen...</td>\n",
       "    </tr>\n",
       "  </tbody>\n",
       "</table>\n",
       "</div>"
      ],
      "text/plain": [
       "                                            filename  \\\n",
       "2       Johannes_Richard_zur_Megede_-_Félicie_(1900)   \n",
       "3  Wilhelm_Heinrich_Riehl_-_Durch_tausend_Jahre_–...   \n",
       "4             Levin_Schücking_-_Luther_in_Rom_(1870)   \n",
       "7                  Rudolph_Stratz_-_Montblanc_(1899)   \n",
       "8  Karl_von_Holtei_-_Der_letzte_Komödiant_-_Dritt...   \n",
       "\n",
       "                        author                                title  year  \\\n",
       "2  Johannes Richard zur Megede                              Félicie  1900   \n",
       "3       Wilhelm Heinrich Riehl    Durch tausend Jahre  Dritter Band  1897   \n",
       "4              Levin Schücking                        Luther in Rom  1870   \n",
       "7               Rudolph Stratz                            Montblanc  1899   \n",
       "8              Karl von Holtei  Der letzte Komödiant - Dritter Teil  1863   \n",
       "\n",
       "   textlength                                               text  \n",
       "2      120419  Aus den Briefen eines Toren Erstes Kapitel . D...  \n",
       "3      156343   Jahre – Dritter Band Fünfzig kulturgeschichtl...  \n",
       "4      138121  Ich wollte nicht hunderttausend Gülden nehmen ...  \n",
       "7       73427  Bergroman 1 . Vorwärts – vorwärts ! Unter den ...  \n",
       "8       81167   Komödiant – Dritter Teil Roman in drei Teilen...  "
      ]
     },
     "execution_count": 26,
     "metadata": {},
     "output_type": "execute_result"
    }
   ],
   "source": [
    "criteria = (corpus[\"year\"] >= 1840) & (corpus[\"year\"] <= 1900)\n",
    "rcorpus = corpus[criteria]\n",
    "rcorpus.head()"
   ]
  },
  {
   "cell_type": "code",
   "execution_count": 27,
   "metadata": {},
   "outputs": [
    {
     "data": {
      "text/plain": [
       "(256, 6)"
      ]
     },
     "execution_count": 27,
     "metadata": {},
     "output_type": "execute_result"
    }
   ],
   "source": [
    "rcorpus.shape"
   ]
  },
  {
   "cell_type": "code",
   "execution_count": 28,
   "metadata": {},
   "outputs": [
    {
     "name": "stdout",
     "output_type": "stream",
     "text": [
      "CPU times: user 2min 6s, sys: 132 ms, total: 2min 6s\n",
      "Wall time: 2min 6s\n"
     ]
    }
   ],
   "source": [
    "%%time\n",
    "tmp_dict = {}\n",
    "for index, row in rcorpus.iterrows():\n",
    "    new_text = word_tokenize(row[\"text\"])[:10000]\n",
    "    new_textlength = len(new_text)\n",
    "    new_text = \" \".join(new_text)\n",
    "    tmp_dict[row[\"filename\"]] = {\"author\" : row[\"author\"],\n",
    "                                  \"title\" : row[\"title\"],\n",
    "                                  \"year\" : row[\"year\"],\n",
    "                                  \"textlength\" : new_textlength,\n",
    "                                  \"text\" : new_text}\n",
    "rcorpus2 = pd.DataFrame.from_dict(tmp_dict, orient=\"index\").reset_index()\n",
    "rcorpus2.columns = [\"filename\", \"author\", \"title\", \"year\", \"textlength\", \"text\"]"
   ]
  },
  {
   "cell_type": "code",
   "execution_count": 29,
   "metadata": {},
   "outputs": [
    {
     "data": {
      "text/html": [
       "<div>\n",
       "<style scoped>\n",
       "    .dataframe tbody tr th:only-of-type {\n",
       "        vertical-align: middle;\n",
       "    }\n",
       "\n",
       "    .dataframe tbody tr th {\n",
       "        vertical-align: top;\n",
       "    }\n",
       "\n",
       "    .dataframe thead th {\n",
       "        text-align: right;\n",
       "    }\n",
       "</style>\n",
       "<table border=\"1\" class=\"dataframe\">\n",
       "  <thead>\n",
       "    <tr style=\"text-align: right;\">\n",
       "      <th></th>\n",
       "      <th>filename</th>\n",
       "      <th>author</th>\n",
       "      <th>title</th>\n",
       "      <th>year</th>\n",
       "      <th>textlength</th>\n",
       "      <th>text</th>\n",
       "    </tr>\n",
       "  </thead>\n",
       "  <tbody>\n",
       "    <tr>\n",
       "      <th>0</th>\n",
       "      <td>Johannes_Richard_zur_Megede_-_Félicie_(1900)</td>\n",
       "      <td>Johannes Richard zur Megede</td>\n",
       "      <td>Félicie</td>\n",
       "      <td>1900</td>\n",
       "      <td>10000</td>\n",
       "      <td>Aus den Briefen eines Toren Erstes Kapitel . D...</td>\n",
       "    </tr>\n",
       "    <tr>\n",
       "      <th>1</th>\n",
       "      <td>Wilhelm_Heinrich_Riehl_-_Durch_tausend_Jahre_–...</td>\n",
       "      <td>Wilhelm Heinrich Riehl</td>\n",
       "      <td>Durch tausend Jahre  Dritter Band</td>\n",
       "      <td>1897</td>\n",
       "      <td>10000</td>\n",
       "      <td>Jahre – Dritter Band Fünfzig kulturgeschichtli...</td>\n",
       "    </tr>\n",
       "    <tr>\n",
       "      <th>2</th>\n",
       "      <td>Levin_Schücking_-_Luther_in_Rom_(1870)</td>\n",
       "      <td>Levin Schücking</td>\n",
       "      <td>Luther in Rom</td>\n",
       "      <td>1870</td>\n",
       "      <td>10000</td>\n",
       "      <td>Ich wollte nicht hunderttausend Gülden nehmen ...</td>\n",
       "    </tr>\n",
       "    <tr>\n",
       "      <th>3</th>\n",
       "      <td>Rudolph_Stratz_-_Montblanc_(1899)</td>\n",
       "      <td>Rudolph Stratz</td>\n",
       "      <td>Montblanc</td>\n",
       "      <td>1899</td>\n",
       "      <td>10000</td>\n",
       "      <td>Bergroman 1 . Vorwärts – vorwärts ! Unter den ...</td>\n",
       "    </tr>\n",
       "    <tr>\n",
       "      <th>4</th>\n",
       "      <td>Karl_von_Holtei_-_Der_letzte_Komödiant_-_Dritt...</td>\n",
       "      <td>Karl von Holtei</td>\n",
       "      <td>Der letzte Komödiant - Dritter Teil</td>\n",
       "      <td>1863</td>\n",
       "      <td>10000</td>\n",
       "      <td>Komödiant – Dritter Teil Roman in drei Teilen ...</td>\n",
       "    </tr>\n",
       "  </tbody>\n",
       "</table>\n",
       "</div>"
      ],
      "text/plain": [
       "                                            filename  \\\n",
       "0       Johannes_Richard_zur_Megede_-_Félicie_(1900)   \n",
       "1  Wilhelm_Heinrich_Riehl_-_Durch_tausend_Jahre_–...   \n",
       "2             Levin_Schücking_-_Luther_in_Rom_(1870)   \n",
       "3                  Rudolph_Stratz_-_Montblanc_(1899)   \n",
       "4  Karl_von_Holtei_-_Der_letzte_Komödiant_-_Dritt...   \n",
       "\n",
       "                        author                                title  year  \\\n",
       "0  Johannes Richard zur Megede                              Félicie  1900   \n",
       "1       Wilhelm Heinrich Riehl    Durch tausend Jahre  Dritter Band  1897   \n",
       "2              Levin Schücking                        Luther in Rom  1870   \n",
       "3               Rudolph Stratz                            Montblanc  1899   \n",
       "4              Karl von Holtei  Der letzte Komödiant - Dritter Teil  1863   \n",
       "\n",
       "   textlength                                               text  \n",
       "0       10000  Aus den Briefen eines Toren Erstes Kapitel . D...  \n",
       "1       10000  Jahre – Dritter Band Fünfzig kulturgeschichtli...  \n",
       "2       10000  Ich wollte nicht hunderttausend Gülden nehmen ...  \n",
       "3       10000  Bergroman 1 . Vorwärts – vorwärts ! Unter den ...  \n",
       "4       10000  Komödiant – Dritter Teil Roman in drei Teilen ...  "
      ]
     },
     "execution_count": 29,
     "metadata": {},
     "output_type": "execute_result"
    }
   ],
   "source": [
    "rcorpus2.head()"
   ]
  },
  {
   "cell_type": "code",
   "execution_count": 33,
   "metadata": {},
   "outputs": [],
   "source": [
    "rcorpus3 = rcorpus2.groupby(\"author\").filter(lambda x: len(x) > 3)"
   ]
  },
  {
   "cell_type": "code",
   "execution_count": 34,
   "metadata": {
    "collapsed": true
   },
   "outputs": [
    {
     "data": {
      "text/plain": [
       "Wilhelm Raabe             17\n",
       "FW Hackländer             10\n",
       "Berthold Auerbach         10\n",
       "Eugenie Marlitt            9\n",
       "Balduin Möllhausen         9\n",
       "Friedrich Spielhagen       9\n",
       "Friedrich Gerstäcker       9\n",
       "Theodor Fontane            9\n",
       "Nataly von Eschstruth      8\n",
       "Peter Rosegger             8\n",
       "Karl Gutzkow               7\n",
       "Wilhelm Heinrich Riehl     7\n",
       "Felix Dahn                 6\n",
       "Ludwig Ganghofer           6\n",
       "Willibald Alexis           6\n",
       "Jeremias Gotthelf          6\n",
       "Georg Ebers                6\n",
       "Ernst von Wolzogen         5\n",
       "Levin Schücking            5\n",
       "Karl von Holtei            5\n",
       "Hermann Heiberg            5\n",
       "Karl May                   5\n",
       "Sir John Retcliffe         5\n",
       "Heinrich Schaumberger      4\n",
       "Philipp Galen              4\n",
       "Hermann Kurz               4\n",
       "Marie von Ebne             4\n",
       "Richard Voß                4\n",
       "Wilhelm Jensen             4\n",
       "Name: author, dtype: int64"
      ]
     },
     "execution_count": 34,
     "metadata": {},
     "output_type": "execute_result"
    }
   ],
   "source": [
    "value_counts = rcorpus3[\"author\"].value_counts()\n",
    "value_counts"
   ]
  },
  {
   "cell_type": "code",
   "execution_count": 35,
   "metadata": {},
   "outputs": [
    {
     "data": {
      "text/plain": [
       "(196, 6)"
      ]
     },
     "execution_count": 35,
     "metadata": {},
     "output_type": "execute_result"
    }
   ],
   "source": [
    "rcorpus3.shape"
   ]
  },
  {
   "cell_type": "code",
   "execution_count": 37,
   "metadata": {},
   "outputs": [],
   "source": [
    "#rcorpus3.to_csv(f\"../data/corpora/prose_corpus_reduced.csv\", index=False)"
   ]
  },
  {
   "cell_type": "code",
   "execution_count": null,
   "metadata": {},
   "outputs": [],
   "source": []
  }
 ],
 "metadata": {
  "kernelspec": {
   "display_name": "Python 3",
   "language": "python",
   "name": "python3"
  },
  "language_info": {
   "codemirror_mode": {
    "name": "ipython",
    "version": 3
   },
   "file_extension": ".py",
   "mimetype": "text/x-python",
   "name": "python",
   "nbconvert_exporter": "python",
   "pygments_lexer": "ipython3",
   "version": "3.7.3"
  }
 },
 "nbformat": 4,
 "nbformat_minor": 2
}
