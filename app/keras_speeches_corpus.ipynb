{
 "cells": [
  {
   "cell_type": "markdown",
   "metadata": {},
   "source": [
    "# Keras: Speeches corpus"
   ]
  },
  {
   "cell_type": "code",
   "execution_count": 33,
   "metadata": {},
   "outputs": [
    {
     "name": "stdout",
     "output_type": "stream",
     "text": [
      "['/job:localhost/replica:0/task:0/device:GPU:0']\n"
     ]
    }
   ],
   "source": [
    "#check if gpu is available\n",
    "from keras import backend as K\n",
    "print(K.tensorflow_backend._get_available_gpus())\n",
    "\n",
    "from keras import models\n",
    "from keras import layers\n",
    "from keras.utils.np_utils import to_categorical\n",
    "\n",
    "import matplotlib.pyplot as plt\n",
    "import numpy as np\n",
    "import pandas as pd\n",
    "\n",
    "from sklearn.feature_extraction.text import CountVectorizer, TfidfVectorizer\n",
    "from sklearn.preprocessing import LabelEncoder, OneHotEncoder\n",
    "from sklearn.model_selection import train_test_split\n",
    "\n",
    "from utils import plot_results"
   ]
  },
  {
   "cell_type": "markdown",
   "metadata": {},
   "source": [
    "### constants"
   ]
  },
  {
   "cell_type": "code",
   "execution_count": 22,
   "metadata": {},
   "outputs": [],
   "source": [
    "test_size = 0.2\n",
    "val_div = int((corpus.shape[0] * (test_size*2))/2)"
   ]
  },
  {
   "cell_type": "markdown",
   "metadata": {},
   "source": [
    "### load corpus"
   ]
  },
  {
   "cell_type": "code",
   "execution_count": 5,
   "metadata": {},
   "outputs": [],
   "source": [
    "corpus = pd.read_csv(\"../data/corpora/speeches_corpus.csv\")"
   ]
  },
  {
   "cell_type": "code",
   "execution_count": 6,
   "metadata": {},
   "outputs": [
    {
     "data": {
      "text/html": [
       "<div>\n",
       "<style scoped>\n",
       "    .dataframe tbody tr th:only-of-type {\n",
       "        vertical-align: middle;\n",
       "    }\n",
       "\n",
       "    .dataframe tbody tr th {\n",
       "        vertical-align: top;\n",
       "    }\n",
       "\n",
       "    .dataframe thead th {\n",
       "        text-align: right;\n",
       "    }\n",
       "</style>\n",
       "<table border=\"1\" class=\"dataframe\">\n",
       "  <thead>\n",
       "    <tr style=\"text-align: right;\">\n",
       "      <th></th>\n",
       "      <th>author</th>\n",
       "      <th>text</th>\n",
       "      <th>title</th>\n",
       "    </tr>\n",
       "  </thead>\n",
       "  <tbody>\n",
       "    <tr>\n",
       "      <th>0</th>\n",
       "      <td>Angela Merkel</td>\n",
       "      <td>werte Festversammlung , ich bin heute sehr ger...</td>\n",
       "      <td>Rede von Bundeskanzlerin Angela Merkel anlässl...</td>\n",
       "    </tr>\n",
       "    <tr>\n",
       "      <th>1</th>\n",
       "      <td>Angela Merkel</td>\n",
       "      <td>Sehr geehrter Herr Müller , lieber Herr Minist...</td>\n",
       "      <td>Rede von Bundeskanzlerin Angela Merkel anlässl...</td>\n",
       "    </tr>\n",
       "    <tr>\n",
       "      <th>2</th>\n",
       "      <td>Angela Merkel</td>\n",
       "      <td>die Fahrt vom Bundeskanzleramt bis zum Deutsch...</td>\n",
       "      <td>Rede der Bundeskanzlerin zur Eröffnung der Aus...</td>\n",
       "    </tr>\n",
       "    <tr>\n",
       "      <th>3</th>\n",
       "      <td>Angela Merkel</td>\n",
       "      <td>ich bin wieder gerne bei Ihnen . Das ist schon...</td>\n",
       "      <td>Rede von Bundeskanzlerin Angela Merkel anlässl...</td>\n",
       "    </tr>\n",
       "    <tr>\n",
       "      <th>4</th>\n",
       "      <td>Angela Merkel</td>\n",
       "      <td>Sie hatten ja schon gestern eine beeindruckend...</td>\n",
       "      <td>Rede von Bundeskanzlerin Angela Merkel anlässl...</td>\n",
       "    </tr>\n",
       "  </tbody>\n",
       "</table>\n",
       "</div>"
      ],
      "text/plain": [
       "          author                                               text  \\\n",
       "0  Angela Merkel  werte Festversammlung , ich bin heute sehr ger...   \n",
       "1  Angela Merkel  Sehr geehrter Herr Müller , lieber Herr Minist...   \n",
       "2  Angela Merkel  die Fahrt vom Bundeskanzleramt bis zum Deutsch...   \n",
       "3  Angela Merkel  ich bin wieder gerne bei Ihnen . Das ist schon...   \n",
       "4  Angela Merkel  Sie hatten ja schon gestern eine beeindruckend...   \n",
       "\n",
       "                                               title  \n",
       "0  Rede von Bundeskanzlerin Angela Merkel anlässl...  \n",
       "1  Rede von Bundeskanzlerin Angela Merkel anlässl...  \n",
       "2  Rede der Bundeskanzlerin zur Eröffnung der Aus...  \n",
       "3  Rede von Bundeskanzlerin Angela Merkel anlässl...  \n",
       "4  Rede von Bundeskanzlerin Angela Merkel anlässl...  "
      ]
     },
     "execution_count": 6,
     "metadata": {},
     "output_type": "execute_result"
    }
   ],
   "source": [
    "corpus.head()"
   ]
  },
  {
   "cell_type": "markdown",
   "metadata": {},
   "source": [
    "### Vectorizing"
   ]
  },
  {
   "cell_type": "code",
   "execution_count": 26,
   "metadata": {},
   "outputs": [],
   "source": [
    "vectorizer = CountVectorizer()\n",
    "vector = vectorizer.fit_transform(corpus[\"text\"])\n",
    "labels = LabelEncoder().fit_transform(corpus[\"author\"])\n",
    "vocab = vectorizer.vocabulary_\n",
    "\n",
    "\n",
    "\n",
    "\n",
    "X_train, X_test, y_train, y_test = train_test_split(vector, \n",
    "                                                    labels, \n",
    "                                                    test_size=test_size+test_size,\n",
    "                                                    stratify=corpus[\"author\"],\n",
    "                                                    shuffle=True)"
   ]
  },
  {
   "cell_type": "code",
   "execution_count": 27,
   "metadata": {},
   "outputs": [],
   "source": [
    "X_val = X_test[:val_div]\n",
    "y_val = y_test[:val_div]\n",
    "\n",
    "X_test = X_test[val_div:]\n",
    "y_test = y_test[val_div:]"
   ]
  },
  {
   "cell_type": "markdown",
   "metadata": {},
   "source": [
    "### One-hot encoding"
   ]
  },
  {
   "cell_type": "code",
   "execution_count": 28,
   "metadata": {},
   "outputs": [],
   "source": [
    "y_val = to_categorical(y_val)\n",
    "y_test = to_categorical(y_test)\n",
    "y_train = to_categorical(y_train)"
   ]
  },
  {
   "cell_type": "markdown",
   "metadata": {},
   "source": [
    "## Classifying"
   ]
  },
  {
   "cell_type": "markdown",
   "metadata": {},
   "source": [
    "### sequential model"
   ]
  },
  {
   "cell_type": "code",
   "execution_count": 29,
   "metadata": {},
   "outputs": [],
   "source": [
    "model = models.Sequential()\n",
    "model.add(layers.Dense(64, activation=\"relu\", input_shape=(len(vocab),)))\n",
    "model.add(layers.Dense(64, activation=\"relu\"))\n",
    "model.add(layers.Dense(len(np.unique(labels)), activation=\"softmax\"))\n",
    "\n",
    "\n",
    "model.compile(optimizer=\"rmsprop\",\n",
    "              loss=\"categorical_crossentropy\",\n",
    "              metrics=[\"accuracy\"])"
   ]
  },
  {
   "cell_type": "markdown",
   "metadata": {},
   "source": [
    "### training sequential model"
   ]
  },
  {
   "cell_type": "code",
   "execution_count": 31,
   "metadata": {},
   "outputs": [
    {
     "name": "stdout",
     "output_type": "stream",
     "text": [
      "Train on 78 samples, validate on 26 samples\n",
      "Epoch 1/10\n",
      "78/78 [==============================] - 0s 589us/step - loss: 0.0502 - acc: 1.0000 - val_loss: 1.6712 - val_acc: 0.6154\n",
      "Epoch 2/10\n",
      "78/78 [==============================] - 0s 414us/step - loss: 0.0298 - acc: 1.0000 - val_loss: 1.6750 - val_acc: 0.5769\n",
      "Epoch 3/10\n",
      "78/78 [==============================] - 0s 436us/step - loss: 0.0196 - acc: 1.0000 - val_loss: 1.6908 - val_acc: 0.5385\n",
      "Epoch 4/10\n",
      "78/78 [==============================] - 0s 465us/step - loss: 0.0133 - acc: 1.0000 - val_loss: 1.6692 - val_acc: 0.6154\n",
      "Epoch 5/10\n",
      "78/78 [==============================] - 0s 376us/step - loss: 0.0093 - acc: 1.0000 - val_loss: 1.6522 - val_acc: 0.6538\n",
      "Epoch 6/10\n",
      "78/78 [==============================] - 0s 377us/step - loss: 0.0063 - acc: 1.0000 - val_loss: 1.6609 - val_acc: 0.6154\n",
      "Epoch 7/10\n",
      "78/78 [==============================] - 0s 427us/step - loss: 0.0042 - acc: 1.0000 - val_loss: 1.7753 - val_acc: 0.5385\n",
      "Epoch 8/10\n",
      "78/78 [==============================] - 0s 429us/step - loss: 0.0028 - acc: 1.0000 - val_loss: 1.7877 - val_acc: 0.5769\n",
      "Epoch 9/10\n",
      "78/78 [==============================] - 0s 438us/step - loss: 0.0019 - acc: 1.0000 - val_loss: 1.8087 - val_acc: 0.5769\n",
      "Epoch 10/10\n",
      "78/78 [==============================] - 0s 428us/step - loss: 0.0014 - acc: 1.0000 - val_loss: 1.8196 - val_acc: 0.5385\n"
     ]
    }
   ],
   "source": [
    "history = model.fit(X_train,\n",
    "                   y_train,\n",
    "                   epochs=10,\n",
    "                   batch_size=16,\n",
    "                   validation_data=(X_test, y_test),\n",
    "                   verbose=1)"
   ]
  },
  {
   "cell_type": "code",
   "execution_count": null,
   "metadata": {},
   "outputs": [],
   "source": []
  },
  {
   "cell_type": "code",
   "execution_count": null,
   "metadata": {},
   "outputs": [],
   "source": []
  },
  {
   "cell_type": "code",
   "execution_count": null,
   "metadata": {},
   "outputs": [],
   "source": []
  }
 ],
 "metadata": {
  "kernelspec": {
   "display_name": "Python 3",
   "language": "python",
   "name": "python3"
  },
  "language_info": {
   "codemirror_mode": {
    "name": "ipython",
    "version": 3
   },
   "file_extension": ".py",
   "mimetype": "text/x-python",
   "name": "python",
   "nbconvert_exporter": "python",
   "pygments_lexer": "ipython3",
   "version": "3.6.7"
  }
 },
 "nbformat": 4,
 "nbformat_minor": 2
}
