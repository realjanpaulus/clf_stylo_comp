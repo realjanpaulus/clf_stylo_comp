{
 "cells": [
  {
   "cell_type": "markdown",
   "metadata": {},
   "source": [
    "# Corpus Preprocessing"
   ]
  },
  {
   "cell_type": "code",
   "execution_count": 22,
   "metadata": {},
   "outputs": [],
   "source": [
    "import numpy as np\n",
    "import pandas as pd\n",
    "import matplotlib.pyplot as plt\n",
    "\n",
    "from sklearn.metrics.pairwise import cosine_similarity\n",
    "from sklearn.feature_extraction.text import CountVectorizer\n",
    "\n",
    "%matplotlib inline\n",
    "plt.rcParams.update({'figure.figsize':(8,6), 'figure.dpi':150})"
   ]
  },
  {
   "cell_type": "markdown",
   "metadata": {},
   "source": [
    "## Load reduced corpus"
   ]
  },
  {
   "cell_type": "code",
   "execution_count": 2,
   "metadata": {},
   "outputs": [],
   "source": [
    "corpus = pd.read_csv(\"../data/rcorpus.csv\")"
   ]
  },
  {
   "cell_type": "code",
   "execution_count": 3,
   "metadata": {
    "collapsed": true
   },
   "outputs": [
    {
     "data": {
      "text/html": [
       "<div>\n",
       "<style scoped>\n",
       "    .dataframe tbody tr th:only-of-type {\n",
       "        vertical-align: middle;\n",
       "    }\n",
       "\n",
       "    .dataframe tbody tr th {\n",
       "        vertical-align: top;\n",
       "    }\n",
       "\n",
       "    .dataframe thead th {\n",
       "        text-align: right;\n",
       "    }\n",
       "</style>\n",
       "<table border=\"1\" class=\"dataframe\">\n",
       "  <thead>\n",
       "    <tr style=\"text-align: right;\">\n",
       "      <th></th>\n",
       "      <th>filename</th>\n",
       "      <th>author</th>\n",
       "      <th>title</th>\n",
       "      <th>year</th>\n",
       "      <th>textlength</th>\n",
       "      <th>text</th>\n",
       "    </tr>\n",
       "  </thead>\n",
       "  <tbody>\n",
       "    <tr>\n",
       "      <td>0</td>\n",
       "      <td>Max_Eyth_-_Der_Schneider_von_Ulm_(1906)</td>\n",
       "      <td>Max Eyth</td>\n",
       "      <td>Der Schneider von Ulm</td>\n",
       "      <td>1906</td>\n",
       "      <td>272961</td>\n",
       "      <td>[ cover ] Historischer Roman um den Mann , der...</td>\n",
       "    </tr>\n",
       "    <tr>\n",
       "      <td>1</td>\n",
       "      <td>Friedrich_Spielhagen_-_Platt_Land_(1878)</td>\n",
       "      <td>Friedrich Spielhagen</td>\n",
       "      <td>Platt Land</td>\n",
       "      <td>1878</td>\n",
       "      <td>205088</td>\n",
       "      <td>Erstes Buch Erstes Kapitel . Der Wagen hielt ,...</td>\n",
       "    </tr>\n",
       "    <tr>\n",
       "      <td>2</td>\n",
       "      <td>Jakob_Christoph_Heer_-_Der_Wetterwart_(1905)</td>\n",
       "      <td>Jakob Christoph Heer</td>\n",
       "      <td>Der Wetterwart</td>\n",
       "      <td>1905</td>\n",
       "      <td>120934</td>\n",
       "      <td>1925 I Die feierliche Abendhelle steht über de...</td>\n",
       "    </tr>\n",
       "    <tr>\n",
       "      <td>3</td>\n",
       "      <td>Robert_Kraft_-_Detektiv_Nobody's_Erlebnisse_un...</td>\n",
       "      <td>Robert Kraft</td>\n",
       "      <td>Detektiv Nobodys Erlebnisse und Reiseabenteuer...</td>\n",
       "      <td>1904</td>\n",
       "      <td>203192</td>\n",
       "      <td>. Detektiv Nobody 's Erlebnisse und Reiseabent...</td>\n",
       "    </tr>\n",
       "    <tr>\n",
       "      <td>4</td>\n",
       "      <td>Johannes_Richard_zur_Megede_-_Der_Ueberkater_-...</td>\n",
       "      <td>Johannes Richard zur Megede</td>\n",
       "      <td>Der Ueberkater - Band 1</td>\n",
       "      <td>1904</td>\n",
       "      <td>107779</td>\n",
       "      <td>Johann Richard zur Megede Der Ueberkater Erste...</td>\n",
       "    </tr>\n",
       "  </tbody>\n",
       "</table>\n",
       "</div>"
      ],
      "text/plain": [
       "                                            filename  \\\n",
       "0            Max_Eyth_-_Der_Schneider_von_Ulm_(1906)   \n",
       "1           Friedrich_Spielhagen_-_Platt_Land_(1878)   \n",
       "2       Jakob_Christoph_Heer_-_Der_Wetterwart_(1905)   \n",
       "3  Robert_Kraft_-_Detektiv_Nobody's_Erlebnisse_un...   \n",
       "4  Johannes_Richard_zur_Megede_-_Der_Ueberkater_-...   \n",
       "\n",
       "                        author  \\\n",
       "0                     Max Eyth   \n",
       "1         Friedrich Spielhagen   \n",
       "2         Jakob Christoph Heer   \n",
       "3                 Robert Kraft   \n",
       "4  Johannes Richard zur Megede   \n",
       "\n",
       "                                               title  year  textlength  \\\n",
       "0                              Der Schneider von Ulm  1906      272961   \n",
       "1                                         Platt Land  1878      205088   \n",
       "2                                     Der Wetterwart  1905      120934   \n",
       "3  Detektiv Nobodys Erlebnisse und Reiseabenteuer...  1904      203192   \n",
       "4                            Der Ueberkater - Band 1  1904      107779   \n",
       "\n",
       "                                                text  \n",
       "0  [ cover ] Historischer Roman um den Mann , der...  \n",
       "1  Erstes Buch Erstes Kapitel . Der Wagen hielt ,...  \n",
       "2  1925 I Die feierliche Abendhelle steht über de...  \n",
       "3  . Detektiv Nobody 's Erlebnisse und Reiseabent...  \n",
       "4  Johann Richard zur Megede Der Ueberkater Erste...  "
      ]
     },
     "execution_count": 3,
     "metadata": {},
     "output_type": "execute_result"
    }
   ],
   "source": [
    "corpus.head()"
   ]
  },
  {
   "cell_type": "markdown",
   "metadata": {},
   "source": [
    "## Remove title and author from text column (again, but this time with the help of the cosine similarity)"
   ]
  },
  {
   "cell_type": "code",
   "execution_count": 17,
   "metadata": {},
   "outputs": [],
   "source": [
    "def remove_columnname_from_text(df: pd.DataFrame, column_name: str) -> pd.DataFrame:\n",
    "    for index, row in df.iterrows():\n",
    "        column = row[column_name]\n",
    "        text = row[\"text\"]\n",
    "    \n",
    "        for idx, string in enumerate(text):\n",
    "            cut_text = text[:idx]\n",
    "            sen = [column, cut_text]\n",
    "            if idx >= 200:\n",
    "                break\n",
    "\n",
    "            vectorizer = CountVectorizer()\n",
    "            vec = vectorizer.fit_transform(sen).toarray()\n",
    "            csim = cosine_similarity(vec)\n",
    "\n",
    "            if csim[0][1] >= 0.60:\n",
    "                df.at[index, \"text\"] = text[len(cut_text):]\n",
    "                break\n",
    "                \n",
    "    return df"
   ]
  },
  {
   "cell_type": "code",
   "execution_count": 19,
   "metadata": {},
   "outputs": [
    {
     "name": "stdout",
     "output_type": "stream",
     "text": [
      "CPU times: user 1min 25s, sys: 968 ms, total: 1min 26s\n",
      "Wall time: 1min 33s\n"
     ]
    }
   ],
   "source": [
    "%%time\n",
    "ncorpus = remove_columnname_from_text(corpus, \"author\")"
   ]
  },
  {
   "cell_type": "code",
   "execution_count": 20,
   "metadata": {},
   "outputs": [
    {
     "data": {
      "text/html": [
       "<div>\n",
       "<style scoped>\n",
       "    .dataframe tbody tr th:only-of-type {\n",
       "        vertical-align: middle;\n",
       "    }\n",
       "\n",
       "    .dataframe tbody tr th {\n",
       "        vertical-align: top;\n",
       "    }\n",
       "\n",
       "    .dataframe thead th {\n",
       "        text-align: right;\n",
       "    }\n",
       "</style>\n",
       "<table border=\"1\" class=\"dataframe\">\n",
       "  <thead>\n",
       "    <tr style=\"text-align: right;\">\n",
       "      <th></th>\n",
       "      <th>filename</th>\n",
       "      <th>author</th>\n",
       "      <th>title</th>\n",
       "      <th>year</th>\n",
       "      <th>textlength</th>\n",
       "      <th>text</th>\n",
       "    </tr>\n",
       "  </thead>\n",
       "  <tbody>\n",
       "    <tr>\n",
       "      <td>0</td>\n",
       "      <td>Max_Eyth_-_Der_Schneider_von_Ulm_(1906)</td>\n",
       "      <td>Max Eyth</td>\n",
       "      <td>Der Schneider von Ulm</td>\n",
       "      <td>1906</td>\n",
       "      <td>272961</td>\n",
       "      <td>[ cover ] Historischer Roman um den Mann , der...</td>\n",
       "    </tr>\n",
       "    <tr>\n",
       "      <td>1</td>\n",
       "      <td>Friedrich_Spielhagen_-_Platt_Land_(1878)</td>\n",
       "      <td>Friedrich Spielhagen</td>\n",
       "      <td>Platt Land</td>\n",
       "      <td>1878</td>\n",
       "      <td>205088</td>\n",
       "      <td>Erstes Buch Erstes Kapitel . Der Wagen hielt ,...</td>\n",
       "    </tr>\n",
       "    <tr>\n",
       "      <td>2</td>\n",
       "      <td>Jakob_Christoph_Heer_-_Der_Wetterwart_(1905)</td>\n",
       "      <td>Jakob Christoph Heer</td>\n",
       "      <td>Der Wetterwart</td>\n",
       "      <td>1905</td>\n",
       "      <td>120934</td>\n",
       "      <td>1925 I Die feierliche Abendhelle steht über de...</td>\n",
       "    </tr>\n",
       "    <tr>\n",
       "      <td>3</td>\n",
       "      <td>Robert_Kraft_-_Detektiv_Nobody's_Erlebnisse_un...</td>\n",
       "      <td>Robert Kraft</td>\n",
       "      <td>Detektiv Nobodys Erlebnisse und Reiseabenteuer...</td>\n",
       "      <td>1904</td>\n",
       "      <td>203192</td>\n",
       "      <td>Reiseabenteuer . 6 . Band . 1 . Die Magnetins...</td>\n",
       "    </tr>\n",
       "    <tr>\n",
       "      <td>4</td>\n",
       "      <td>Johannes_Richard_zur_Megede_-_Der_Ueberkater_-...</td>\n",
       "      <td>Johannes Richard zur Megede</td>\n",
       "      <td>Der Ueberkater - Band 1</td>\n",
       "      <td>1904</td>\n",
       "      <td>107779</td>\n",
       "      <td>Fräulein Elisabeth von Skal in dankbarem Gede...</td>\n",
       "    </tr>\n",
       "  </tbody>\n",
       "</table>\n",
       "</div>"
      ],
      "text/plain": [
       "                                            filename  \\\n",
       "0            Max_Eyth_-_Der_Schneider_von_Ulm_(1906)   \n",
       "1           Friedrich_Spielhagen_-_Platt_Land_(1878)   \n",
       "2       Jakob_Christoph_Heer_-_Der_Wetterwart_(1905)   \n",
       "3  Robert_Kraft_-_Detektiv_Nobody's_Erlebnisse_un...   \n",
       "4  Johannes_Richard_zur_Megede_-_Der_Ueberkater_-...   \n",
       "\n",
       "                        author  \\\n",
       "0                     Max Eyth   \n",
       "1         Friedrich Spielhagen   \n",
       "2         Jakob Christoph Heer   \n",
       "3                 Robert Kraft   \n",
       "4  Johannes Richard zur Megede   \n",
       "\n",
       "                                               title  year  textlength  \\\n",
       "0                              Der Schneider von Ulm  1906      272961   \n",
       "1                                         Platt Land  1878      205088   \n",
       "2                                     Der Wetterwart  1905      120934   \n",
       "3  Detektiv Nobodys Erlebnisse und Reiseabenteuer...  1904      203192   \n",
       "4                            Der Ueberkater - Band 1  1904      107779   \n",
       "\n",
       "                                                text  \n",
       "0  [ cover ] Historischer Roman um den Mann , der...  \n",
       "1  Erstes Buch Erstes Kapitel . Der Wagen hielt ,...  \n",
       "2  1925 I Die feierliche Abendhelle steht über de...  \n",
       "3   Reiseabenteuer . 6 . Band . 1 . Die Magnetins...  \n",
       "4   Fräulein Elisabeth von Skal in dankbarem Gede...  "
      ]
     },
     "execution_count": 20,
     "metadata": {},
     "output_type": "execute_result"
    }
   ],
   "source": [
    "ncorpus.head()"
   ]
  },
  {
   "cell_type": "code",
   "execution_count": null,
   "metadata": {},
   "outputs": [],
   "source": []
  },
  {
   "cell_type": "code",
   "execution_count": null,
   "metadata": {},
   "outputs": [],
   "source": []
  },
  {
   "cell_type": "code",
   "execution_count": null,
   "metadata": {},
   "outputs": [],
   "source": []
  },
  {
   "cell_type": "code",
   "execution_count": null,
   "metadata": {},
   "outputs": [],
   "source": []
  }
 ],
 "metadata": {
  "kernelspec": {
   "display_name": "Python 3",
   "language": "python",
   "name": "python3"
  },
  "language_info": {
   "codemirror_mode": {
    "name": "ipython",
    "version": 3
   },
   "file_extension": ".py",
   "mimetype": "text/x-python",
   "name": "python",
   "nbconvert_exporter": "python",
   "pygments_lexer": "ipython3",
   "version": "3.7.4"
  }
 },
 "nbformat": 4,
 "nbformat_minor": 2
}
