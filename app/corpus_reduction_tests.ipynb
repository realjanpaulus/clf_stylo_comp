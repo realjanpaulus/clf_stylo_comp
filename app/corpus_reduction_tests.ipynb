{
 "cells": [
  {
   "cell_type": "markdown",
   "metadata": {},
   "source": [
    "# Corpus Reduction tests"
   ]
  },
  {
   "cell_type": "code",
   "execution_count": 48,
   "metadata": {},
   "outputs": [],
   "source": [
    "import numpy as np\n",
    "import pandas as pd\n",
    "import matplotlib.pyplot as plt\n",
    "%matplotlib inline\n",
    "plt.rcParams.update({'figure.figsize':(8,6), 'figure.dpi':70})"
   ]
  },
  {
   "cell_type": "markdown",
   "metadata": {},
   "source": [
    "## load original corpus"
   ]
  },
  {
   "cell_type": "code",
   "execution_count": 2,
   "metadata": {},
   "outputs": [],
   "source": [
    "df = pd.read_csv(\"../data/corpus.csv\")"
   ]
  },
  {
   "cell_type": "code",
   "execution_count": 3,
   "metadata": {},
   "outputs": [
    {
     "data": {
      "text/html": [
       "<div>\n",
       "<style scoped>\n",
       "    .dataframe tbody tr th:only-of-type {\n",
       "        vertical-align: middle;\n",
       "    }\n",
       "\n",
       "    .dataframe tbody tr th {\n",
       "        vertical-align: top;\n",
       "    }\n",
       "\n",
       "    .dataframe thead th {\n",
       "        text-align: right;\n",
       "    }\n",
       "</style>\n",
       "<table border=\"1\" class=\"dataframe\">\n",
       "  <thead>\n",
       "    <tr style=\"text-align: right;\">\n",
       "      <th></th>\n",
       "      <th>filename</th>\n",
       "      <th>author</th>\n",
       "      <th>title</th>\n",
       "      <th>year</th>\n",
       "      <th>textlength</th>\n",
       "      <th>text</th>\n",
       "    </tr>\n",
       "  </thead>\n",
       "  <tbody>\n",
       "    <tr>\n",
       "      <td>0</td>\n",
       "      <td>Wilhelm_Walloth_-_Das_Schatzhaus_des_Königs_(1...</td>\n",
       "      <td>Wilhelm Walloth</td>\n",
       "      <td>Das Schatzhaus des Königs</td>\n",
       "      <td>1883</td>\n",
       "      <td>105651</td>\n",
       "      <td>Roman aus dem alten Ägypten Und die Ägypter zw...</td>\n",
       "    </tr>\n",
       "    <tr>\n",
       "      <td>1</td>\n",
       "      <td>Theodor_Däubler_-_L'Africana_(1928)</td>\n",
       "      <td>Theodor Däubler</td>\n",
       "      <td>LAfricana</td>\n",
       "      <td>1928</td>\n",
       "      <td>43258</td>\n",
       "      <td>L'Africana Roman Horen-Verlag , Berlin-Grunewa...</td>\n",
       "    </tr>\n",
       "    <tr>\n",
       "      <td>2</td>\n",
       "      <td>Max_Eyth_-_Der_Schneider_von_Ulm_(1906)</td>\n",
       "      <td>Max Eyth</td>\n",
       "      <td>Der Schneider von Ulm</td>\n",
       "      <td>1906</td>\n",
       "      <td>272961</td>\n",
       "      <td>[ cover ] Historischer Roman um den Mann , der...</td>\n",
       "    </tr>\n",
       "    <tr>\n",
       "      <td>3</td>\n",
       "      <td>Novalis_-_Die_Lehrlinge_zu_Sais_(1799)</td>\n",
       "      <td>Novalis</td>\n",
       "      <td>Die Lehrlinge zu Sais</td>\n",
       "      <td>1799</td>\n",
       "      <td>12391</td>\n",
       "      <td>1798- 1 . Der Lehrling Mannigfache Wege gehen ...</td>\n",
       "    </tr>\n",
       "    <tr>\n",
       "      <td>4</td>\n",
       "      <td>Christoph_Martin_Wieland_-_Agathodämon_(1799)</td>\n",
       "      <td>Christoph Martin Wieland</td>\n",
       "      <td>Agathodämon</td>\n",
       "      <td>1799</td>\n",
       "      <td>96572</td>\n",
       "      <td>In sieben Büchern ( ) Est Deus in nobis , agit...</td>\n",
       "    </tr>\n",
       "  </tbody>\n",
       "</table>\n",
       "</div>"
      ],
      "text/plain": [
       "                                            filename  \\\n",
       "0  Wilhelm_Walloth_-_Das_Schatzhaus_des_Königs_(1...   \n",
       "1                Theodor_Däubler_-_L'Africana_(1928)   \n",
       "2            Max_Eyth_-_Der_Schneider_von_Ulm_(1906)   \n",
       "3             Novalis_-_Die_Lehrlinge_zu_Sais_(1799)   \n",
       "4      Christoph_Martin_Wieland_-_Agathodämon_(1799)   \n",
       "\n",
       "                     author                      title  year  textlength  \\\n",
       "0           Wilhelm Walloth  Das Schatzhaus des Königs  1883      105651   \n",
       "1           Theodor Däubler                  LAfricana  1928       43258   \n",
       "2                  Max Eyth      Der Schneider von Ulm  1906      272961   \n",
       "3                   Novalis      Die Lehrlinge zu Sais  1799       12391   \n",
       "4  Christoph Martin Wieland                Agathodämon  1799       96572   \n",
       "\n",
       "                                                text  \n",
       "0  Roman aus dem alten Ägypten Und die Ägypter zw...  \n",
       "1  L'Africana Roman Horen-Verlag , Berlin-Grunewa...  \n",
       "2  [ cover ] Historischer Roman um den Mann , der...  \n",
       "3  1798- 1 . Der Lehrling Mannigfache Wege gehen ...  \n",
       "4  In sieben Büchern ( ) Est Deus in nobis , agit...  "
      ]
     },
     "execution_count": 3,
     "metadata": {},
     "output_type": "execute_result"
    }
   ],
   "source": [
    "df.head()"
   ]
  },
  {
   "cell_type": "markdown",
   "metadata": {},
   "source": [
    "## Check if the corpus contains duplicates"
   ]
  },
  {
   "cell_type": "code",
   "execution_count": 50,
   "metadata": {},
   "outputs": [
    {
     "data": {
      "text/plain": [
       "(2735, 6)"
      ]
     },
     "execution_count": 50,
     "metadata": {},
     "output_type": "execute_result"
    }
   ],
   "source": [
    "df.shape"
   ]
  },
  {
   "cell_type": "code",
   "execution_count": 53,
   "metadata": {},
   "outputs": [
    {
     "data": {
      "text/plain": [
       "(2735, 6)"
      ]
     },
     "execution_count": 53,
     "metadata": {},
     "output_type": "execute_result"
    }
   ],
   "source": [
    "df = df.drop_duplicates()\n",
    "df.shape"
   ]
  },
  {
   "cell_type": "markdown",
   "metadata": {},
   "source": [
    "## Check if Corpus does have rows with NaNs"
   ]
  },
  {
   "cell_type": "code",
   "execution_count": 9,
   "metadata": {},
   "outputs": [
    {
     "name": "stdout",
     "output_type": "stream",
     "text": [
      "Corpus does have 0 rows with NaN.\n"
     ]
    }
   ],
   "source": [
    "nan_df = df[df.isna().any(axis=1)]\n",
    "print(f\"Corpus does have {nan_df.shape[0]} rows with NaN.\")"
   ]
  },
  {
   "cell_type": "markdown",
   "metadata": {},
   "source": [
    "# Reduction tests"
   ]
  },
  {
   "cell_type": "markdown",
   "metadata": {},
   "source": [
    "TODO: in HA, hier weg<br>\n",
    "\n",
    "#### Überblick über das Korpus & Probleme\n",
    "\n",
    "Das Korpus, welches in dieser Arbeit untersucht werden soll, stellt eine Variante des \"Corpus of German-Language Fiction\" von Frank Fischer und Jannik Strötgen dar (FN: siehe https://figshare.com/articles/Corpus_of_German-Language_Fiction_txt_/4524680/1, abgerufen am 03.12.2019). Ihr Korpus ist ein extrahierte und konvertierte Version von Werken aus dem \"Projekt Gutenberg-DE\". Das Korpus ist zweigeteilt: Der Großteil besteht aus deutschen Werken von deutschsprachigen Autoren, der andere Teil aus Werken von nicht-deutschsprachigen Autoren, die ins Deutsche übersetzt wurden. Der zweite Teil wird in dieser Arbeit ignoriert, da er einige Probleme wie teilweise nicht übersetzte Texte und fehlenden Erscheinungsjahren aufweist. Der Teil des Korpus mit Werken von deutschsprachigen Autoren besteht aus 2735 Prosa Werken von 549 verschiedenen Autoren. Die Erscheinungsjahre erstrecken sich dabei von 1510 bis 1940, wobei der größte Teil der Werke zwischen 1840 und 1930 erschienen ist (dies wird auch durch Abbildung TODO bestätigt). Die Einteilung der Werke in die Gattung Prosa ist sehr vage, da die Prosagattungen sehr mannigfaltig sind (siehe https://www.buecher-wiki.de/index.php/BuecherWiki/Prosa, abgerufen am 03.12.2019. TODO: hier vllt andere Quelle, siehe auch Wiki-Seite). Anhand des Korpus ist nicht erkennbar, zu welcher Prosagattung die einzelnen Werke gehören. Einige der Werke geben ihre Gattung zu Beginn des Textes an. Leider ist dies bei nur sehr wenigen Werken der Fall, eine einheitliche Angabe der Textgattung ist beim Original-Korpus nicht enthalten. Laut Angaben der Ersteller enthält das Korpus \"(mainly novels and short stories)\" (FN: siehe https://figshare.com/articles/Corpus_of_German-Language_Fiction_txt_/4524680/1, abgerufen am 03.12.2019).\n",
    "\n",
    "#### Korpusreduktion\n",
    "\n",
    "Das vorliegende Korpus hat einige Probleme, weshalb es für die Untersuchungen in dieser Arbeit bearbeitet werden soll. Um keine Störungen (AW!) TODO zu erhalten, sollen wenn möglich Werke ausgewählt werden, die ähnliche Merkmale (AW!) besitzen. Die Herangehensweise soll sich dabei nicht domänenspezifisch (AF!!) sein, sondern auf leichten(?) Annahmen basieren. Die erste Veränderung soll eine Reduzierung des Korpus auf Werke sein, die zwischen 1840 und 1930 erschienen sind. Diese Aufteilung folgt der Aussage der Ersteller(AW?) des Korpus, die meinen, dass der größte Teil der Werke des Korpus in diesem Zeitraum erschienen sind. Dies wird auch durch Abbildung TODO bestätigt. Das reduzierte Korpus enthält nach der Reduzierung nur noch 2212 Werke, etwa zwanzig Prozent der Werke wurde entfernt. Die Ersteller(?) des Korpus merken einige bekannte Probleme mit dem Korpus an. Fünf von neun dieser Probleme sind für eine Reduzierung uninteressant, da sie zum Beispiel außerhalb des Erscheinungszeitraums von 1840 und 1930 erschienen sind, bei den anderen vier Problemen, bei denen es um Duplikate ging, wurden behoben, indem die Problem-Werke entfernt wurden. Das Korpus bestand dann nur noch aus 2208 Werken. Das letzte Reduzierungskriterium sollen die Textlängen sein. Zunächst wurden die Textlängen aller Werke in einem Histogramm dargestellt. An diesem Histogramm lässt sich erkennen, dass es nicht sehr viele Werke gibt mit mehr als 150000 Wörtern und Zeichen. Der naive Ansatz war hier nun, dass sehr kurze und sehr lange Werke im Verhältnis zur durschnittlichen Textlänge aus dem Korpus entfernt werden sollten. Dadurch wurden die Textlängen in gewisser Weise normalisiert, zudem ist die Chance hoch, dass einige Prosagattungen wie Briefe, Essays oder Kurzgeschichten, die im Normalfall aus nicht übermäßig vielen Wörtern bestehen, dadurch entfernt wurden (TODO: überprüfen)."
   ]
  },
  {
   "cell_type": "markdown",
   "metadata": {},
   "source": [
    "### Abb. TODO - Erscheinungsjahr Histogramm"
   ]
  },
  {
   "cell_type": "code",
   "execution_count": 69,
   "metadata": {},
   "outputs": [
    {
     "data": {
      "image/png": "[encoded data removed]",
      "text/plain": [
       "<Figure size 560x420 with 1 Axes>"
      ]
     },
     "metadata": {
      "needs_background": "light"
     },
     "output_type": "display_data"
    }
   ],
   "source": [
    "plt.hist(df[\"year\"], bins=100, range=[1500,1950])\n",
    "plt.gca().set(title='Publication year Histogram',\n",
    "              xlabel=\"Publication years\",\n",
    "              ylabel='Publication year Frequency')\n",
    "plt.xticks(np.arange(1500, 1950, 40))\n",
    "plt.show()"
   ]
  },
  {
   "cell_type": "markdown",
   "metadata": {},
   "source": [
    "### Reduce corpus by selection text between 1840 and 1930"
   ]
  },
  {
   "cell_type": "code",
   "execution_count": 84,
   "metadata": {
    "collapsed": true
   },
   "outputs": [
    {
     "data": {
      "text/html": [
       "<div>\n",
       "<style scoped>\n",
       "    .dataframe tbody tr th:only-of-type {\n",
       "        vertical-align: middle;\n",
       "    }\n",
       "\n",
       "    .dataframe tbody tr th {\n",
       "        vertical-align: top;\n",
       "    }\n",
       "\n",
       "    .dataframe thead th {\n",
       "        text-align: right;\n",
       "    }\n",
       "</style>\n",
       "<table border=\"1\" class=\"dataframe\">\n",
       "  <thead>\n",
       "    <tr style=\"text-align: right;\">\n",
       "      <th></th>\n",
       "      <th>filename</th>\n",
       "      <th>author</th>\n",
       "      <th>title</th>\n",
       "      <th>year</th>\n",
       "      <th>textlength</th>\n",
       "      <th>text</th>\n",
       "    </tr>\n",
       "  </thead>\n",
       "  <tbody>\n",
       "    <tr>\n",
       "      <td>0</td>\n",
       "      <td>Wilhelm_Walloth_-_Das_Schatzhaus_des_Königs_(1...</td>\n",
       "      <td>Wilhelm Walloth</td>\n",
       "      <td>Das Schatzhaus des Königs</td>\n",
       "      <td>1883</td>\n",
       "      <td>105651</td>\n",
       "      <td>Roman aus dem alten Ägypten Und die Ägypter zw...</td>\n",
       "    </tr>\n",
       "    <tr>\n",
       "      <td>1</td>\n",
       "      <td>Theodor_Däubler_-_L'Africana_(1928)</td>\n",
       "      <td>Theodor Däubler</td>\n",
       "      <td>LAfricana</td>\n",
       "      <td>1928</td>\n",
       "      <td>43258</td>\n",
       "      <td>L'Africana Roman Horen-Verlag , Berlin-Grunewa...</td>\n",
       "    </tr>\n",
       "    <tr>\n",
       "      <td>2</td>\n",
       "      <td>Max_Eyth_-_Der_Schneider_von_Ulm_(1906)</td>\n",
       "      <td>Max Eyth</td>\n",
       "      <td>Der Schneider von Ulm</td>\n",
       "      <td>1906</td>\n",
       "      <td>272961</td>\n",
       "      <td>[ cover ] Historischer Roman um den Mann , der...</td>\n",
       "    </tr>\n",
       "    <tr>\n",
       "      <td>5</td>\n",
       "      <td>Friedrich_Spielhagen_-_Platt_Land_(1878)</td>\n",
       "      <td>Friedrich Spielhagen</td>\n",
       "      <td>Platt Land</td>\n",
       "      <td>1878</td>\n",
       "      <td>205088</td>\n",
       "      <td>Erstes Buch Erstes Kapitel . Der Wagen hielt ,...</td>\n",
       "    </tr>\n",
       "    <tr>\n",
       "      <td>6</td>\n",
       "      <td>Adalbert_Stifter_-_Ein_Gang_durch_die_Katakomb...</td>\n",
       "      <td>Adalbert Stifter</td>\n",
       "      <td>Ein Gang durch die Katakomben</td>\n",
       "      <td>1844</td>\n",
       "      <td>6351</td>\n",
       "      <td>Wir sind so gewohnt worden , unsere Voreltern ...</td>\n",
       "    </tr>\n",
       "  </tbody>\n",
       "</table>\n",
       "</div>"
      ],
      "text/plain": [
       "                                            filename                author  \\\n",
       "0  Wilhelm_Walloth_-_Das_Schatzhaus_des_Königs_(1...       Wilhelm Walloth   \n",
       "1                Theodor_Däubler_-_L'Africana_(1928)       Theodor Däubler   \n",
       "2            Max_Eyth_-_Der_Schneider_von_Ulm_(1906)              Max Eyth   \n",
       "5           Friedrich_Spielhagen_-_Platt_Land_(1878)  Friedrich Spielhagen   \n",
       "6  Adalbert_Stifter_-_Ein_Gang_durch_die_Katakomb...      Adalbert Stifter   \n",
       "\n",
       "                           title  year  textlength  \\\n",
       "0      Das Schatzhaus des Königs  1883      105651   \n",
       "1                      LAfricana  1928       43258   \n",
       "2          Der Schneider von Ulm  1906      272961   \n",
       "5                     Platt Land  1878      205088   \n",
       "6  Ein Gang durch die Katakomben  1844        6351   \n",
       "\n",
       "                                                text  \n",
       "0  Roman aus dem alten Ägypten Und die Ägypter zw...  \n",
       "1  L'Africana Roman Horen-Verlag , Berlin-Grunewa...  \n",
       "2  [ cover ] Historischer Roman um den Mann , der...  \n",
       "5  Erstes Buch Erstes Kapitel . Der Wagen hielt ,...  \n",
       "6  Wir sind so gewohnt worden , unsere Voreltern ...  "
      ]
     },
     "execution_count": 84,
     "metadata": {},
     "output_type": "execute_result"
    }
   ],
   "source": [
    "criteria = (df[\"year\"] >= 1840) & (df[\"year\"] <= 1930)\n",
    "rdf = df[criteria]\n",
    "rdf.head()"
   ]
  },
  {
   "cell_type": "code",
   "execution_count": 87,
   "metadata": {},
   "outputs": [
    {
     "data": {
      "text/plain": [
       "(2212, 6)"
      ]
     },
     "execution_count": 87,
     "metadata": {},
     "output_type": "execute_result"
    }
   ],
   "source": [
    "rdf.shape"
   ]
  },
  {
   "cell_type": "code",
   "execution_count": 95,
   "metadata": {},
   "outputs": [
    {
     "data": {
      "text/plain": [
       "0.19122486288848262"
      ]
     },
     "execution_count": 95,
     "metadata": {},
     "output_type": "execute_result"
    }
   ],
   "source": [
    "1 - 2212/2735"
   ]
  },
  {
   "cell_type": "code",
   "execution_count": 85,
   "metadata": {},
   "outputs": [
    {
     "data": {
      "image/png": "[encoded data removed]",
      "text/plain": [
       "<Figure size 560x420 with 1 Axes>"
      ]
     },
     "metadata": {
      "needs_background": "light"
     },
     "output_type": "display_data"
    }
   ],
   "source": [
    "plt.hist(df2[\"year\"], bins=100, range=[1500,1950])\n",
    "plt.gca().set(title='Publication year Histogram',\n",
    "              xlabel=\"Publication years\",\n",
    "              ylabel='Publication year Frequency')\n",
    "plt.xticks(np.arange(1500, 1950, 40))\n",
    "plt.show()"
   ]
  },
  {
   "cell_type": "markdown",
   "metadata": {},
   "source": [
    "### Reduce corpus by critical texts"
   ]
  },
  {
   "cell_type": "markdown",
   "metadata": {},
   "source": [
    "1. Duplicate: Knigge's \"Benjamin Noldmann's Geschichte der Aufklärung in Abyssinien\" is contained twice (additional occurrence as part of \"Traum des Herrn Brick\")."
   ]
  },
  {
   "cell_type": "code",
   "execution_count": 117,
   "metadata": {
    "collapsed": true
   },
   "outputs": [
    {
     "data": {
      "text/html": [
       "<div>\n",
       "<style scoped>\n",
       "    .dataframe tbody tr th:only-of-type {\n",
       "        vertical-align: middle;\n",
       "    }\n",
       "\n",
       "    .dataframe tbody tr th {\n",
       "        vertical-align: top;\n",
       "    }\n",
       "\n",
       "    .dataframe thead th {\n",
       "        text-align: right;\n",
       "    }\n",
       "</style>\n",
       "<table border=\"1\" class=\"dataframe\">\n",
       "  <thead>\n",
       "    <tr style=\"text-align: right;\">\n",
       "      <th></th>\n",
       "      <th>filename</th>\n",
       "      <th>author</th>\n",
       "      <th>title</th>\n",
       "      <th>year</th>\n",
       "      <th>textlength</th>\n",
       "      <th>text</th>\n",
       "    </tr>\n",
       "  </thead>\n",
       "  <tbody>\n",
       "  </tbody>\n",
       "</table>\n",
       "</div>"
      ],
      "text/plain": [
       "Empty DataFrame\n",
       "Columns: [filename, author, title, year, textlength, text]\n",
       "Index: []"
      ]
     },
     "execution_count": 117,
     "metadata": {},
     "output_type": "execute_result"
    }
   ],
   "source": [
    "rdf[rdf[\"author\"].str.contains(\"Adolph Freiherr\")]"
   ]
  },
  {
   "cell_type": "markdown",
   "metadata": {},
   "source": [
    "2. Duplicate: E.T.A. Hoffmann's \"Meister Martin der Küfner und seine Gesellen\" is already contained in \"Serapions-Brüdern\"."
   ]
  },
  {
   "cell_type": "code",
   "execution_count": 107,
   "metadata": {
    "collapsed": true
   },
   "outputs": [
    {
     "data": {
      "text/html": [
       "<div>\n",
       "<style scoped>\n",
       "    .dataframe tbody tr th:only-of-type {\n",
       "        vertical-align: middle;\n",
       "    }\n",
       "\n",
       "    .dataframe tbody tr th {\n",
       "        vertical-align: top;\n",
       "    }\n",
       "\n",
       "    .dataframe thead th {\n",
       "        text-align: right;\n",
       "    }\n",
       "</style>\n",
       "<table border=\"1\" class=\"dataframe\">\n",
       "  <thead>\n",
       "    <tr style=\"text-align: right;\">\n",
       "      <th></th>\n",
       "      <th>filename</th>\n",
       "      <th>author</th>\n",
       "      <th>title</th>\n",
       "      <th>year</th>\n",
       "      <th>textlength</th>\n",
       "      <th>text</th>\n",
       "    </tr>\n",
       "  </thead>\n",
       "  <tbody>\n",
       "    <tr>\n",
       "      <td>33</td>\n",
       "      <td>ETA_Hoffmann_-_Letzte_Stücke_(1822)</td>\n",
       "      <td>ETA Hoffmann</td>\n",
       "      <td>Letzte Stücke</td>\n",
       "      <td>1822</td>\n",
       "      <td>185727</td>\n",
       "      <td>E. T. A. Hoffmann Vorwort Nachfolgende Briefe ...</td>\n",
       "    </tr>\n",
       "    <tr>\n",
       "      <td>193</td>\n",
       "      <td>ETA_Hoffmann_-_Lebensansichten_des_Katers_Murr...</td>\n",
       "      <td>ETA Hoffmann</td>\n",
       "      <td>Lebensansichten des Katers Murr</td>\n",
       "      <td>1819</td>\n",
       "      <td>162366</td>\n",
       "      <td>nebst fragmentarischer Biographie des Kapellme...</td>\n",
       "    </tr>\n",
       "    <tr>\n",
       "      <td>241</td>\n",
       "      <td>ETA_Hoffmann_-_Der_Magnetiseur_(1814)</td>\n",
       "      <td>ETA Hoffmann</td>\n",
       "      <td>Der Magnetiseur</td>\n",
       "      <td>1814</td>\n",
       "      <td>17209</td>\n",
       "      <td>E.T.A . Hoffmann Eine Familienbegebenheit ( Er...</td>\n",
       "    </tr>\n",
       "    <tr>\n",
       "      <td>465</td>\n",
       "      <td>ETA_Hoffmann_-_Die_Serapions-Brüder_(1821)</td>\n",
       "      <td>ETA Hoffmann</td>\n",
       "      <td>Die Serapions-Brüder</td>\n",
       "      <td>1821</td>\n",
       "      <td>435937</td>\n",
       "      <td>Gesammelte Erzählungen und Märchen Herausgegeb...</td>\n",
       "    </tr>\n",
       "    <tr>\n",
       "      <td>490</td>\n",
       "      <td>ETA_Hoffmann_-_Meister_Martin_der_Küfner_und_s...</td>\n",
       "      <td>ETA Hoffmann</td>\n",
       "      <td>Meister Martin der Küfner und seine Gesellen</td>\n",
       "      <td>1818</td>\n",
       "      <td>25453</td>\n",
       "      <td>E. T. A. Hoffmann Wohl mag dir auch , geliebte...</td>\n",
       "    </tr>\n",
       "    <tr>\n",
       "      <td>620</td>\n",
       "      <td>ETA_Hoffmann_-_Die_Irrungen_-_Verloren_und_Gef...</td>\n",
       "      <td>ETA Hoffmann</td>\n",
       "      <td>Die Irrungen - Verloren und Gefunden</td>\n",
       "      <td>1820</td>\n",
       "      <td>17158</td>\n",
       "      <td>E.T.A . Hoffmann Die Irrungen Fragment aus dem...</td>\n",
       "    </tr>\n",
       "    <tr>\n",
       "      <td>653</td>\n",
       "      <td>ETA_Hoffmann_-_Das_steinerne_Herz_(1817)</td>\n",
       "      <td>ETA Hoffmann</td>\n",
       "      <td>Das steinerne Herz</td>\n",
       "      <td>1817</td>\n",
       "      <td>10458</td>\n",
       "      <td>E.T.A . Hoffmann ( Erstdruck ) Jedem Reisenden...</td>\n",
       "    </tr>\n",
       "    <tr>\n",
       "      <td>712</td>\n",
       "      <td>ETA_Hoffmann_-_Das_Majorat_(1817)</td>\n",
       "      <td>ETA Hoffmann</td>\n",
       "      <td>Das Majorat</td>\n",
       "      <td>1817</td>\n",
       "      <td>33249</td>\n",
       "      <td>E.T.A . Hoffmann Dem Gestade der Ostsee unfern...</td>\n",
       "    </tr>\n",
       "    <tr>\n",
       "      <td>795</td>\n",
       "      <td>ETA_Hoffmann_-_Der_Elementargeist_(1819)</td>\n",
       "      <td>ETA Hoffmann</td>\n",
       "      <td>Der Elementargeist</td>\n",
       "      <td>1819</td>\n",
       "      <td>18133</td>\n",
       "      <td>E.T.A . Hoffmann Gerade am 20 November des Jah...</td>\n",
       "    </tr>\n",
       "    <tr>\n",
       "      <td>850</td>\n",
       "      <td>ETA_Hoffmann_-_Der_Sandmann_(1817)</td>\n",
       "      <td>ETA Hoffmann</td>\n",
       "      <td>Der Sandmann</td>\n",
       "      <td>1817</td>\n",
       "      <td>14724</td>\n",
       "      <td>E.T.A . Hoffmann ( Erstdruck ) Nathanael an Lo...</td>\n",
       "    </tr>\n",
       "    <tr>\n",
       "      <td>896</td>\n",
       "      <td>ETA_Hoffmann_-_Des_Vetters_Eckfenster_(1822)</td>\n",
       "      <td>ETA Hoffmann</td>\n",
       "      <td>Des Vetters Eckfenster</td>\n",
       "      <td>1822</td>\n",
       "      <td>10905</td>\n",
       "      <td>E. T. A. Hoffmann Erzählung Meinen armen Vette...</td>\n",
       "    </tr>\n",
       "    <tr>\n",
       "      <td>925</td>\n",
       "      <td>ETA_Hoffmann_-_Seltsame_Leiden_eines_Theaterdi...</td>\n",
       "      <td>ETA Hoffmann</td>\n",
       "      <td>Seltsame Leiden eines Theaterdirektors</td>\n",
       "      <td>1818</td>\n",
       "      <td>41296</td>\n",
       "      <td>E.T.A . Hoffmann Aus mündlicher Tradition mitg...</td>\n",
       "    </tr>\n",
       "    <tr>\n",
       "      <td>1008</td>\n",
       "      <td>ETA_Hoffmann_-_Das_Sanctus_(1817)</td>\n",
       "      <td>ETA Hoffmann</td>\n",
       "      <td>Das Sanctus</td>\n",
       "      <td>1817</td>\n",
       "      <td>7322</td>\n",
       "      <td>E.T.A . Hoffmann ( Erstdruck ) Der Doktor schü...</td>\n",
       "    </tr>\n",
       "    <tr>\n",
       "      <td>1081</td>\n",
       "      <td>ETA_Hoffmann_-_Die_Geheimnisse_-_Merkwürdige_K...</td>\n",
       "      <td>ETA Hoffmann</td>\n",
       "      <td>Die Geheimnisse - Merkwürdige Korrespondenz de...</td>\n",
       "      <td>1821</td>\n",
       "      <td>20983</td>\n",
       "      <td>E.T.A . Hoffmann Die Geheimnisse Fortsetzung d...</td>\n",
       "    </tr>\n",
       "    <tr>\n",
       "      <td>1310</td>\n",
       "      <td>ETA_Hoffmann_-_Die_Geschichte_vom_verlornen_Sp...</td>\n",
       "      <td>ETA Hoffmann</td>\n",
       "      <td>Die Geschichte vom verlornen Spiegelbilde</td>\n",
       "      <td>1819</td>\n",
       "      <td>6876</td>\n",
       "      <td>E. T. A. Hoffmann Endlich war es doch so weit ...</td>\n",
       "    </tr>\n",
       "    <tr>\n",
       "      <td>1538</td>\n",
       "      <td>ETA_Hoffmann_-_Die_Elixiere_des_Teufels_(1815)</td>\n",
       "      <td>ETA Hoffmann</td>\n",
       "      <td>Die Elixiere des Teufels</td>\n",
       "      <td>1815</td>\n",
       "      <td>126961</td>\n",
       "      <td>E.T.A . Hoffmann / Teil 1 Erster Abschnitt Die...</td>\n",
       "    </tr>\n",
       "    <tr>\n",
       "      <td>1559</td>\n",
       "      <td>ETA_Hoffmann_-_Haimatochare_(1819)</td>\n",
       "      <td>ETA Hoffmann</td>\n",
       "      <td>Haimatochare</td>\n",
       "      <td>1819</td>\n",
       "      <td>4765</td>\n",
       "      <td>E. T. A. Hoffmann Vorwort Nachfolgende Briefe ...</td>\n",
       "    </tr>\n",
       "    <tr>\n",
       "      <td>1777</td>\n",
       "      <td>ETA_Hoffmann_-_Das_öde_Haus_(1817)</td>\n",
       "      <td>ETA Hoffmann</td>\n",
       "      <td>Das öde Haus</td>\n",
       "      <td>1817</td>\n",
       "      <td>13478</td>\n",
       "      <td>E.T.A . Hoffmann ( Erstdruck ) Man war darüber...</td>\n",
       "    </tr>\n",
       "    <tr>\n",
       "      <td>1896</td>\n",
       "      <td>ETA_Hoffmann_-_Das_Fräulein_von_Scuderi_(1819)</td>\n",
       "      <td>ETA Hoffmann</td>\n",
       "      <td>Das Fräulein von Scuderi</td>\n",
       "      <td>1819</td>\n",
       "      <td>27852</td>\n",
       "      <td>E. T. A. Hoffmann Eine Erzählung aus dem Zeita...</td>\n",
       "    </tr>\n",
       "    <tr>\n",
       "      <td>1953</td>\n",
       "      <td>ETA_Hoffmann_-_Ritter_Gluck_(1809)</td>\n",
       "      <td>ETA Hoffmann</td>\n",
       "      <td>Ritter Gluck</td>\n",
       "      <td>1809</td>\n",
       "      <td>4557</td>\n",
       "      <td>E. T. A. Hoffmann Eine Erinnerung aus dem Jahr...</td>\n",
       "    </tr>\n",
       "    <tr>\n",
       "      <td>1960</td>\n",
       "      <td>ETA_Hoffmann_-_Rat_Krespel_(1818)</td>\n",
       "      <td>ETA Hoffmann</td>\n",
       "      <td>Rat Krespel</td>\n",
       "      <td>1818</td>\n",
       "      <td>9566</td>\n",
       "      <td>E.T.A . Hoffmann Der war einer der allerwunder...</td>\n",
       "    </tr>\n",
       "    <tr>\n",
       "      <td>2050</td>\n",
       "      <td>ETA_Hoffmann_-_Das_Gelübde_(1817)</td>\n",
       "      <td>ETA Hoffmann</td>\n",
       "      <td>Das Gelübde</td>\n",
       "      <td>1817</td>\n",
       "      <td>12346</td>\n",
       "      <td>E.T.A . Hoffmann ( Erstdruck ) Am Michaelistag...</td>\n",
       "    </tr>\n",
       "    <tr>\n",
       "      <td>2252</td>\n",
       "      <td>Hans_Hoffmann_-_Im_Lande_der_Phäaken_(1884)</td>\n",
       "      <td>Hans Hoffmann</td>\n",
       "      <td>Im Lande der Phäaken</td>\n",
       "      <td>1884</td>\n",
       "      <td>51169</td>\n",
       "      <td>. Novellen von Hans Hoffmann . Berlin . Verlag...</td>\n",
       "    </tr>\n",
       "    <tr>\n",
       "      <td>2324</td>\n",
       "      <td>ETA_Hoffmann_-_Die_Bergwerke_zu_Falun_(1816)</td>\n",
       "      <td>ETA Hoffmann</td>\n",
       "      <td>Die Bergwerke zu Falun</td>\n",
       "      <td>1816</td>\n",
       "      <td>11665</td>\n",
       "      <td>E.T.A . Hoffmann An einem heitern sonnenhellen...</td>\n",
       "    </tr>\n",
       "    <tr>\n",
       "      <td>2459</td>\n",
       "      <td>ETA_Hoffmann_-_Die_Brautwahl_(1818)</td>\n",
       "      <td>ETA Hoffmann</td>\n",
       "      <td>Die Brautwahl</td>\n",
       "      <td>1818</td>\n",
       "      <td>28343</td>\n",
       "      <td>E. T. A. Hoffmann Eine Geschichte , in der meh...</td>\n",
       "    </tr>\n",
       "    <tr>\n",
       "      <td>2477</td>\n",
       "      <td>ETA_Hoffmann_-_Lebensansichten_des_Katers_Murr...</td>\n",
       "      <td>ETA Hoffmann</td>\n",
       "      <td>Lebensansichten des Katers Murr</td>\n",
       "      <td>1820</td>\n",
       "      <td>162609</td>\n",
       "      <td>Lebensansichten des Katers Murr nebst fragment...</td>\n",
       "    </tr>\n",
       "    <tr>\n",
       "      <td>2486</td>\n",
       "      <td>Hans_Hoffmann_-_Das_Gymnasium_zu_Stolpenburg_(...</td>\n",
       "      <td>Hans Hoffmann</td>\n",
       "      <td>Das Gymnasium zu Stolpenburg</td>\n",
       "      <td>1891</td>\n",
       "      <td>56764</td>\n",
       "      <td>. Novellen von Hans Hoffmann . Zweite Auflage ...</td>\n",
       "    </tr>\n",
       "    <tr>\n",
       "      <td>2614</td>\n",
       "      <td>ETA_Hoffmann_-_Ignaz_Denner_(1817)</td>\n",
       "      <td>ETA Hoffmann</td>\n",
       "      <td>Ignaz Denner</td>\n",
       "      <td>1817</td>\n",
       "      <td>22534</td>\n",
       "      <td>E.T.A Hoffmann ( Erstdruck ) Vor alter längst ...</td>\n",
       "    </tr>\n",
       "    <tr>\n",
       "      <td>2664</td>\n",
       "      <td>ETA_Hoffmann_-_Die_Jesuiterkirche_in_G._(1817)</td>\n",
       "      <td>ETA Hoffmann</td>\n",
       "      <td>Die Jesuiterkirche in G</td>\n",
       "      <td>1817</td>\n",
       "      <td>11831</td>\n",
       "      <td>E.T.A . Hoffmann . ( Erstdruck ) In eine elend...</td>\n",
       "    </tr>\n",
       "    <tr>\n",
       "      <td>2714</td>\n",
       "      <td>ETA_Hoffmann_-_Das_fremde_Kind_(1817)</td>\n",
       "      <td>ETA Hoffmann</td>\n",
       "      <td>Das fremde Kind</td>\n",
       "      <td>1817</td>\n",
       "      <td>17943</td>\n",
       "      <td>E. T. A. Hoffmann Der Herr von Brakel auf Brak...</td>\n",
       "    </tr>\n",
       "  </tbody>\n",
       "</table>\n",
       "</div>"
      ],
      "text/plain": [
       "                                               filename         author  \\\n",
       "33                  ETA_Hoffmann_-_Letzte_Stücke_(1822)   ETA Hoffmann   \n",
       "193   ETA_Hoffmann_-_Lebensansichten_des_Katers_Murr...   ETA Hoffmann   \n",
       "241               ETA_Hoffmann_-_Der_Magnetiseur_(1814)   ETA Hoffmann   \n",
       "465          ETA_Hoffmann_-_Die_Serapions-Brüder_(1821)   ETA Hoffmann   \n",
       "490   ETA_Hoffmann_-_Meister_Martin_der_Küfner_und_s...   ETA Hoffmann   \n",
       "620   ETA_Hoffmann_-_Die_Irrungen_-_Verloren_und_Gef...   ETA Hoffmann   \n",
       "653            ETA_Hoffmann_-_Das_steinerne_Herz_(1817)   ETA Hoffmann   \n",
       "712                   ETA_Hoffmann_-_Das_Majorat_(1817)   ETA Hoffmann   \n",
       "795            ETA_Hoffmann_-_Der_Elementargeist_(1819)   ETA Hoffmann   \n",
       "850                  ETA_Hoffmann_-_Der_Sandmann_(1817)   ETA Hoffmann   \n",
       "896        ETA_Hoffmann_-_Des_Vetters_Eckfenster_(1822)   ETA Hoffmann   \n",
       "925   ETA_Hoffmann_-_Seltsame_Leiden_eines_Theaterdi...   ETA Hoffmann   \n",
       "1008                  ETA_Hoffmann_-_Das_Sanctus_(1817)   ETA Hoffmann   \n",
       "1081  ETA_Hoffmann_-_Die_Geheimnisse_-_Merkwürdige_K...   ETA Hoffmann   \n",
       "1310  ETA_Hoffmann_-_Die_Geschichte_vom_verlornen_Sp...   ETA Hoffmann   \n",
       "1538     ETA_Hoffmann_-_Die_Elixiere_des_Teufels_(1815)   ETA Hoffmann   \n",
       "1559                 ETA_Hoffmann_-_Haimatochare_(1819)   ETA Hoffmann   \n",
       "1777                 ETA_Hoffmann_-_Das_öde_Haus_(1817)   ETA Hoffmann   \n",
       "1896     ETA_Hoffmann_-_Das_Fräulein_von_Scuderi_(1819)   ETA Hoffmann   \n",
       "1953                 ETA_Hoffmann_-_Ritter_Gluck_(1809)   ETA Hoffmann   \n",
       "1960                  ETA_Hoffmann_-_Rat_Krespel_(1818)   ETA Hoffmann   \n",
       "2050                  ETA_Hoffmann_-_Das_Gelübde_(1817)   ETA Hoffmann   \n",
       "2252        Hans_Hoffmann_-_Im_Lande_der_Phäaken_(1884)  Hans Hoffmann   \n",
       "2324       ETA_Hoffmann_-_Die_Bergwerke_zu_Falun_(1816)   ETA Hoffmann   \n",
       "2459                ETA_Hoffmann_-_Die_Brautwahl_(1818)   ETA Hoffmann   \n",
       "2477  ETA_Hoffmann_-_Lebensansichten_des_Katers_Murr...   ETA Hoffmann   \n",
       "2486  Hans_Hoffmann_-_Das_Gymnasium_zu_Stolpenburg_(...  Hans Hoffmann   \n",
       "2614                 ETA_Hoffmann_-_Ignaz_Denner_(1817)   ETA Hoffmann   \n",
       "2664     ETA_Hoffmann_-_Die_Jesuiterkirche_in_G._(1817)   ETA Hoffmann   \n",
       "2714              ETA_Hoffmann_-_Das_fremde_Kind_(1817)   ETA Hoffmann   \n",
       "\n",
       "                                                  title  year  textlength  \\\n",
       "33                                        Letzte Stücke  1822      185727   \n",
       "193                     Lebensansichten des Katers Murr  1819      162366   \n",
       "241                                     Der Magnetiseur  1814       17209   \n",
       "465                                Die Serapions-Brüder  1821      435937   \n",
       "490        Meister Martin der Küfner und seine Gesellen  1818       25453   \n",
       "620                Die Irrungen - Verloren und Gefunden  1820       17158   \n",
       "653                                  Das steinerne Herz  1817       10458   \n",
       "712                                         Das Majorat  1817       33249   \n",
       "795                                  Der Elementargeist  1819       18133   \n",
       "850                                        Der Sandmann  1817       14724   \n",
       "896                              Des Vetters Eckfenster  1822       10905   \n",
       "925              Seltsame Leiden eines Theaterdirektors  1818       41296   \n",
       "1008                                        Das Sanctus  1817        7322   \n",
       "1081  Die Geheimnisse - Merkwürdige Korrespondenz de...  1821       20983   \n",
       "1310          Die Geschichte vom verlornen Spiegelbilde  1819        6876   \n",
       "1538                           Die Elixiere des Teufels  1815      126961   \n",
       "1559                                       Haimatochare  1819        4765   \n",
       "1777                                       Das öde Haus  1817       13478   \n",
       "1896                           Das Fräulein von Scuderi  1819       27852   \n",
       "1953                                       Ritter Gluck  1809        4557   \n",
       "1960                                        Rat Krespel  1818        9566   \n",
       "2050                                        Das Gelübde  1817       12346   \n",
       "2252                               Im Lande der Phäaken  1884       51169   \n",
       "2324                             Die Bergwerke zu Falun  1816       11665   \n",
       "2459                                      Die Brautwahl  1818       28343   \n",
       "2477                    Lebensansichten des Katers Murr  1820      162609   \n",
       "2486                       Das Gymnasium zu Stolpenburg  1891       56764   \n",
       "2614                                       Ignaz Denner  1817       22534   \n",
       "2664                            Die Jesuiterkirche in G  1817       11831   \n",
       "2714                                    Das fremde Kind  1817       17943   \n",
       "\n",
       "                                                   text  \n",
       "33    E. T. A. Hoffmann Vorwort Nachfolgende Briefe ...  \n",
       "193   nebst fragmentarischer Biographie des Kapellme...  \n",
       "241   E.T.A . Hoffmann Eine Familienbegebenheit ( Er...  \n",
       "465   Gesammelte Erzählungen und Märchen Herausgegeb...  \n",
       "490   E. T. A. Hoffmann Wohl mag dir auch , geliebte...  \n",
       "620   E.T.A . Hoffmann Die Irrungen Fragment aus dem...  \n",
       "653   E.T.A . Hoffmann ( Erstdruck ) Jedem Reisenden...  \n",
       "712   E.T.A . Hoffmann Dem Gestade der Ostsee unfern...  \n",
       "795   E.T.A . Hoffmann Gerade am 20 November des Jah...  \n",
       "850   E.T.A . Hoffmann ( Erstdruck ) Nathanael an Lo...  \n",
       "896   E. T. A. Hoffmann Erzählung Meinen armen Vette...  \n",
       "925   E.T.A . Hoffmann Aus mündlicher Tradition mitg...  \n",
       "1008  E.T.A . Hoffmann ( Erstdruck ) Der Doktor schü...  \n",
       "1081  E.T.A . Hoffmann Die Geheimnisse Fortsetzung d...  \n",
       "1310  E. T. A. Hoffmann Endlich war es doch so weit ...  \n",
       "1538  E.T.A . Hoffmann / Teil 1 Erster Abschnitt Die...  \n",
       "1559  E. T. A. Hoffmann Vorwort Nachfolgende Briefe ...  \n",
       "1777  E.T.A . Hoffmann ( Erstdruck ) Man war darüber...  \n",
       "1896  E. T. A. Hoffmann Eine Erzählung aus dem Zeita...  \n",
       "1953  E. T. A. Hoffmann Eine Erinnerung aus dem Jahr...  \n",
       "1960  E.T.A . Hoffmann Der war einer der allerwunder...  \n",
       "2050  E.T.A . Hoffmann ( Erstdruck ) Am Michaelistag...  \n",
       "2252  . Novellen von Hans Hoffmann . Berlin . Verlag...  \n",
       "2324  E.T.A . Hoffmann An einem heitern sonnenhellen...  \n",
       "2459  E. T. A. Hoffmann Eine Geschichte , in der meh...  \n",
       "2477  Lebensansichten des Katers Murr nebst fragment...  \n",
       "2486  . Novellen von Hans Hoffmann . Zweite Auflage ...  \n",
       "2614  E.T.A Hoffmann ( Erstdruck ) Vor alter längst ...  \n",
       "2664  E.T.A . Hoffmann . ( Erstdruck ) In eine elend...  \n",
       "2714  E. T. A. Hoffmann Der Herr von Brakel auf Brak...  "
      ]
     },
     "execution_count": 107,
     "metadata": {},
     "output_type": "execute_result"
    }
   ],
   "source": [
    "rdf[rdf[\"author\"].str.contains(\"Hoffmann\")]"
   ]
  },
  {
   "cell_type": "markdown",
   "metadata": {},
   "source": [
    "3. Semi-Duplicate: Gottfried Keller's \"Der Grüne Heinrich\" is contained in two versions. They are, in fact, different, but there's a whole lot of identical passages, too. Depending on your type of research question, this could cause an unevenness."
   ]
  },
  {
   "cell_type": "code",
   "execution_count": 124,
   "metadata": {
    "collapsed": true
   },
   "outputs": [
    {
     "data": {
      "text/html": [
       "<div>\n",
       "<style scoped>\n",
       "    .dataframe tbody tr th:only-of-type {\n",
       "        vertical-align: middle;\n",
       "    }\n",
       "\n",
       "    .dataframe tbody tr th {\n",
       "        vertical-align: top;\n",
       "    }\n",
       "\n",
       "    .dataframe thead th {\n",
       "        text-align: right;\n",
       "    }\n",
       "</style>\n",
       "<table border=\"1\" class=\"dataframe\">\n",
       "  <thead>\n",
       "    <tr style=\"text-align: right;\">\n",
       "      <th></th>\n",
       "      <th>filename</th>\n",
       "      <th>author</th>\n",
       "      <th>title</th>\n",
       "      <th>year</th>\n",
       "      <th>textlength</th>\n",
       "      <th>text</th>\n",
       "    </tr>\n",
       "  </thead>\n",
       "  <tbody>\n",
       "    <tr>\n",
       "      <td>1156</td>\n",
       "      <td>Gottfried_Keller_-_Der_grüne_Heinrich._Erste_F...</td>\n",
       "      <td>Gottfried Keller</td>\n",
       "      <td>Der grüne Heinrich Erste Fassung</td>\n",
       "      <td>1854</td>\n",
       "      <td>305052</td>\n",
       "      <td>Der grüne Heinrich . Erste Fassung Vorwort Von...</td>\n",
       "    </tr>\n",
       "    <tr>\n",
       "      <td>1893</td>\n",
       "      <td>Gottfried_Keller_-_Der_grüne_Heinrich_(1879)</td>\n",
       "      <td>Gottfried Keller</td>\n",
       "      <td>Der grüne Heinrich</td>\n",
       "      <td>1879</td>\n",
       "      <td>288074</td>\n",
       "      <td>Zweite Fassung ( /80 ) Inhalt : • Erster Teil ...</td>\n",
       "    </tr>\n",
       "  </tbody>\n",
       "</table>\n",
       "</div>"
      ],
      "text/plain": [
       "                                               filename            author  \\\n",
       "1156  Gottfried_Keller_-_Der_grüne_Heinrich._Erste_F...  Gottfried Keller   \n",
       "1893       Gottfried_Keller_-_Der_grüne_Heinrich_(1879)  Gottfried Keller   \n",
       "\n",
       "                                 title  year  textlength  \\\n",
       "1156  Der grüne Heinrich Erste Fassung  1854      305052   \n",
       "1893                Der grüne Heinrich  1879      288074   \n",
       "\n",
       "                                                   text  \n",
       "1156  Der grüne Heinrich . Erste Fassung Vorwort Von...  \n",
       "1893  Zweite Fassung ( /80 ) Inhalt : • Erster Teil ...  "
      ]
     },
     "execution_count": 124,
     "metadata": {},
     "output_type": "execute_result"
    }
   ],
   "source": [
    "rdf[rdf[\"title\"].str.contains(\"grüne Heinrich\")]"
   ]
  },
  {
   "cell_type": "markdown",
   "metadata": {},
   "source": [
    "#### Remove \"Der grüne Heinrich Erste Fassung\""
   ]
  },
  {
   "cell_type": "code",
   "execution_count": 127,
   "metadata": {},
   "outputs": [],
   "source": [
    "rdf2 = rdf[rdf[\"title\"] != \"Der grüne Heinrich Erste Fassung\"] "
   ]
  },
  {
   "cell_type": "code",
   "execution_count": 128,
   "metadata": {},
   "outputs": [
    {
     "data": {
      "text/html": [
       "<div>\n",
       "<style scoped>\n",
       "    .dataframe tbody tr th:only-of-type {\n",
       "        vertical-align: middle;\n",
       "    }\n",
       "\n",
       "    .dataframe tbody tr th {\n",
       "        vertical-align: top;\n",
       "    }\n",
       "\n",
       "    .dataframe thead th {\n",
       "        text-align: right;\n",
       "    }\n",
       "</style>\n",
       "<table border=\"1\" class=\"dataframe\">\n",
       "  <thead>\n",
       "    <tr style=\"text-align: right;\">\n",
       "      <th></th>\n",
       "      <th>filename</th>\n",
       "      <th>author</th>\n",
       "      <th>title</th>\n",
       "      <th>year</th>\n",
       "      <th>textlength</th>\n",
       "      <th>text</th>\n",
       "    </tr>\n",
       "  </thead>\n",
       "  <tbody>\n",
       "    <tr>\n",
       "      <td>1893</td>\n",
       "      <td>Gottfried_Keller_-_Der_grüne_Heinrich_(1879)</td>\n",
       "      <td>Gottfried Keller</td>\n",
       "      <td>Der grüne Heinrich</td>\n",
       "      <td>1879</td>\n",
       "      <td>288074</td>\n",
       "      <td>Zweite Fassung ( /80 ) Inhalt : • Erster Teil ...</td>\n",
       "    </tr>\n",
       "  </tbody>\n",
       "</table>\n",
       "</div>"
      ],
      "text/plain": [
       "                                          filename            author  \\\n",
       "1893  Gottfried_Keller_-_Der_grüne_Heinrich_(1879)  Gottfried Keller   \n",
       "\n",
       "                   title  year  textlength  \\\n",
       "1893  Der grüne Heinrich  1879      288074   \n",
       "\n",
       "                                                   text  \n",
       "1893  Zweite Fassung ( /80 ) Inhalt : • Erster Teil ...  "
      ]
     },
     "execution_count": 128,
     "metadata": {},
     "output_type": "execute_result"
    }
   ],
   "source": [
    "rdf2[rdf2[\"title\"].str.contains(\"grüne Heinrich\")]"
   ]
  },
  {
   "cell_type": "markdown",
   "metadata": {},
   "source": [
    "4. Duplicate: Löns's \"Dahinten in der Heide\" is contained again in the collection \"Aus Forst und Flur\"."
   ]
  },
  {
   "cell_type": "code",
   "execution_count": 132,
   "metadata": {},
   "outputs": [
    {
     "data": {
      "text/html": [
       "<div>\n",
       "<style scoped>\n",
       "    .dataframe tbody tr th:only-of-type {\n",
       "        vertical-align: middle;\n",
       "    }\n",
       "\n",
       "    .dataframe tbody tr th {\n",
       "        vertical-align: top;\n",
       "    }\n",
       "\n",
       "    .dataframe thead th {\n",
       "        text-align: right;\n",
       "    }\n",
       "</style>\n",
       "<table border=\"1\" class=\"dataframe\">\n",
       "  <thead>\n",
       "    <tr style=\"text-align: right;\">\n",
       "      <th></th>\n",
       "      <th>filename</th>\n",
       "      <th>author</th>\n",
       "      <th>title</th>\n",
       "      <th>year</th>\n",
       "      <th>textlength</th>\n",
       "      <th>text</th>\n",
       "    </tr>\n",
       "  </thead>\n",
       "  <tbody>\n",
       "    <tr>\n",
       "      <td>1524</td>\n",
       "      <td>Hermann_Löns_-_Dahinten_in_der_Heide_(1909)</td>\n",
       "      <td>Hermann Löns</td>\n",
       "      <td>Dahinten in der Heide</td>\n",
       "      <td>1909</td>\n",
       "      <td>40678</td>\n",
       "      <td>Roman Inhalt : Der Ortolan Der Goldammer Der T...</td>\n",
       "    </tr>\n",
       "  </tbody>\n",
       "</table>\n",
       "</div>"
      ],
      "text/plain": [
       "                                         filename        author  \\\n",
       "1524  Hermann_Löns_-_Dahinten_in_der_Heide_(1909)  Hermann Löns   \n",
       "\n",
       "                      title  year  textlength  \\\n",
       "1524  Dahinten in der Heide  1909       40678   \n",
       "\n",
       "                                                   text  \n",
       "1524  Roman Inhalt : Der Ortolan Der Goldammer Der T...  "
      ]
     },
     "execution_count": 132,
     "metadata": {},
     "output_type": "execute_result"
    }
   ],
   "source": [
    "rdf2[rdf2[\"title\"].str.contains(\"Dahinten in\")]"
   ]
  },
  {
   "cell_type": "markdown",
   "metadata": {},
   "source": [
    "#### Remove \"Dahinten in der Heide\""
   ]
  },
  {
   "cell_type": "code",
   "execution_count": 133,
   "metadata": {},
   "outputs": [
    {
     "data": {
      "text/plain": [
       "(2210, 6)"
      ]
     },
     "execution_count": 133,
     "metadata": {},
     "output_type": "execute_result"
    }
   ],
   "source": [
    "rdf2 = rdf2[rdf2[\"title\"] != \"Dahinten in der Heide\"] \n",
    "rdf2.shape"
   ]
  },
  {
   "cell_type": "markdown",
   "metadata": {},
   "source": [
    "5. Duplicate: Löns's \"Der letzte Hansbur\", \"Das zweite Gesicht\", \"Die Häuser von Ohlenhof\" appear again as part of \"Sämtl. Werke Teil 7\"."
   ]
  },
  {
   "cell_type": "code",
   "execution_count": 140,
   "metadata": {
    "collapsed": true
   },
   "outputs": [
    {
     "data": {
      "text/html": [
       "<div>\n",
       "<style scoped>\n",
       "    .dataframe tbody tr th:only-of-type {\n",
       "        vertical-align: middle;\n",
       "    }\n",
       "\n",
       "    .dataframe tbody tr th {\n",
       "        vertical-align: top;\n",
       "    }\n",
       "\n",
       "    .dataframe thead th {\n",
       "        text-align: right;\n",
       "    }\n",
       "</style>\n",
       "<table border=\"1\" class=\"dataframe\">\n",
       "  <thead>\n",
       "    <tr style=\"text-align: right;\">\n",
       "      <th></th>\n",
       "      <th>filename</th>\n",
       "      <th>author</th>\n",
       "      <th>title</th>\n",
       "      <th>year</th>\n",
       "      <th>textlength</th>\n",
       "      <th>text</th>\n",
       "    </tr>\n",
       "  </thead>\n",
       "  <tbody>\n",
       "    <tr>\n",
       "      <td>475</td>\n",
       "      <td>Hermann_Löns_-_Sämtliche_Werke_-_Band_7_(1909)</td>\n",
       "      <td>Hermann Löns</td>\n",
       "      <td>Sämtliche Werke - Band 7</td>\n",
       "      <td>1909</td>\n",
       "      <td>185357</td>\n",
       "      <td>Gesammelte Werke , Band 7 Inhalt Der letzte Ha...</td>\n",
       "    </tr>\n",
       "  </tbody>\n",
       "</table>\n",
       "</div>"
      ],
      "text/plain": [
       "                                           filename        author  \\\n",
       "475  Hermann_Löns_-_Sämtliche_Werke_-_Band_7_(1909)  Hermann Löns   \n",
       "\n",
       "                        title  year  textlength  \\\n",
       "475  Sämtliche Werke - Band 7  1909      185357   \n",
       "\n",
       "                                                  text  \n",
       "475  Gesammelte Werke , Band 7 Inhalt Der letzte Ha...  "
      ]
     },
     "execution_count": 140,
     "metadata": {},
     "output_type": "execute_result"
    }
   ],
   "source": [
    "rdf2[rdf2[\"title\"].str.contains(\"Sämtliche Werke\")]"
   ]
  },
  {
   "cell_type": "markdown",
   "metadata": {},
   "source": [
    "#### Remove \"Sämtliche Werke - Band 7\""
   ]
  },
  {
   "cell_type": "code",
   "execution_count": 141,
   "metadata": {},
   "outputs": [
    {
     "data": {
      "text/plain": [
       "(2209, 6)"
      ]
     },
     "execution_count": 141,
     "metadata": {},
     "output_type": "execute_result"
    }
   ],
   "source": [
    "rdf2 = rdf2[rdf2[\"title\"] != \"Sämtliche Werke - Band 7\"]\n",
    "rdf2.shape"
   ]
  },
  {
   "cell_type": "markdown",
   "metadata": {},
   "source": [
    "6. Non-German Original: Strindberg's \"Beichte eines Toren\" is not a German original."
   ]
  },
  {
   "cell_type": "code",
   "execution_count": 144,
   "metadata": {},
   "outputs": [
    {
     "data": {
      "text/html": [
       "<div>\n",
       "<style scoped>\n",
       "    .dataframe tbody tr th:only-of-type {\n",
       "        vertical-align: middle;\n",
       "    }\n",
       "\n",
       "    .dataframe tbody tr th {\n",
       "        vertical-align: top;\n",
       "    }\n",
       "\n",
       "    .dataframe thead th {\n",
       "        text-align: right;\n",
       "    }\n",
       "</style>\n",
       "<table border=\"1\" class=\"dataframe\">\n",
       "  <thead>\n",
       "    <tr style=\"text-align: right;\">\n",
       "      <th></th>\n",
       "      <th>filename</th>\n",
       "      <th>author</th>\n",
       "      <th>title</th>\n",
       "      <th>year</th>\n",
       "      <th>textlength</th>\n",
       "      <th>text</th>\n",
       "    </tr>\n",
       "  </thead>\n",
       "  <tbody>\n",
       "    <tr>\n",
       "      <td>2053</td>\n",
       "      <td>August_Strindberg_-_Die_Beichte_eines_Thoren_(...</td>\n",
       "      <td>August Strindberg</td>\n",
       "      <td>Die Beichte eines Thoren</td>\n",
       "      <td>1895</td>\n",
       "      <td>93173</td>\n",
       "      <td>Roman 2 . Auflage . Budapest , 1894 . Carl Gri...</td>\n",
       "    </tr>\n",
       "  </tbody>\n",
       "</table>\n",
       "</div>"
      ],
      "text/plain": [
       "                                               filename             author  \\\n",
       "2053  August_Strindberg_-_Die_Beichte_eines_Thoren_(...  August Strindberg   \n",
       "\n",
       "                         title  year  textlength  \\\n",
       "2053  Die Beichte eines Thoren  1895       93173   \n",
       "\n",
       "                                                   text  \n",
       "2053  Roman 2 . Auflage . Budapest , 1894 . Carl Gri...  "
      ]
     },
     "execution_count": 144,
     "metadata": {},
     "output_type": "execute_result"
    }
   ],
   "source": [
    "rdf2[rdf2[\"title\"].str.contains(\"Die Beichte eines Thoren\")]"
   ]
  },
  {
   "cell_type": "markdown",
   "metadata": {},
   "source": [
    "#### Remove \"Die Beichte eines Thoren\""
   ]
  },
  {
   "cell_type": "code",
   "execution_count": 145,
   "metadata": {},
   "outputs": [
    {
     "data": {
      "text/plain": [
       "(2208, 6)"
      ]
     },
     "execution_count": 145,
     "metadata": {},
     "output_type": "execute_result"
    }
   ],
   "source": [
    "rdf2 = rdf2[rdf2[\"title\"] != \"Die Beichte eines Thoren\"]\n",
    "rdf2.shape"
   ]
  },
  {
   "cell_type": "markdown",
   "metadata": {},
   "source": [
    "Folgende Kritipunkte sind egal:\n",
    "- Non-Fiction: Heinrich Heine's \"Geständnisse\" and his \"Reisebilder\" would have to be regarded as non-fictional.\n",
    "- Non-Fiction: Seume's \"Spaziergang nach Syrakus\" is non-fictional."
   ]
  },
  {
   "cell_type": "markdown",
   "metadata": {},
   "source": [
    "## Plot length of texts"
   ]
  },
  {
   "cell_type": "markdown",
   "metadata": {},
   "source": [
    "### Abb. TODO - Textlängen Histogramm vor der \"Normalisierung\""
   ]
  },
  {
   "cell_type": "code",
   "execution_count": 148,
   "metadata": {},
   "outputs": [
    {
     "data": {
      "image/png": "[encoded data removed]",
      "text/plain": [
       "<Figure size 560x420 with 1 Axes>"
      ]
     },
     "metadata": {
      "needs_background": "light"
     },
     "output_type": "display_data"
    }
   ],
   "source": [
    "plt.hist(rdf2[\"textlength\"], bins=100, range=[0, 450000])\n",
    "plt.gca().set(title='Textlength Histogram',\n",
    "              xlabel=\"Textlengths\",\n",
    "              ylabel='Textlength Frequency')\n",
    "plt.xticks(np.arange(0, 450000, 50000))\n",
    "plt.show()"
   ]
  },
  {
   "cell_type": "code",
   "execution_count": 149,
   "metadata": {},
   "outputs": [],
   "source": [
    "# TODO: hier weiter, texte normalisieren"
   ]
  },
  {
   "cell_type": "code",
   "execution_count": null,
   "metadata": {},
   "outputs": [],
   "source": []
  },
  {
   "cell_type": "code",
   "execution_count": null,
   "metadata": {},
   "outputs": [],
   "source": []
  },
  {
   "cell_type": "code",
   "execution_count": null,
   "metadata": {},
   "outputs": [],
   "source": []
  }
 ],
 "metadata": {
  "kernelspec": {
   "display_name": "Python 3",
   "language": "python",
   "name": "python3"
  },
  "language_info": {
   "codemirror_mode": {
    "name": "ipython",
    "version": 3
   },
   "file_extension": ".py",
   "mimetype": "text/x-python",
   "name": "python",
   "nbconvert_exporter": "python",
   "pygments_lexer": "ipython3",
   "version": "3.7.4"
  }
 },
 "nbformat": 4,
 "nbformat_minor": 2
}
