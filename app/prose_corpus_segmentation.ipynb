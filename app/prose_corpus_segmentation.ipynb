{
 "cells": [
  {
   "cell_type": "markdown",
   "metadata": {},
   "source": [
    "# Prose corpus segmentation"
   ]
  },
  {
   "cell_type": "code",
   "execution_count": 2,
   "metadata": {},
   "outputs": [],
   "source": [
    "from nltk import word_tokenize\n",
    "import numpy as np\n",
    "import pandas as pd\n",
    "from typing import Dict, List, Optional, Tuple, Union\n",
    "from utils import build_chunks, split_texts_into_segments"
   ]
  },
  {
   "cell_type": "code",
   "execution_count": 9,
   "metadata": {},
   "outputs": [],
   "source": [
    "corpus = pd.read_csv(\"../data/corpora/prose_corpus.csv\")"
   ]
  },
  {
   "cell_type": "markdown",
   "metadata": {},
   "source": [
    "### hyperparameter\n",
    "\n",
    "Segments: 10000, 25000"
   ]
  },
  {
   "cell_type": "code",
   "execution_count": 11,
   "metadata": {},
   "outputs": [],
   "source": [
    "segments = 10000"
   ]
  },
  {
   "cell_type": "markdown",
   "metadata": {},
   "source": [
    "### Splitting into segments"
   ]
  },
  {
   "cell_type": "code",
   "execution_count": 18,
   "metadata": {},
   "outputs": [
    {
     "name": "stdout",
     "output_type": "stream",
     "text": [
      "CPU times: user 7min 9s, sys: 2.29 s, total: 7min 11s\n",
      "Wall time: 7min 14s\n"
     ]
    },
    {
     "data": {
      "text/html": [
       "<div>\n",
       "<style scoped>\n",
       "    .dataframe tbody tr th:only-of-type {\n",
       "        vertical-align: middle;\n",
       "    }\n",
       "\n",
       "    .dataframe tbody tr th {\n",
       "        vertical-align: top;\n",
       "    }\n",
       "\n",
       "    .dataframe thead th {\n",
       "        text-align: right;\n",
       "    }\n",
       "</style>\n",
       "<table border=\"1\" class=\"dataframe\">\n",
       "  <thead>\n",
       "    <tr style=\"text-align: right;\">\n",
       "      <th></th>\n",
       "      <th>filename</th>\n",
       "      <th>author</th>\n",
       "      <th>title</th>\n",
       "      <th>year</th>\n",
       "      <th>textlength</th>\n",
       "      <th>text</th>\n",
       "    </tr>\n",
       "  </thead>\n",
       "  <tbody>\n",
       "    <tr>\n",
       "      <th>0</th>\n",
       "      <td>Jakob_Christoph_Heer_-_Der_Wetterwart_(1905)_1</td>\n",
       "      <td>Jakob Christoph Heer</td>\n",
       "      <td>Der Wetterwart_1</td>\n",
       "      <td>1905</td>\n",
       "      <td>10000</td>\n",
       "      <td>1925 I Die feierliche Abendhelle steht über de...</td>\n",
       "    </tr>\n",
       "    <tr>\n",
       "      <th>1</th>\n",
       "      <td>Jakob_Christoph_Heer_-_Der_Wetterwart_(1905)_2</td>\n",
       "      <td>Jakob Christoph Heer</td>\n",
       "      <td>Der Wetterwart_2</td>\n",
       "      <td>1905</td>\n",
       "      <td>10000</td>\n",
       "      <td>spüre es , die Ingenieurkunst wäre mein innigs...</td>\n",
       "    </tr>\n",
       "    <tr>\n",
       "      <th>2</th>\n",
       "      <td>Jakob_Christoph_Heer_-_Der_Wetterwart_(1905)_3</td>\n",
       "      <td>Jakob Christoph Heer</td>\n",
       "      <td>Der Wetterwart_3</td>\n",
       "      <td>1905</td>\n",
       "      <td>10000</td>\n",
       "      <td>uns stets ein treuer Nachbar gewesen . « Ich h...</td>\n",
       "    </tr>\n",
       "    <tr>\n",
       "      <th>3</th>\n",
       "      <td>Jakob_Christoph_Heer_-_Der_Wetterwart_(1905)_4</td>\n",
       "      <td>Jakob Christoph Heer</td>\n",
       "      <td>Der Wetterwart_4</td>\n",
       "      <td>1905</td>\n",
       "      <td>10000</td>\n",
       "      <td>mit Feierlichkeit . Wozu rief er mich nur ? Al...</td>\n",
       "    </tr>\n",
       "    <tr>\n",
       "      <th>4</th>\n",
       "      <td>Jakob_Christoph_Heer_-_Der_Wetterwart_(1905)_5</td>\n",
       "      <td>Jakob Christoph Heer</td>\n",
       "      <td>Der Wetterwart_5</td>\n",
       "      <td>1905</td>\n",
       "      <td>10000</td>\n",
       "      <td>sein Schwager und seine Schwester eine kleine ...</td>\n",
       "    </tr>\n",
       "  </tbody>\n",
       "</table>\n",
       "</div>"
      ],
      "text/plain": [
       "                                         filename                author  \\\n",
       "0  Jakob_Christoph_Heer_-_Der_Wetterwart_(1905)_1  Jakob Christoph Heer   \n",
       "1  Jakob_Christoph_Heer_-_Der_Wetterwart_(1905)_2  Jakob Christoph Heer   \n",
       "2  Jakob_Christoph_Heer_-_Der_Wetterwart_(1905)_3  Jakob Christoph Heer   \n",
       "3  Jakob_Christoph_Heer_-_Der_Wetterwart_(1905)_4  Jakob Christoph Heer   \n",
       "4  Jakob_Christoph_Heer_-_Der_Wetterwart_(1905)_5  Jakob Christoph Heer   \n",
       "\n",
       "              title  year  textlength  \\\n",
       "0  Der Wetterwart_1  1905       10000   \n",
       "1  Der Wetterwart_2  1905       10000   \n",
       "2  Der Wetterwart_3  1905       10000   \n",
       "3  Der Wetterwart_4  1905       10000   \n",
       "4  Der Wetterwart_5  1905       10000   \n",
       "\n",
       "                                                text  \n",
       "0  1925 I Die feierliche Abendhelle steht über de...  \n",
       "1  spüre es , die Ingenieurkunst wäre mein innigs...  \n",
       "2  uns stets ein treuer Nachbar gewesen . « Ich h...  \n",
       "3  mit Feierlichkeit . Wozu rief er mich nur ? Al...  \n",
       "4  sein Schwager und seine Schwester eine kleine ...  "
      ]
     },
     "execution_count": 18,
     "metadata": {},
     "output_type": "execute_result"
    }
   ],
   "source": [
    "%%time\n",
    "new_corpus = split_texts_into_segments(corpus, \n",
    "                                       n=segments,\n",
    "                                       same_len=True)\n",
    "new_corpus.head()"
   ]
  },
  {
   "cell_type": "code",
   "execution_count": 19,
   "metadata": {},
   "outputs": [
    {
     "data": {
      "text/plain": [
       "(4736, 6)"
      ]
     },
     "execution_count": 19,
     "metadata": {},
     "output_type": "execute_result"
    }
   ],
   "source": [
    "new_corpus.shape"
   ]
  },
  {
   "cell_type": "code",
   "execution_count": 20,
   "metadata": {},
   "outputs": [],
   "source": [
    "#new_corpus.to_csv(f\"../data/corpora/prose_corpus_{segments}seg.csv\", index=False)"
   ]
  },
  {
   "cell_type": "code",
   "execution_count": null,
   "metadata": {},
   "outputs": [],
   "source": []
  }
 ],
 "metadata": {
  "kernelspec": {
   "display_name": "Python 3",
   "language": "python",
   "name": "python3"
  },
  "language_info": {
   "codemirror_mode": {
    "name": "ipython",
    "version": 3
   },
   "file_extension": ".py",
   "mimetype": "text/x-python",
   "name": "python",
   "nbconvert_exporter": "python",
   "pygments_lexer": "ipython3",
   "version": "3.7.3"
  }
 },
 "nbformat": 4,
 "nbformat_minor": 2
}
