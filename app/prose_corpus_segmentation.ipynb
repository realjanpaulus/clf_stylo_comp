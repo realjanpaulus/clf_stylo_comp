{
 "cells": [
  {
   "cell_type": "markdown",
   "metadata": {},
   "source": [
    "# Prose corpus segmentation"
   ]
  },
  {
   "cell_type": "code",
   "execution_count": 1,
   "metadata": {},
   "outputs": [],
   "source": [
    "from nltk import word_tokenize\n",
    "import numpy as np\n",
    "import pandas as pd\n",
    "from typing import Dict, List, Optional, Tuple, Union\n",
    "from utils import build_chunks, split_texts_into_segments, unify_texts_amount"
   ]
  },
  {
   "cell_type": "code",
   "execution_count": 2,
   "metadata": {},
   "outputs": [],
   "source": [
    "corpus = pd.read_csv(\"../data/corpora/prose_corpus.csv\")"
   ]
  },
  {
   "cell_type": "markdown",
   "metadata": {},
   "source": [
    "### hyperparameter\n",
    "\n",
    "Segments: 10000, 25000"
   ]
  },
  {
   "cell_type": "code",
   "execution_count": 3,
   "metadata": {},
   "outputs": [],
   "source": [
    "segments = 10000"
   ]
  },
  {
   "cell_type": "markdown",
   "metadata": {},
   "source": [
    "### Splitting into segments"
   ]
  },
  {
   "cell_type": "code",
   "execution_count": 4,
   "metadata": {},
   "outputs": [
    {
     "name": "stdout",
     "output_type": "stream",
     "text": [
      "CPU times: user 4min 6s, sys: 405 ms, total: 4min 7s\n",
      "Wall time: 4min 7s\n"
     ]
    },
    {
     "data": {
      "text/html": [
       "<div>\n",
       "<style scoped>\n",
       "    .dataframe tbody tr th:only-of-type {\n",
       "        vertical-align: middle;\n",
       "    }\n",
       "\n",
       "    .dataframe tbody tr th {\n",
       "        vertical-align: top;\n",
       "    }\n",
       "\n",
       "    .dataframe thead th {\n",
       "        text-align: right;\n",
       "    }\n",
       "</style>\n",
       "<table border=\"1\" class=\"dataframe\">\n",
       "  <thead>\n",
       "    <tr style=\"text-align: right;\">\n",
       "      <th></th>\n",
       "      <th>filename</th>\n",
       "      <th>author</th>\n",
       "      <th>title</th>\n",
       "      <th>year</th>\n",
       "      <th>textlength</th>\n",
       "      <th>text</th>\n",
       "    </tr>\n",
       "  </thead>\n",
       "  <tbody>\n",
       "    <tr>\n",
       "      <th>0</th>\n",
       "      <td>Jakob_Christoph_Heer_-_Der_Wetterwart_(1905)_1</td>\n",
       "      <td>Jakob Christoph Heer</td>\n",
       "      <td>Der Wetterwart_1</td>\n",
       "      <td>1905</td>\n",
       "      <td>10000</td>\n",
       "      <td>1925 I Die feierliche Abendhelle steht über de...</td>\n",
       "    </tr>\n",
       "    <tr>\n",
       "      <th>1</th>\n",
       "      <td>Jakob_Christoph_Heer_-_Der_Wetterwart_(1905)_2</td>\n",
       "      <td>Jakob Christoph Heer</td>\n",
       "      <td>Der Wetterwart_2</td>\n",
       "      <td>1905</td>\n",
       "      <td>10000</td>\n",
       "      <td>spüre es , die Ingenieurkunst wäre mein innigs...</td>\n",
       "    </tr>\n",
       "    <tr>\n",
       "      <th>2</th>\n",
       "      <td>Jakob_Christoph_Heer_-_Der_Wetterwart_(1905)_3</td>\n",
       "      <td>Jakob Christoph Heer</td>\n",
       "      <td>Der Wetterwart_3</td>\n",
       "      <td>1905</td>\n",
       "      <td>10000</td>\n",
       "      <td>uns stets ein treuer Nachbar gewesen . « Ich h...</td>\n",
       "    </tr>\n",
       "    <tr>\n",
       "      <th>3</th>\n",
       "      <td>Johannes_Richard_zur_Megede_-_Der_Ueberkater_-...</td>\n",
       "      <td>Johannes Richard zur Megede</td>\n",
       "      <td>Der Ueberkater - Band 1_1</td>\n",
       "      <td>1904</td>\n",
       "      <td>10000</td>\n",
       "      <td>Erster Band Fräulein Elisabeth von Skal in dan...</td>\n",
       "    </tr>\n",
       "    <tr>\n",
       "      <th>4</th>\n",
       "      <td>Johannes_Richard_zur_Megede_-_Der_Ueberkater_-...</td>\n",
       "      <td>Johannes Richard zur Megede</td>\n",
       "      <td>Der Ueberkater - Band 1_2</td>\n",
       "      <td>1904</td>\n",
       "      <td>10000</td>\n",
       "      <td>. Sollte dieses Dorschgesicht am Ende einem fe...</td>\n",
       "    </tr>\n",
       "  </tbody>\n",
       "</table>\n",
       "</div>"
      ],
      "text/plain": [
       "                                            filename  \\\n",
       "0     Jakob_Christoph_Heer_-_Der_Wetterwart_(1905)_1   \n",
       "1     Jakob_Christoph_Heer_-_Der_Wetterwart_(1905)_2   \n",
       "2     Jakob_Christoph_Heer_-_Der_Wetterwart_(1905)_3   \n",
       "3  Johannes_Richard_zur_Megede_-_Der_Ueberkater_-...   \n",
       "4  Johannes_Richard_zur_Megede_-_Der_Ueberkater_-...   \n",
       "\n",
       "                        author                      title  year  textlength  \\\n",
       "0         Jakob Christoph Heer           Der Wetterwart_1  1905       10000   \n",
       "1         Jakob Christoph Heer           Der Wetterwart_2  1905       10000   \n",
       "2         Jakob Christoph Heer           Der Wetterwart_3  1905       10000   \n",
       "3  Johannes Richard zur Megede  Der Ueberkater - Band 1_1  1904       10000   \n",
       "4  Johannes Richard zur Megede  Der Ueberkater - Band 1_2  1904       10000   \n",
       "\n",
       "                                                text  \n",
       "0  1925 I Die feierliche Abendhelle steht über de...  \n",
       "1  spüre es , die Ingenieurkunst wäre mein innigs...  \n",
       "2  uns stets ein treuer Nachbar gewesen . « Ich h...  \n",
       "3  Erster Band Fräulein Elisabeth von Skal in dan...  \n",
       "4  . Sollte dieses Dorschgesicht am Ende einem fe...  "
      ]
     },
     "execution_count": 4,
     "metadata": {},
     "output_type": "execute_result"
    }
   ],
   "source": [
    "%%time\n",
    "new_corpus = split_texts_into_segments(corpus,\n",
    "                                       max_segments=3,\n",
    "                                       n=segments,\n",
    "                                       same_len=True)\n",
    "new_corpus.head()"
   ]
  },
  {
   "cell_type": "code",
   "execution_count": 38,
   "metadata": {},
   "outputs": [
    {
     "data": {
      "text/plain": [
       "(1464, 6)"
      ]
     },
     "execution_count": 38,
     "metadata": {},
     "output_type": "execute_result"
    }
   ],
   "source": [
    "new_corpus.shape"
   ]
  },
  {
   "cell_type": "code",
   "execution_count": 63,
   "metadata": {},
   "outputs": [],
   "source": [
    "shorten_new_corpus = new_corpus.groupby('author').filter(lambda x : len(x)>20)"
   ]
  },
  {
   "cell_type": "code",
   "execution_count": 64,
   "metadata": {},
   "outputs": [
    {
     "data": {
      "text/plain": [
       "(696, 6)"
      ]
     },
     "execution_count": 64,
     "metadata": {},
     "output_type": "execute_result"
    }
   ],
   "source": [
    "shorten_new_corpus.shape"
   ]
  },
  {
   "cell_type": "code",
   "execution_count": 67,
   "metadata": {},
   "outputs": [
    {
     "data": {
      "text/plain": [
       "(488, 6)"
      ]
     },
     "execution_count": 67,
     "metadata": {},
     "output_type": "execute_result"
    }
   ],
   "source": [
    "corpus.shape"
   ]
  },
  {
   "cell_type": "code",
   "execution_count": 66,
   "metadata": {},
   "outputs": [],
   "source": [
    "#shorten_new_corpus.to_csv(f\"../data/corpora/prose_corpus_{segments}seg.csv\", index=False)"
   ]
  },
  {
   "cell_type": "code",
   "execution_count": null,
   "metadata": {},
   "outputs": [],
   "source": []
  }
 ],
 "metadata": {
  "kernelspec": {
   "display_name": "Python 3",
   "language": "python",
   "name": "python3"
  },
  "language_info": {
   "codemirror_mode": {
    "name": "ipython",
    "version": 3
   },
   "file_extension": ".py",
   "mimetype": "text/x-python",
   "name": "python",
   "nbconvert_exporter": "python",
   "pygments_lexer": "ipython3",
   "version": "3.7.3"
  }
 },
 "nbformat": 4,
 "nbformat_minor": 2
}
