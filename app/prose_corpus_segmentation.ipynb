{
 "cells": [
  {
   "cell_type": "markdown",
   "metadata": {},
   "source": [
    "# Prose corpus segmentation"
   ]
  },
  {
   "cell_type": "code",
   "execution_count": 1,
   "metadata": {},
   "outputs": [],
   "source": [
    "from nltk import word_tokenize\n",
    "import numpy as np\n",
    "import pandas as pd\n",
    "from typing import Dict, List, Optional, Tuple, Union\n",
    "from utils import build_chunks, split_texts_into_segments, unify_texts_amount"
   ]
  },
  {
   "cell_type": "code",
   "execution_count": 2,
   "metadata": {},
   "outputs": [],
   "source": [
    "corpus = pd.read_csv(\"../data/corpora/prose_corpus.csv\")"
   ]
  },
  {
   "cell_type": "markdown",
   "metadata": {},
   "source": [
    "### hyperparameter"
   ]
  },
  {
   "cell_type": "code",
   "execution_count": 100,
   "metadata": {},
   "outputs": [],
   "source": [
    "segments = 10000"
   ]
  },
  {
   "cell_type": "markdown",
   "metadata": {},
   "source": [
    "### Splitting into segments"
   ]
  },
  {
   "cell_type": "code",
   "execution_count": 4,
   "metadata": {},
   "outputs": [
    {
     "name": "stdout",
     "output_type": "stream",
     "text": [
      "CPU times: user 4min 6s, sys: 405 ms, total: 4min 7s\n",
      "Wall time: 4min 7s\n"
     ]
    },
    {
     "data": {
      "text/html": [
       "<div>\n",
       "<style scoped>\n",
       "    .dataframe tbody tr th:only-of-type {\n",
       "        vertical-align: middle;\n",
       "    }\n",
       "\n",
       "    .dataframe tbody tr th {\n",
       "        vertical-align: top;\n",
       "    }\n",
       "\n",
       "    .dataframe thead th {\n",
       "        text-align: right;\n",
       "    }\n",
       "</style>\n",
       "<table border=\"1\" class=\"dataframe\">\n",
       "  <thead>\n",
       "    <tr style=\"text-align: right;\">\n",
       "      <th></th>\n",
       "      <th>filename</th>\n",
       "      <th>author</th>\n",
       "      <th>title</th>\n",
       "      <th>year</th>\n",
       "      <th>textlength</th>\n",
       "      <th>text</th>\n",
       "    </tr>\n",
       "  </thead>\n",
       "  <tbody>\n",
       "    <tr>\n",
       "      <th>0</th>\n",
       "      <td>Jakob_Christoph_Heer_-_Der_Wetterwart_(1905)_1</td>\n",
       "      <td>Jakob Christoph Heer</td>\n",
       "      <td>Der Wetterwart_1</td>\n",
       "      <td>1905</td>\n",
       "      <td>10000</td>\n",
       "      <td>1925 I Die feierliche Abendhelle steht über de...</td>\n",
       "    </tr>\n",
       "    <tr>\n",
       "      <th>1</th>\n",
       "      <td>Jakob_Christoph_Heer_-_Der_Wetterwart_(1905)_2</td>\n",
       "      <td>Jakob Christoph Heer</td>\n",
       "      <td>Der Wetterwart_2</td>\n",
       "      <td>1905</td>\n",
       "      <td>10000</td>\n",
       "      <td>spüre es , die Ingenieurkunst wäre mein innigs...</td>\n",
       "    </tr>\n",
       "    <tr>\n",
       "      <th>2</th>\n",
       "      <td>Jakob_Christoph_Heer_-_Der_Wetterwart_(1905)_3</td>\n",
       "      <td>Jakob Christoph Heer</td>\n",
       "      <td>Der Wetterwart_3</td>\n",
       "      <td>1905</td>\n",
       "      <td>10000</td>\n",
       "      <td>uns stets ein treuer Nachbar gewesen . « Ich h...</td>\n",
       "    </tr>\n",
       "    <tr>\n",
       "      <th>3</th>\n",
       "      <td>Johannes_Richard_zur_Megede_-_Der_Ueberkater_-...</td>\n",
       "      <td>Johannes Richard zur Megede</td>\n",
       "      <td>Der Ueberkater - Band 1_1</td>\n",
       "      <td>1904</td>\n",
       "      <td>10000</td>\n",
       "      <td>Erster Band Fräulein Elisabeth von Skal in dan...</td>\n",
       "    </tr>\n",
       "    <tr>\n",
       "      <th>4</th>\n",
       "      <td>Johannes_Richard_zur_Megede_-_Der_Ueberkater_-...</td>\n",
       "      <td>Johannes Richard zur Megede</td>\n",
       "      <td>Der Ueberkater - Band 1_2</td>\n",
       "      <td>1904</td>\n",
       "      <td>10000</td>\n",
       "      <td>. Sollte dieses Dorschgesicht am Ende einem fe...</td>\n",
       "    </tr>\n",
       "  </tbody>\n",
       "</table>\n",
       "</div>"
      ],
      "text/plain": [
       "                                            filename  \\\n",
       "0     Jakob_Christoph_Heer_-_Der_Wetterwart_(1905)_1   \n",
       "1     Jakob_Christoph_Heer_-_Der_Wetterwart_(1905)_2   \n",
       "2     Jakob_Christoph_Heer_-_Der_Wetterwart_(1905)_3   \n",
       "3  Johannes_Richard_zur_Megede_-_Der_Ueberkater_-...   \n",
       "4  Johannes_Richard_zur_Megede_-_Der_Ueberkater_-...   \n",
       "\n",
       "                        author                      title  year  textlength  \\\n",
       "0         Jakob Christoph Heer           Der Wetterwart_1  1905       10000   \n",
       "1         Jakob Christoph Heer           Der Wetterwart_2  1905       10000   \n",
       "2         Jakob Christoph Heer           Der Wetterwart_3  1905       10000   \n",
       "3  Johannes Richard zur Megede  Der Ueberkater - Band 1_1  1904       10000   \n",
       "4  Johannes Richard zur Megede  Der Ueberkater - Band 1_2  1904       10000   \n",
       "\n",
       "                                                text  \n",
       "0  1925 I Die feierliche Abendhelle steht über de...  \n",
       "1  spüre es , die Ingenieurkunst wäre mein innigs...  \n",
       "2  uns stets ein treuer Nachbar gewesen . « Ich h...  \n",
       "3  Erster Band Fräulein Elisabeth von Skal in dan...  \n",
       "4  . Sollte dieses Dorschgesicht am Ende einem fe...  "
      ]
     },
     "execution_count": 4,
     "metadata": {},
     "output_type": "execute_result"
    }
   ],
   "source": [
    "%%time\n",
    "new_corpus = split_texts_into_segments(corpus,\n",
    "                                       max_segments=3,\n",
    "                                       n=segments,\n",
    "                                       same_len=True)\n",
    "new_corpus.head()"
   ]
  },
  {
   "cell_type": "code",
   "execution_count": 38,
   "metadata": {},
   "outputs": [
    {
     "data": {
      "text/plain": [
       "(1464, 6)"
      ]
     },
     "execution_count": 38,
     "metadata": {},
     "output_type": "execute_result"
    }
   ],
   "source": [
    "new_corpus.shape"
   ]
  },
  {
   "cell_type": "code",
   "execution_count": 63,
   "metadata": {},
   "outputs": [],
   "source": [
    "shorten_new_corpus = new_corpus.groupby('author').filter(lambda x : len(x)>20)"
   ]
  },
  {
   "cell_type": "code",
   "execution_count": 5,
   "metadata": {},
   "outputs": [
    {
     "data": {
      "text/plain": [
       "(696, 6)"
      ]
     },
     "execution_count": 5,
     "metadata": {},
     "output_type": "execute_result"
    }
   ],
   "source": [
    "shorten_new_corpus.shape"
   ]
  },
  {
   "cell_type": "code",
   "execution_count": 6,
   "metadata": {},
   "outputs": [
    {
     "data": {
      "text/plain": [
       "(488, 6)"
      ]
     },
     "execution_count": 6,
     "metadata": {},
     "output_type": "execute_result"
    }
   ],
   "source": [
    "corpus.shape"
   ]
  },
  {
   "cell_type": "code",
   "execution_count": 7,
   "metadata": {},
   "outputs": [],
   "source": [
    "#shorten_new_corpus.to_csv(f\"../data/corpora/prose_corpus_{segments}seg.csv\", index=False)"
   ]
  },
  {
   "cell_type": "markdown",
   "metadata": {},
   "source": [
    "## Preprocessing of the segmentation corpus"
   ]
  },
  {
   "cell_type": "markdown",
   "metadata": {},
   "source": [
    "### Remove punctuation marks"
   ]
  },
  {
   "cell_type": "code",
   "execution_count": 84,
   "metadata": {},
   "outputs": [],
   "source": [
    "shorten_new_corpus = pd.read_csv(\"../data/corpora/prose_corpus_10000seg.csv\")"
   ]
  },
  {
   "cell_type": "code",
   "execution_count": 85,
   "metadata": {},
   "outputs": [
    {
     "data": {
      "text/html": [
       "<div>\n",
       "<style scoped>\n",
       "    .dataframe tbody tr th:only-of-type {\n",
       "        vertical-align: middle;\n",
       "    }\n",
       "\n",
       "    .dataframe tbody tr th {\n",
       "        vertical-align: top;\n",
       "    }\n",
       "\n",
       "    .dataframe thead th {\n",
       "        text-align: right;\n",
       "    }\n",
       "</style>\n",
       "<table border=\"1\" class=\"dataframe\">\n",
       "  <thead>\n",
       "    <tr style=\"text-align: right;\">\n",
       "      <th></th>\n",
       "      <th>filename</th>\n",
       "      <th>author</th>\n",
       "      <th>title</th>\n",
       "      <th>year</th>\n",
       "      <th>textlength</th>\n",
       "      <th>text</th>\n",
       "    </tr>\n",
       "  </thead>\n",
       "  <tbody>\n",
       "    <tr>\n",
       "      <th>0</th>\n",
       "      <td>Jakob_Christoph_Heer_-_Der_Wetterwart_(1905)_1</td>\n",
       "      <td>Jakob Christoph Heer</td>\n",
       "      <td>Der Wetterwart_1</td>\n",
       "      <td>1905</td>\n",
       "      <td>10000</td>\n",
       "      <td>1925 I Die feierliche Abendhelle steht über de...</td>\n",
       "    </tr>\n",
       "    <tr>\n",
       "      <th>1</th>\n",
       "      <td>Jakob_Christoph_Heer_-_Der_Wetterwart_(1905)_2</td>\n",
       "      <td>Jakob Christoph Heer</td>\n",
       "      <td>Der Wetterwart_2</td>\n",
       "      <td>1905</td>\n",
       "      <td>10000</td>\n",
       "      <td>spüre es , die Ingenieurkunst wäre mein innigs...</td>\n",
       "    </tr>\n",
       "  </tbody>\n",
       "</table>\n",
       "</div>"
      ],
      "text/plain": [
       "                                         filename                author  \\\n",
       "0  Jakob_Christoph_Heer_-_Der_Wetterwart_(1905)_1  Jakob Christoph Heer   \n",
       "1  Jakob_Christoph_Heer_-_Der_Wetterwart_(1905)_2  Jakob Christoph Heer   \n",
       "\n",
       "              title  year  textlength  \\\n",
       "0  Der Wetterwart_1  1905       10000   \n",
       "1  Der Wetterwart_2  1905       10000   \n",
       "\n",
       "                                                text  \n",
       "0  1925 I Die feierliche Abendhelle steht über de...  \n",
       "1  spüre es , die Ingenieurkunst wäre mein innigs...  "
      ]
     },
     "execution_count": 85,
     "metadata": {},
     "output_type": "execute_result"
    }
   ],
   "source": [
    "shorten_new_corpus.head(2)"
   ]
  },
  {
   "cell_type": "code",
   "execution_count": 86,
   "metadata": {},
   "outputs": [],
   "source": [
    "from nltk.tokenize import RegexpTokenizer\n",
    "\n",
    "snc2 = shorten_new_corpus\n",
    "tokenizer = RegexpTokenizer(r'\\w+')\n",
    "snc2[\"text\"] = shorten_new_corpus[\"text\"].apply(tokenizer.tokenize)\n",
    "snc2[\"text\"] = snc2[\"text\"].apply(\" \".join)"
   ]
  },
  {
   "cell_type": "code",
   "execution_count": 88,
   "metadata": {},
   "outputs": [
    {
     "data": {
      "text/html": [
       "<div>\n",
       "<style scoped>\n",
       "    .dataframe tbody tr th:only-of-type {\n",
       "        vertical-align: middle;\n",
       "    }\n",
       "\n",
       "    .dataframe tbody tr th {\n",
       "        vertical-align: top;\n",
       "    }\n",
       "\n",
       "    .dataframe thead th {\n",
       "        text-align: right;\n",
       "    }\n",
       "</style>\n",
       "<table border=\"1\" class=\"dataframe\">\n",
       "  <thead>\n",
       "    <tr style=\"text-align: right;\">\n",
       "      <th></th>\n",
       "      <th>filename</th>\n",
       "      <th>author</th>\n",
       "      <th>title</th>\n",
       "      <th>year</th>\n",
       "      <th>textlength</th>\n",
       "      <th>text</th>\n",
       "    </tr>\n",
       "  </thead>\n",
       "  <tbody>\n",
       "    <tr>\n",
       "      <th>0</th>\n",
       "      <td>Jakob_Christoph_Heer_-_Der_Wetterwart_(1905)_1</td>\n",
       "      <td>Jakob Christoph Heer</td>\n",
       "      <td>Der Wetterwart_1</td>\n",
       "      <td>1905</td>\n",
       "      <td>10000</td>\n",
       "      <td>1925 I Die feierliche Abendhelle steht über de...</td>\n",
       "    </tr>\n",
       "    <tr>\n",
       "      <th>1</th>\n",
       "      <td>Jakob_Christoph_Heer_-_Der_Wetterwart_(1905)_2</td>\n",
       "      <td>Jakob Christoph Heer</td>\n",
       "      <td>Der Wetterwart_2</td>\n",
       "      <td>1905</td>\n",
       "      <td>10000</td>\n",
       "      <td>spüre es die Ingenieurkunst wäre mein innigste...</td>\n",
       "    </tr>\n",
       "  </tbody>\n",
       "</table>\n",
       "</div>"
      ],
      "text/plain": [
       "                                         filename                author  \\\n",
       "0  Jakob_Christoph_Heer_-_Der_Wetterwart_(1905)_1  Jakob Christoph Heer   \n",
       "1  Jakob_Christoph_Heer_-_Der_Wetterwart_(1905)_2  Jakob Christoph Heer   \n",
       "\n",
       "              title  year  textlength  \\\n",
       "0  Der Wetterwart_1  1905       10000   \n",
       "1  Der Wetterwart_2  1905       10000   \n",
       "\n",
       "                                                text  \n",
       "0  1925 I Die feierliche Abendhelle steht über de...  \n",
       "1  spüre es die Ingenieurkunst wäre mein innigste...  "
      ]
     },
     "execution_count": 88,
     "metadata": {},
     "output_type": "execute_result"
    }
   ],
   "source": [
    "snc2.head(2)"
   ]
  },
  {
   "cell_type": "markdown",
   "metadata": {},
   "source": [
    "### Remove unique words to an author (there are none)"
   ]
  },
  {
   "cell_type": "markdown",
   "metadata": {},
   "source": [
    "#### remove all columns except 'author' and 'text' and summarize texts of every author"
   ]
  },
  {
   "cell_type": "code",
   "execution_count": 89,
   "metadata": {},
   "outputs": [
    {
     "data": {
      "text/html": [
       "<div>\n",
       "<style scoped>\n",
       "    .dataframe tbody tr th:only-of-type {\n",
       "        vertical-align: middle;\n",
       "    }\n",
       "\n",
       "    .dataframe tbody tr th {\n",
       "        vertical-align: top;\n",
       "    }\n",
       "\n",
       "    .dataframe thead th {\n",
       "        text-align: right;\n",
       "    }\n",
       "</style>\n",
       "<table border=\"1\" class=\"dataframe\">\n",
       "  <thead>\n",
       "    <tr style=\"text-align: right;\">\n",
       "      <th></th>\n",
       "      <th>author</th>\n",
       "      <th>text</th>\n",
       "    </tr>\n",
       "  </thead>\n",
       "  <tbody>\n",
       "    <tr>\n",
       "      <th>0</th>\n",
       "      <td>Jakob Christoph Heer</td>\n",
       "      <td>1925 I Die feierliche Abendhelle steht über de...</td>\n",
       "    </tr>\n",
       "    <tr>\n",
       "      <th>1</th>\n",
       "      <td>Jakob Christoph Heer</td>\n",
       "      <td>spüre es die Ingenieurkunst wäre mein innigste...</td>\n",
       "    </tr>\n",
       "  </tbody>\n",
       "</table>\n",
       "</div>"
      ],
      "text/plain": [
       "                 author                                               text\n",
       "0  Jakob Christoph Heer  1925 I Die feierliche Abendhelle steht über de...\n",
       "1  Jakob Christoph Heer  spüre es die Ingenieurkunst wäre mein innigste..."
      ]
     },
     "execution_count": 89,
     "metadata": {},
     "output_type": "execute_result"
    }
   ],
   "source": [
    "tmps = snc2\n",
    "tmps = tmps.drop(\"filename\", axis=1)\n",
    "tmps = tmps.drop(\"title\", axis=1)\n",
    "tmps = tmps.drop(\"year\", axis=1)\n",
    "tmps = tmps.drop(\"textlength\", axis=1)\n",
    "tmps.head(2)"
   ]
  },
  {
   "cell_type": "code",
   "execution_count": 90,
   "metadata": {},
   "outputs": [],
   "source": [
    "from collections import defaultdict\n",
    "\n",
    "summarized_dict = defaultdict(list)\n",
    "actual_author = \"\"\n",
    "for index, row in tmps.iterrows():\n",
    "    summarized_dict[row[\"author\"]].append(row[\"text\"])\n",
    "    \n",
    "sum_dict = {}\n",
    "for k,v in summarized_dict.items():\n",
    "    sum_dict[k] = \" \".join(v)\n",
    "    \n",
    "sum_corpus = pd.DataFrame(sum_dict.items(), columns=[\"author\", \"text\"])"
   ]
  },
  {
   "cell_type": "code",
   "execution_count": 93,
   "metadata": {},
   "outputs": [],
   "source": [
    "from utils import document_term_matrix\n",
    "\n",
    "dtm, vector = document_term_matrix(sum_corpus, \n",
    "                                   \"bow\", \n",
    "                                   \"author\", \n",
    "                                   max_features=5000,\n",
    "                                   binary=True)"
   ]
  },
  {
   "cell_type": "code",
   "execution_count": 94,
   "metadata": {},
   "outputs": [
    {
     "data": {
      "text/html": [
       "<div>\n",
       "<style scoped>\n",
       "    .dataframe tbody tr th:only-of-type {\n",
       "        vertical-align: middle;\n",
       "    }\n",
       "\n",
       "    .dataframe tbody tr th {\n",
       "        vertical-align: top;\n",
       "    }\n",
       "\n",
       "    .dataframe thead th {\n",
       "        text-align: right;\n",
       "    }\n",
       "</style>\n",
       "<table border=\"1\" class=\"dataframe\">\n",
       "  <thead>\n",
       "    <tr style=\"text-align: right;\">\n",
       "      <th></th>\n",
       "      <th>10</th>\n",
       "      <th>ab</th>\n",
       "      <th>abend</th>\n",
       "      <th>abendessen</th>\n",
       "      <th>abends</th>\n",
       "      <th>abenteuer</th>\n",
       "      <th>aber</th>\n",
       "      <th>abermals</th>\n",
       "      <th>abgeben</th>\n",
       "      <th>abgelegt</th>\n",
       "      <th>...</th>\n",
       "      <th>überzeugen</th>\n",
       "      <th>überzeugt</th>\n",
       "      <th>überzeugung</th>\n",
       "      <th>übrig</th>\n",
       "      <th>übrige</th>\n",
       "      <th>übrigen</th>\n",
       "      <th>übrigens</th>\n",
       "      <th>übte</th>\n",
       "      <th>üppig</th>\n",
       "      <th>üppige</th>\n",
       "    </tr>\n",
       "  </thead>\n",
       "  <tbody>\n",
       "    <tr>\n",
       "      <th>Jakob Christoph Heer</th>\n",
       "      <td>1</td>\n",
       "      <td>1</td>\n",
       "      <td>1</td>\n",
       "      <td>1</td>\n",
       "      <td>1</td>\n",
       "      <td>1</td>\n",
       "      <td>1</td>\n",
       "      <td>0</td>\n",
       "      <td>0</td>\n",
       "      <td>1</td>\n",
       "      <td>...</td>\n",
       "      <td>0</td>\n",
       "      <td>1</td>\n",
       "      <td>1</td>\n",
       "      <td>1</td>\n",
       "      <td>1</td>\n",
       "      <td>1</td>\n",
       "      <td>1</td>\n",
       "      <td>1</td>\n",
       "      <td>1</td>\n",
       "      <td>1</td>\n",
       "    </tr>\n",
       "    <tr>\n",
       "      <th>Wilhelm Heinrich Riehl</th>\n",
       "      <td>1</td>\n",
       "      <td>1</td>\n",
       "      <td>1</td>\n",
       "      <td>1</td>\n",
       "      <td>1</td>\n",
       "      <td>1</td>\n",
       "      <td>1</td>\n",
       "      <td>1</td>\n",
       "      <td>1</td>\n",
       "      <td>1</td>\n",
       "      <td>...</td>\n",
       "      <td>1</td>\n",
       "      <td>1</td>\n",
       "      <td>1</td>\n",
       "      <td>1</td>\n",
       "      <td>1</td>\n",
       "      <td>1</td>\n",
       "      <td>1</td>\n",
       "      <td>1</td>\n",
       "      <td>1</td>\n",
       "      <td>1</td>\n",
       "    </tr>\n",
       "  </tbody>\n",
       "</table>\n",
       "<p>2 rows × 5000 columns</p>\n",
       "</div>"
      ],
      "text/plain": [
       "                        10  ab  abend  abendessen  abends  abenteuer  aber  \\\n",
       "Jakob Christoph Heer     1   1      1           1       1          1     1   \n",
       "Wilhelm Heinrich Riehl   1   1      1           1       1          1     1   \n",
       "\n",
       "                        abermals  abgeben  abgelegt  ...  überzeugen  \\\n",
       "Jakob Christoph Heer           0        0         1  ...           0   \n",
       "Wilhelm Heinrich Riehl         1        1         1  ...           1   \n",
       "\n",
       "                        überzeugt  überzeugung  übrig  übrige  übrigen  \\\n",
       "Jakob Christoph Heer            1            1      1       1        1   \n",
       "Wilhelm Heinrich Riehl          1            1      1       1        1   \n",
       "\n",
       "                        übrigens  übte  üppig  üppige  \n",
       "Jakob Christoph Heer           1     1      1       1  \n",
       "Wilhelm Heinrich Riehl         1     1      1       1  \n",
       "\n",
       "[2 rows x 5000 columns]"
      ]
     },
     "execution_count": 94,
     "metadata": {},
     "output_type": "execute_result"
    }
   ],
   "source": [
    "dtm.head(2)"
   ]
  },
  {
   "cell_type": "code",
   "execution_count": 95,
   "metadata": {},
   "outputs": [],
   "source": [
    "for col in dtm.columns:\n",
    "    sumcol = sum(dtm[col])\n",
    "    if sumcol == 1:\n",
    "        print(sumcol)"
   ]
  },
  {
   "cell_type": "markdown",
   "metadata": {},
   "source": [
    "There are no words which only occurs in texts of one author for this case."
   ]
  },
  {
   "cell_type": "markdown",
   "metadata": {},
   "source": [
    "### Remove words with counts less than 5 (there are none)"
   ]
  },
  {
   "cell_type": "code",
   "execution_count": 96,
   "metadata": {},
   "outputs": [],
   "source": [
    "dtm2, vector = document_term_matrix(sum_corpus, \n",
    "                                   \"bow\", \n",
    "                                   \"author\", \n",
    "                                   max_features=5000,\n",
    "                                   binary=False)"
   ]
  },
  {
   "cell_type": "code",
   "execution_count": 97,
   "metadata": {},
   "outputs": [
    {
     "data": {
      "text/html": [
       "<div>\n",
       "<style scoped>\n",
       "    .dataframe tbody tr th:only-of-type {\n",
       "        vertical-align: middle;\n",
       "    }\n",
       "\n",
       "    .dataframe tbody tr th {\n",
       "        vertical-align: top;\n",
       "    }\n",
       "\n",
       "    .dataframe thead th {\n",
       "        text-align: right;\n",
       "    }\n",
       "</style>\n",
       "<table border=\"1\" class=\"dataframe\">\n",
       "  <thead>\n",
       "    <tr style=\"text-align: right;\">\n",
       "      <th></th>\n",
       "      <th>ab</th>\n",
       "      <th>abend</th>\n",
       "      <th>abends</th>\n",
       "      <th>abenteuer</th>\n",
       "      <th>aber</th>\n",
       "      <th>abermals</th>\n",
       "      <th>abgesehen</th>\n",
       "      <th>abgrund</th>\n",
       "      <th>abraham</th>\n",
       "      <th>abreise</th>\n",
       "      <th>...</th>\n",
       "      <th>überrascht</th>\n",
       "      <th>überraschung</th>\n",
       "      <th>übers</th>\n",
       "      <th>überzeugen</th>\n",
       "      <th>überzeugt</th>\n",
       "      <th>überzeugung</th>\n",
       "      <th>übrig</th>\n",
       "      <th>übrige</th>\n",
       "      <th>übrigen</th>\n",
       "      <th>übrigens</th>\n",
       "    </tr>\n",
       "  </thead>\n",
       "  <tbody>\n",
       "    <tr>\n",
       "      <th>Jakob Christoph Heer</th>\n",
       "      <td>66</td>\n",
       "      <td>106</td>\n",
       "      <td>12</td>\n",
       "      <td>3</td>\n",
       "      <td>1157</td>\n",
       "      <td>0</td>\n",
       "      <td>4</td>\n",
       "      <td>4</td>\n",
       "      <td>0</td>\n",
       "      <td>5</td>\n",
       "      <td>...</td>\n",
       "      <td>17</td>\n",
       "      <td>14</td>\n",
       "      <td>2</td>\n",
       "      <td>0</td>\n",
       "      <td>9</td>\n",
       "      <td>2</td>\n",
       "      <td>5</td>\n",
       "      <td>3</td>\n",
       "      <td>20</td>\n",
       "      <td>10</td>\n",
       "    </tr>\n",
       "    <tr>\n",
       "      <th>Wilhelm Heinrich Riehl</th>\n",
       "      <td>59</td>\n",
       "      <td>91</td>\n",
       "      <td>29</td>\n",
       "      <td>7</td>\n",
       "      <td>1131</td>\n",
       "      <td>15</td>\n",
       "      <td>1</td>\n",
       "      <td>6</td>\n",
       "      <td>6</td>\n",
       "      <td>3</td>\n",
       "      <td>...</td>\n",
       "      <td>10</td>\n",
       "      <td>8</td>\n",
       "      <td>3</td>\n",
       "      <td>2</td>\n",
       "      <td>1</td>\n",
       "      <td>3</td>\n",
       "      <td>8</td>\n",
       "      <td>7</td>\n",
       "      <td>13</td>\n",
       "      <td>35</td>\n",
       "    </tr>\n",
       "  </tbody>\n",
       "</table>\n",
       "<p>2 rows × 5000 columns</p>\n",
       "</div>"
      ],
      "text/plain": [
       "                        ab  abend  abends  abenteuer  aber  abermals  \\\n",
       "Jakob Christoph Heer    66    106      12          3  1157         0   \n",
       "Wilhelm Heinrich Riehl  59     91      29          7  1131        15   \n",
       "\n",
       "                        abgesehen  abgrund  abraham  abreise  ...  überrascht  \\\n",
       "Jakob Christoph Heer            4        4        0        5  ...          17   \n",
       "Wilhelm Heinrich Riehl          1        6        6        3  ...          10   \n",
       "\n",
       "                        überraschung  übers  überzeugen  überzeugt  \\\n",
       "Jakob Christoph Heer              14      2           0          9   \n",
       "Wilhelm Heinrich Riehl             8      3           2          1   \n",
       "\n",
       "                        überzeugung  übrig  übrige  übrigen  übrigens  \n",
       "Jakob Christoph Heer              2      5       3       20        10  \n",
       "Wilhelm Heinrich Riehl            3      8       7       13        35  \n",
       "\n",
       "[2 rows x 5000 columns]"
      ]
     },
     "execution_count": 97,
     "metadata": {},
     "output_type": "execute_result"
    }
   ],
   "source": [
    "dtm2.head(2)"
   ]
  },
  {
   "cell_type": "code",
   "execution_count": 98,
   "metadata": {},
   "outputs": [],
   "source": [
    "for col in dtm2.columns:\n",
    "    sumcol = sum(dtm2[col])\n",
    "    if sumcol <= 5:\n",
    "        print(sumcol)"
   ]
  },
  {
   "cell_type": "markdown",
   "metadata": {},
   "source": [
    "There are no words which occurs less than 6 times."
   ]
  },
  {
   "cell_type": "markdown",
   "metadata": {},
   "source": [
    "#### saving prose corpus with segmentation"
   ]
  },
  {
   "cell_type": "code",
   "execution_count": 102,
   "metadata": {},
   "outputs": [],
   "source": [
    "#snc2.to_csv(f\"../data/corpora/prose_corpus_{segments}seg.csv\", index=False)"
   ]
  },
  {
   "cell_type": "code",
   "execution_count": null,
   "metadata": {},
   "outputs": [],
   "source": []
  }
 ],
 "metadata": {
  "kernelspec": {
   "display_name": "Python 3",
   "language": "python",
   "name": "python3"
  },
  "language_info": {
   "codemirror_mode": {
    "name": "ipython",
    "version": 3
   },
   "file_extension": ".py",
   "mimetype": "text/x-python",
   "name": "python",
   "nbconvert_exporter": "python",
   "pygments_lexer": "ipython3",
   "version": "3.7.3"
  }
 },
 "nbformat": 4,
 "nbformat_minor": 2
}
